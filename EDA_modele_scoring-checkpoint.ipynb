{
 "cells": [
  {
   "cell_type": "code",
   "execution_count": 1,
   "id": "a11d710c-8a40-441c-944d-c4eb87b70999",
   "metadata": {},
   "outputs": [],
   "source": [
    "#Librairies\n",
    "import os\n",
    "\n",
    "#Data treatment libraries\n",
    "import pandas as pd\n",
    "import numpy as np\n",
    "import scipy as sp\n",
    "\n",
    "#Graph librairies\n",
    "import matplotlib.pyplot as plt\n",
    "import seaborn as sns\n",
    "\n",
    "#Scikitlearn librairies\n",
    "from sklearn.preprocessing import LabelEncoder\n",
    "from sklearn.preprocessing import OneHotEncoder\n",
    "from sklearn.impute import SimpleImputer\n",
    "from sklearn.experimental import enable_iterative_imputer\n",
    "from sklearn.impute import IterativeImputer"
   ]
  },
  {
   "cell_type": "code",
   "execution_count": 2,
   "id": "3881f667-7f85-423e-81c0-d7b760808b2c",
   "metadata": {},
   "outputs": [
    {
     "name": "stdout",
     "output_type": "stream",
     "text": [
      "['application_test.csv', 'application_test_treated.csv', 'application_train.csv', 'application_train_treated.csv', 'bureau.csv', 'bureau_balance.csv', 'credit_card_balance.csv', 'HomeCredit_columns_description.csv', 'installments_payments.csv', 'POS_CASH_balance.csv', 'previous_application.csv', 'sample_submission.csv']\n"
     ]
    }
   ],
   "source": [
    "print(os.listdir(\"data\"))"
   ]
  },
  {
   "cell_type": "code",
   "execution_count": 3,
   "id": "24e8b9b6-977f-4297-9167-137966ea6fba",
   "metadata": {},
   "outputs": [],
   "source": [
    "#Define csv paths\n",
    "csv_file_path_train = os.path.join('data', 'application_train.csv')\n",
    "csv_file_path_test = os.path.join('data', 'application_test.csv')"
   ]
  },
  {
   "cell_type": "code",
   "execution_count": 4,
   "id": "ceef0b47-5e7a-4b5c-a839-fef1be94dec0",
   "metadata": {},
   "outputs": [],
   "source": [
    "#Load files into different df\n",
    "train_data = pd.read_csv(csv_file_path_train)\n",
    "test_data = pd.read_csv(csv_file_path_test)"
   ]
  },
  {
   "cell_type": "code",
   "execution_count": 5,
   "id": "ee569fa4-bdf8-4749-bb92-7b5602fa66a4",
   "metadata": {},
   "outputs": [
    {
     "data": {
      "text/html": [
       "<div>\n",
       "<style scoped>\n",
       "    .dataframe tbody tr th:only-of-type {\n",
       "        vertical-align: middle;\n",
       "    }\n",
       "\n",
       "    .dataframe tbody tr th {\n",
       "        vertical-align: top;\n",
       "    }\n",
       "\n",
       "    .dataframe thead th {\n",
       "        text-align: right;\n",
       "    }\n",
       "</style>\n",
       "<table border=\"1\" class=\"dataframe\">\n",
       "  <thead>\n",
       "    <tr style=\"text-align: right;\">\n",
       "      <th></th>\n",
       "      <th>SK_ID_CURR</th>\n",
       "      <th>TARGET</th>\n",
       "      <th>NAME_CONTRACT_TYPE</th>\n",
       "      <th>CODE_GENDER</th>\n",
       "      <th>FLAG_OWN_CAR</th>\n",
       "      <th>FLAG_OWN_REALTY</th>\n",
       "      <th>CNT_CHILDREN</th>\n",
       "      <th>AMT_INCOME_TOTAL</th>\n",
       "      <th>AMT_CREDIT</th>\n",
       "      <th>AMT_ANNUITY</th>\n",
       "      <th>...</th>\n",
       "      <th>FLAG_DOCUMENT_18</th>\n",
       "      <th>FLAG_DOCUMENT_19</th>\n",
       "      <th>FLAG_DOCUMENT_20</th>\n",
       "      <th>FLAG_DOCUMENT_21</th>\n",
       "      <th>AMT_REQ_CREDIT_BUREAU_HOUR</th>\n",
       "      <th>AMT_REQ_CREDIT_BUREAU_DAY</th>\n",
       "      <th>AMT_REQ_CREDIT_BUREAU_WEEK</th>\n",
       "      <th>AMT_REQ_CREDIT_BUREAU_MON</th>\n",
       "      <th>AMT_REQ_CREDIT_BUREAU_QRT</th>\n",
       "      <th>AMT_REQ_CREDIT_BUREAU_YEAR</th>\n",
       "    </tr>\n",
       "  </thead>\n",
       "  <tbody>\n",
       "    <tr>\n",
       "      <th>0</th>\n",
       "      <td>100002</td>\n",
       "      <td>1</td>\n",
       "      <td>Cash loans</td>\n",
       "      <td>M</td>\n",
       "      <td>N</td>\n",
       "      <td>Y</td>\n",
       "      <td>0</td>\n",
       "      <td>202500.0</td>\n",
       "      <td>406597.5</td>\n",
       "      <td>24700.5</td>\n",
       "      <td>...</td>\n",
       "      <td>0</td>\n",
       "      <td>0</td>\n",
       "      <td>0</td>\n",
       "      <td>0</td>\n",
       "      <td>0.0</td>\n",
       "      <td>0.0</td>\n",
       "      <td>0.0</td>\n",
       "      <td>0.0</td>\n",
       "      <td>0.0</td>\n",
       "      <td>1.0</td>\n",
       "    </tr>\n",
       "    <tr>\n",
       "      <th>1</th>\n",
       "      <td>100003</td>\n",
       "      <td>0</td>\n",
       "      <td>Cash loans</td>\n",
       "      <td>F</td>\n",
       "      <td>N</td>\n",
       "      <td>N</td>\n",
       "      <td>0</td>\n",
       "      <td>270000.0</td>\n",
       "      <td>1293502.5</td>\n",
       "      <td>35698.5</td>\n",
       "      <td>...</td>\n",
       "      <td>0</td>\n",
       "      <td>0</td>\n",
       "      <td>0</td>\n",
       "      <td>0</td>\n",
       "      <td>0.0</td>\n",
       "      <td>0.0</td>\n",
       "      <td>0.0</td>\n",
       "      <td>0.0</td>\n",
       "      <td>0.0</td>\n",
       "      <td>0.0</td>\n",
       "    </tr>\n",
       "    <tr>\n",
       "      <th>2</th>\n",
       "      <td>100004</td>\n",
       "      <td>0</td>\n",
       "      <td>Revolving loans</td>\n",
       "      <td>M</td>\n",
       "      <td>Y</td>\n",
       "      <td>Y</td>\n",
       "      <td>0</td>\n",
       "      <td>67500.0</td>\n",
       "      <td>135000.0</td>\n",
       "      <td>6750.0</td>\n",
       "      <td>...</td>\n",
       "      <td>0</td>\n",
       "      <td>0</td>\n",
       "      <td>0</td>\n",
       "      <td>0</td>\n",
       "      <td>0.0</td>\n",
       "      <td>0.0</td>\n",
       "      <td>0.0</td>\n",
       "      <td>0.0</td>\n",
       "      <td>0.0</td>\n",
       "      <td>0.0</td>\n",
       "    </tr>\n",
       "    <tr>\n",
       "      <th>3</th>\n",
       "      <td>100006</td>\n",
       "      <td>0</td>\n",
       "      <td>Cash loans</td>\n",
       "      <td>F</td>\n",
       "      <td>N</td>\n",
       "      <td>Y</td>\n",
       "      <td>0</td>\n",
       "      <td>135000.0</td>\n",
       "      <td>312682.5</td>\n",
       "      <td>29686.5</td>\n",
       "      <td>...</td>\n",
       "      <td>0</td>\n",
       "      <td>0</td>\n",
       "      <td>0</td>\n",
       "      <td>0</td>\n",
       "      <td>NaN</td>\n",
       "      <td>NaN</td>\n",
       "      <td>NaN</td>\n",
       "      <td>NaN</td>\n",
       "      <td>NaN</td>\n",
       "      <td>NaN</td>\n",
       "    </tr>\n",
       "    <tr>\n",
       "      <th>4</th>\n",
       "      <td>100007</td>\n",
       "      <td>0</td>\n",
       "      <td>Cash loans</td>\n",
       "      <td>M</td>\n",
       "      <td>N</td>\n",
       "      <td>Y</td>\n",
       "      <td>0</td>\n",
       "      <td>121500.0</td>\n",
       "      <td>513000.0</td>\n",
       "      <td>21865.5</td>\n",
       "      <td>...</td>\n",
       "      <td>0</td>\n",
       "      <td>0</td>\n",
       "      <td>0</td>\n",
       "      <td>0</td>\n",
       "      <td>0.0</td>\n",
       "      <td>0.0</td>\n",
       "      <td>0.0</td>\n",
       "      <td>0.0</td>\n",
       "      <td>0.0</td>\n",
       "      <td>0.0</td>\n",
       "    </tr>\n",
       "  </tbody>\n",
       "</table>\n",
       "<p>5 rows × 122 columns</p>\n",
       "</div>"
      ],
      "text/plain": [
       "   SK_ID_CURR  TARGET NAME_CONTRACT_TYPE CODE_GENDER FLAG_OWN_CAR  \\\n",
       "0      100002       1         Cash loans           M            N   \n",
       "1      100003       0         Cash loans           F            N   \n",
       "2      100004       0    Revolving loans           M            Y   \n",
       "3      100006       0         Cash loans           F            N   \n",
       "4      100007       0         Cash loans           M            N   \n",
       "\n",
       "  FLAG_OWN_REALTY  CNT_CHILDREN  AMT_INCOME_TOTAL  AMT_CREDIT  AMT_ANNUITY  \\\n",
       "0               Y             0          202500.0    406597.5      24700.5   \n",
       "1               N             0          270000.0   1293502.5      35698.5   \n",
       "2               Y             0           67500.0    135000.0       6750.0   \n",
       "3               Y             0          135000.0    312682.5      29686.5   \n",
       "4               Y             0          121500.0    513000.0      21865.5   \n",
       "\n",
       "   ...  FLAG_DOCUMENT_18 FLAG_DOCUMENT_19 FLAG_DOCUMENT_20 FLAG_DOCUMENT_21  \\\n",
       "0  ...                 0                0                0                0   \n",
       "1  ...                 0                0                0                0   \n",
       "2  ...                 0                0                0                0   \n",
       "3  ...                 0                0                0                0   \n",
       "4  ...                 0                0                0                0   \n",
       "\n",
       "  AMT_REQ_CREDIT_BUREAU_HOUR AMT_REQ_CREDIT_BUREAU_DAY  \\\n",
       "0                        0.0                       0.0   \n",
       "1                        0.0                       0.0   \n",
       "2                        0.0                       0.0   \n",
       "3                        NaN                       NaN   \n",
       "4                        0.0                       0.0   \n",
       "\n",
       "   AMT_REQ_CREDIT_BUREAU_WEEK  AMT_REQ_CREDIT_BUREAU_MON  \\\n",
       "0                         0.0                        0.0   \n",
       "1                         0.0                        0.0   \n",
       "2                         0.0                        0.0   \n",
       "3                         NaN                        NaN   \n",
       "4                         0.0                        0.0   \n",
       "\n",
       "   AMT_REQ_CREDIT_BUREAU_QRT  AMT_REQ_CREDIT_BUREAU_YEAR  \n",
       "0                        0.0                         1.0  \n",
       "1                        0.0                         0.0  \n",
       "2                        0.0                         0.0  \n",
       "3                        NaN                         NaN  \n",
       "4                        0.0                         0.0  \n",
       "\n",
       "[5 rows x 122 columns]"
      ]
     },
     "execution_count": 5,
     "metadata": {},
     "output_type": "execute_result"
    }
   ],
   "source": [
    "#Quick glance on training set\n",
    "train_data.head()"
   ]
  },
  {
   "cell_type": "markdown",
   "id": "559a03da-8c43-4c47-be62-07f28c4e6565",
   "metadata": {},
   "source": [
    "## EDA"
   ]
  },
  {
   "cell_type": "code",
   "execution_count": 6,
   "id": "bb3ac491-7aa7-4e00-adf3-22787514af18",
   "metadata": {},
   "outputs": [
    {
     "name": "stdout",
     "output_type": "stream",
     "text": [
      "<class 'pandas.core.frame.DataFrame'>\n",
      "RangeIndex: 307511 entries, 0 to 307510\n",
      "Columns: 122 entries, SK_ID_CURR to AMT_REQ_CREDIT_BUREAU_YEAR\n",
      "dtypes: float64(65), int64(41), object(16)\n",
      "memory usage: 286.2+ MB\n"
     ]
    },
    {
     "data": {
      "text/plain": [
       "((307511, 122),\n",
       "           SK_ID_CURR         TARGET   CNT_CHILDREN  AMT_INCOME_TOTAL  \\\n",
       " count  307511.000000  307511.000000  307511.000000      3.075110e+05   \n",
       " mean   278180.518577       0.080729       0.417052      1.687979e+05   \n",
       " std    102790.175348       0.272419       0.722121      2.371231e+05   \n",
       " min    100002.000000       0.000000       0.000000      2.565000e+04   \n",
       " 25%    189145.500000       0.000000       0.000000      1.125000e+05   \n",
       " 50%    278202.000000       0.000000       0.000000      1.471500e+05   \n",
       " 75%    367142.500000       0.000000       1.000000      2.025000e+05   \n",
       " max    456255.000000       1.000000      19.000000      1.170000e+08   \n",
       " \n",
       "          AMT_CREDIT    AMT_ANNUITY  AMT_GOODS_PRICE  \\\n",
       " count  3.075110e+05  307499.000000     3.072330e+05   \n",
       " mean   5.990260e+05   27108.573909     5.383962e+05   \n",
       " std    4.024908e+05   14493.737315     3.694465e+05   \n",
       " min    4.500000e+04    1615.500000     4.050000e+04   \n",
       " 25%    2.700000e+05   16524.000000     2.385000e+05   \n",
       " 50%    5.135310e+05   24903.000000     4.500000e+05   \n",
       " 75%    8.086500e+05   34596.000000     6.795000e+05   \n",
       " max    4.050000e+06  258025.500000     4.050000e+06   \n",
       " \n",
       "        REGION_POPULATION_RELATIVE     DAYS_BIRTH  DAYS_EMPLOYED  ...  \\\n",
       " count               307511.000000  307511.000000  307511.000000  ...   \n",
       " mean                     0.020868  -16036.995067   63815.045904  ...   \n",
       " std                      0.013831    4363.988632  141275.766519  ...   \n",
       " min                      0.000290  -25229.000000  -17912.000000  ...   \n",
       " 25%                      0.010006  -19682.000000   -2760.000000  ...   \n",
       " 50%                      0.018850  -15750.000000   -1213.000000  ...   \n",
       " 75%                      0.028663  -12413.000000    -289.000000  ...   \n",
       " max                      0.072508   -7489.000000  365243.000000  ...   \n",
       " \n",
       "        FLAG_DOCUMENT_18  FLAG_DOCUMENT_19  FLAG_DOCUMENT_20  FLAG_DOCUMENT_21  \\\n",
       " count     307511.000000     307511.000000     307511.000000     307511.000000   \n",
       " mean           0.008130          0.000595          0.000507          0.000335   \n",
       " std            0.089798          0.024387          0.022518          0.018299   \n",
       " min            0.000000          0.000000          0.000000          0.000000   \n",
       " 25%            0.000000          0.000000          0.000000          0.000000   \n",
       " 50%            0.000000          0.000000          0.000000          0.000000   \n",
       " 75%            0.000000          0.000000          0.000000          0.000000   \n",
       " max            1.000000          1.000000          1.000000          1.000000   \n",
       " \n",
       "        AMT_REQ_CREDIT_BUREAU_HOUR  AMT_REQ_CREDIT_BUREAU_DAY  \\\n",
       " count               265992.000000              265992.000000   \n",
       " mean                     0.006402                   0.007000   \n",
       " std                      0.083849                   0.110757   \n",
       " min                      0.000000                   0.000000   \n",
       " 25%                      0.000000                   0.000000   \n",
       " 50%                      0.000000                   0.000000   \n",
       " 75%                      0.000000                   0.000000   \n",
       " max                      4.000000                   9.000000   \n",
       " \n",
       "        AMT_REQ_CREDIT_BUREAU_WEEK  AMT_REQ_CREDIT_BUREAU_MON  \\\n",
       " count               265992.000000              265992.000000   \n",
       " mean                     0.034362                   0.267395   \n",
       " std                      0.204685                   0.916002   \n",
       " min                      0.000000                   0.000000   \n",
       " 25%                      0.000000                   0.000000   \n",
       " 50%                      0.000000                   0.000000   \n",
       " 75%                      0.000000                   0.000000   \n",
       " max                      8.000000                  27.000000   \n",
       " \n",
       "        AMT_REQ_CREDIT_BUREAU_QRT  AMT_REQ_CREDIT_BUREAU_YEAR  \n",
       " count              265992.000000               265992.000000  \n",
       " mean                    0.265474                    1.899974  \n",
       " std                     0.794056                    1.869295  \n",
       " min                     0.000000                    0.000000  \n",
       " 25%                     0.000000                    0.000000  \n",
       " 50%                     0.000000                    1.000000  \n",
       " 75%                     0.000000                    3.000000  \n",
       " max                   261.000000                   25.000000  \n",
       " \n",
       " [8 rows x 106 columns],\n",
       " None)"
      ]
     },
     "execution_count": 6,
     "metadata": {},
     "output_type": "execute_result"
    }
   ],
   "source": [
    "#Examine training set\n",
    "train_data.shape, train_data.describe(), train_data.info()"
   ]
  },
  {
   "cell_type": "markdown",
   "id": "5ad2647a-869b-4455-a42b-13c98123daf4",
   "metadata": {},
   "source": [
    "MEAN value on TARGET feature is 0.08, which seems to indicate an imbalanced presence of values"
   ]
  },
  {
   "cell_type": "markdown",
   "id": "70614a0c-d313-4562-b13e-3909d3c668cf",
   "metadata": {},
   "source": [
    "### 'TARGET' distribution"
   ]
  },
  {
   "cell_type": "code",
   "execution_count": 7,
   "id": "a58a13e8-2eab-425c-b2c3-dccaa6a4b137",
   "metadata": {},
   "outputs": [
    {
     "data": {
      "text/plain": [
       "(TARGET\n",
       " 0    282686\n",
       " 1     24825\n",
       " Name: count, dtype: int64,\n",
       " TARGET\n",
       " 0    0.919271\n",
       " 1    0.080729\n",
       " Name: proportion, dtype: float64)"
      ]
     },
     "execution_count": 7,
     "metadata": {},
     "output_type": "execute_result"
    }
   ],
   "source": [
    "#Evaluate TARGET distribution\n",
    "train_data['TARGET'].value_counts(), train_data['TARGET'].value_counts(normalize=True)"
   ]
  },
  {
   "cell_type": "code",
   "execution_count": 8,
   "id": "89683914-6a16-4583-926d-559cbe308b8e",
   "metadata": {},
   "outputs": [
    {
     "data": {
      "text/plain": [
       "<Axes: >"
      ]
     },
     "execution_count": 8,
     "metadata": {},
     "output_type": "execute_result"
    },
    {
     "data": {
      "image/png": "[encoded data removed]",
      "text/plain": [
       "<Figure size 640x480 with 1 Axes>"
      ]
     },
     "metadata": {},
     "output_type": "display_data"
    }
   ],
   "source": [
    "#Plotting TARGET distribution\n",
    "train_data['TARGET'].hist()"
   ]
  },
  {
   "cell_type": "markdown",
   "id": "206fbf35-e249-4c96-9d01-f40e5d5276d3",
   "metadata": {},
   "source": [
    "92% of TARGET are 0s, which will induce a bias in the model \\\n",
    "We will have to apply a treatment for imbalanced classes"
   ]
  },
  {
   "cell_type": "markdown",
   "id": "c8ec9384-c5b8-4ba6-b942-d21dc362e972",
   "metadata": {
    "tags": []
   },
   "source": [
    "### Missing values examination"
   ]
  },
  {
   "cell_type": "code",
   "execution_count": 9,
   "id": "29fdddc9-9d77-4f03-bfe0-26a19efda4be",
   "metadata": {},
   "outputs": [],
   "source": [
    "# taking the missing value table from Kaggle because it's well made\n",
    "\n",
    "def missing_values_table(df):\n",
    "        # Total missing values\n",
    "        mis_val = df.isnull().sum()\n",
    "        \n",
    "        # Percentage of missing values\n",
    "        mis_val_percent = 100 * mis_val / len(df)\n",
    "        \n",
    "        # Make a table with the results\n",
    "        mis_val_table = pd.concat([mis_val, mis_val_percent], axis=1)\n",
    "        \n",
    "        # Rename the columns\n",
    "        mis_val_table_ren_columns = mis_val_table.rename(\n",
    "            columns = {0 : 'Missing Values', 1 : '% of Total Values'})\n",
    "        \n",
    "        # Sort the table by percentage of missing descending\n",
    "        mis_val_table_ren_columns = mis_val_table_ren_columns[\n",
    "            mis_val_table_ren_columns.iloc[:,1] != 0].sort_values(\n",
    "        '% of Total Values', ascending=False).round(1)\n",
    "        \n",
    "        # Print some summary information\n",
    "        print (\"Your selected dataframe has \" + str(df.shape[1]) + \" columns.\\n\"      \n",
    "            \"There are \" + str(mis_val_table_ren_columns.shape[0]) +\n",
    "              \" columns that have missing values.\")\n",
    "        \n",
    "        # Return the dataframe with missing information\n",
    "        return mis_val_table_ren_columns"
   ]
  },
  {
   "cell_type": "code",
   "execution_count": 10,
   "id": "caf778ef-ffcb-4ec1-8312-aef589496b55",
   "metadata": {},
   "outputs": [],
   "source": [
    "# Doing it again for practice\n",
    "def null_table(df):\n",
    "    missing_values = df.isnull().sum()\n",
    "    missing_values_percent = (missing_values*100)/len(train_data)\n",
    "    table = pd.concat([missing_values, missing_values_percent], axis=1)\n",
    "    table_renamed = table.rename(\n",
    "        columns = {0 : \"Missing Values\", 1  : \"Percentage of total\"})\n",
    "    final_table = table_renamed[table_renamed.iloc[:,0] != 0].sort_values(\n",
    "        by='Missing Values', ascending=False).round(2)\n",
    "    \n",
    "    \"\"\"print (\"Your selected dataframe has \" + str(df.shape[1]) + \" columns.\\n\"      \n",
    "            \"There are \" + str(final_table.shape[0]) +\n",
    "              \" columns that have missing values.\")\n",
    "\"\"\"\n",
    "    return final_table"
   ]
  },
  {
   "cell_type": "code",
   "execution_count": 11,
   "id": "941ba87f-508f-47a6-a06a-b6e933e3e31f",
   "metadata": {},
   "outputs": [],
   "source": [
    "missing_train_data = null_table(train_data)\n",
    "missing_test_data = null_table(test_data)"
   ]
  },
  {
   "cell_type": "code",
   "execution_count": 12,
   "id": "5763f073-e70d-4026-a5ad-3ee7dd4b13b7",
   "metadata": {},
   "outputs": [
    {
     "name": "stdout",
     "output_type": "stream",
     "text": [
      "Your selected dataframe has 122 columns.\n",
      "There are 67 columns that have missing values.\n"
     ]
    },
    {
     "data": {
      "text/html": [
       "<div>\n",
       "<style scoped>\n",
       "    .dataframe tbody tr th:only-of-type {\n",
       "        vertical-align: middle;\n",
       "    }\n",
       "\n",
       "    .dataframe tbody tr th {\n",
       "        vertical-align: top;\n",
       "    }\n",
       "\n",
       "    .dataframe thead th {\n",
       "        text-align: right;\n",
       "    }\n",
       "</style>\n",
       "<table border=\"1\" class=\"dataframe\">\n",
       "  <thead>\n",
       "    <tr style=\"text-align: right;\">\n",
       "      <th></th>\n",
       "      <th>Missing Values</th>\n",
       "      <th>% of Total Values</th>\n",
       "    </tr>\n",
       "  </thead>\n",
       "  <tbody>\n",
       "    <tr>\n",
       "      <th>COMMONAREA_MEDI</th>\n",
       "      <td>214865</td>\n",
       "      <td>69.9</td>\n",
       "    </tr>\n",
       "    <tr>\n",
       "      <th>COMMONAREA_AVG</th>\n",
       "      <td>214865</td>\n",
       "      <td>69.9</td>\n",
       "    </tr>\n",
       "    <tr>\n",
       "      <th>COMMONAREA_MODE</th>\n",
       "      <td>214865</td>\n",
       "      <td>69.9</td>\n",
       "    </tr>\n",
       "    <tr>\n",
       "      <th>NONLIVINGAPARTMENTS_MEDI</th>\n",
       "      <td>213514</td>\n",
       "      <td>69.4</td>\n",
       "    </tr>\n",
       "    <tr>\n",
       "      <th>NONLIVINGAPARTMENTS_MODE</th>\n",
       "      <td>213514</td>\n",
       "      <td>69.4</td>\n",
       "    </tr>\n",
       "    <tr>\n",
       "      <th>...</th>\n",
       "      <td>...</td>\n",
       "      <td>...</td>\n",
       "    </tr>\n",
       "    <tr>\n",
       "      <th>EXT_SOURCE_2</th>\n",
       "      <td>660</td>\n",
       "      <td>0.2</td>\n",
       "    </tr>\n",
       "    <tr>\n",
       "      <th>AMT_GOODS_PRICE</th>\n",
       "      <td>278</td>\n",
       "      <td>0.1</td>\n",
       "    </tr>\n",
       "    <tr>\n",
       "      <th>AMT_ANNUITY</th>\n",
       "      <td>12</td>\n",
       "      <td>0.0</td>\n",
       "    </tr>\n",
       "    <tr>\n",
       "      <th>CNT_FAM_MEMBERS</th>\n",
       "      <td>2</td>\n",
       "      <td>0.0</td>\n",
       "    </tr>\n",
       "    <tr>\n",
       "      <th>DAYS_LAST_PHONE_CHANGE</th>\n",
       "      <td>1</td>\n",
       "      <td>0.0</td>\n",
       "    </tr>\n",
       "  </tbody>\n",
       "</table>\n",
       "<p>67 rows × 2 columns</p>\n",
       "</div>"
      ],
      "text/plain": [
       "                          Missing Values  % of Total Values\n",
       "COMMONAREA_MEDI                   214865               69.9\n",
       "COMMONAREA_AVG                    214865               69.9\n",
       "COMMONAREA_MODE                   214865               69.9\n",
       "NONLIVINGAPARTMENTS_MEDI          213514               69.4\n",
       "NONLIVINGAPARTMENTS_MODE          213514               69.4\n",
       "...                                  ...                ...\n",
       "EXT_SOURCE_2                         660                0.2\n",
       "AMT_GOODS_PRICE                      278                0.1\n",
       "AMT_ANNUITY                           12                0.0\n",
       "CNT_FAM_MEMBERS                        2                0.0\n",
       "DAYS_LAST_PHONE_CHANGE                 1                0.0\n",
       "\n",
       "[67 rows x 2 columns]"
      ]
     },
     "execution_count": 12,
     "metadata": {},
     "output_type": "execute_result"
    }
   ],
   "source": [
    "missing_values_table(train_data)"
   ]
  },
  {
   "cell_type": "code",
   "execution_count": 13,
   "id": "1ed2d333-810f-4a41-a563-ccc600498985",
   "metadata": {},
   "outputs": [
    {
     "data": {
      "text/plain": [
       "Index(['COMMONAREA_MEDI', 'COMMONAREA_AVG', 'COMMONAREA_MODE',\n",
       "       'NONLIVINGAPARTMENTS_MEDI', 'NONLIVINGAPARTMENTS_MODE',\n",
       "       'NONLIVINGAPARTMENTS_AVG', 'FONDKAPREMONT_MODE',\n",
       "       'LIVINGAPARTMENTS_MODE', 'LIVINGAPARTMENTS_MEDI',\n",
       "       'LIVINGAPARTMENTS_AVG', 'FLOORSMIN_MODE', 'FLOORSMIN_MEDI',\n",
       "       'FLOORSMIN_AVG', 'YEARS_BUILD_MODE', 'YEARS_BUILD_MEDI',\n",
       "       'YEARS_BUILD_AVG', 'OWN_CAR_AGE', 'LANDAREA_AVG', 'LANDAREA_MEDI',\n",
       "       'LANDAREA_MODE', 'BASEMENTAREA_MEDI', 'BASEMENTAREA_AVG',\n",
       "       'BASEMENTAREA_MODE', 'EXT_SOURCE_1', 'NONLIVINGAREA_MEDI',\n",
       "       'NONLIVINGAREA_MODE', 'NONLIVINGAREA_AVG', 'ELEVATORS_MEDI',\n",
       "       'ELEVATORS_MODE', 'ELEVATORS_AVG', 'WALLSMATERIAL_MODE',\n",
       "       'APARTMENTS_MODE', 'APARTMENTS_MEDI', 'APARTMENTS_AVG',\n",
       "       'ENTRANCES_MODE', 'ENTRANCES_AVG', 'ENTRANCES_MEDI', 'LIVINGAREA_MEDI',\n",
       "       'LIVINGAREA_MODE', 'LIVINGAREA_AVG', 'HOUSETYPE_MODE'],\n",
       "      dtype='object')"
      ]
     },
     "execution_count": 13,
     "metadata": {},
     "output_type": "execute_result"
    }
   ],
   "source": [
    "# Which has more than 50% missing values ?\n",
    "missing_train_data[missing_train_data.iloc[:,1]>50].index"
   ]
  },
  {
   "cell_type": "markdown",
   "id": "b4919d13-6d14-40ab-8242-3a868e2e1625",
   "metadata": {
    "tags": []
   },
   "source": [
    "### Missing values treatment"
   ]
  },
  {
   "cell_type": "markdown",
   "id": "05764e5b-9df6-46b2-91e9-f1fedb2ca4e5",
   "metadata": {
    "tags": []
   },
   "source": [
    "#### Filling Numerical Feature missing values"
   ]
  },
  {
   "cell_type": "code",
   "execution_count": 14,
   "id": "89f056d5-8b23-4d0e-a3ff-3956832e81ff",
   "metadata": {},
   "outputs": [
    {
     "name": "stdout",
     "output_type": "stream",
     "text": [
      "61 numerical columns have missing values\n"
     ]
    }
   ],
   "source": [
    "missing = null_table(train_data)\n",
    "numerical_missing = train_data[missing.index].select_dtypes(np.number)\n",
    "print( numerical_missing.shape[1], \"numerical columns have missing values\")"
   ]
  },
  {
   "cell_type": "markdown",
   "id": "462b1af1-8e44-4492-866f-efcd4d8150ce",
   "metadata": {
    "tags": []
   },
   "source": [
    "##### IterativeImputer function"
   ]
  },
  {
   "cell_type": "code",
   "execution_count": 15,
   "id": "c9b08324-6fef-4615-a3af-0850a4068d8d",
   "metadata": {},
   "outputs": [],
   "source": [
    "def iterative_filling(df, threshold):\n",
    "    #identify missing NUMERCIAL values with null_table function\n",
    "    numerical_to_fill = df[null_table(df).index].select_dtypes(np.number)\n",
    "    #analyze correlation\n",
    "    corrmap = numerical_to_fill.corr()\n",
    "    #defining threshold\n",
    "    mask = np.abs(corrmap) > threshold\n",
    "    #preparing the pairs\n",
    "    correlated_pairs = []\n",
    "    # Iterate over the correlation matrix\n",
    "    for i in range(len(corrmap.columns)):\n",
    "        for j in range(i+1, len(corrmap.columns)):  # Start from i+1 to avoid self-comparison\n",
    "            if np.abs(corrmap.iloc[i, j]) > 0.80:\n",
    "                # Append the pair of feature names if above threshold\n",
    "                correlated_pairs.append([corrmap.columns[i], corrmap.columns[j]])\n",
    "    \n",
    "    #initialize iterative imputer\n",
    "    iter_imputer = IterativeImputer(max_iter=10, random_state=42)\n",
    "\n",
    "    #imputing pair by pair\n",
    "    for pair in correlated_pairs:\n",
    "        # Select only the columns in the pair for imputation\n",
    "        df_pair = df[pair]\n",
    "        # Apply imputation\n",
    "        df_imputed = iter_imputer.fit_transform(df_pair)\n",
    "        # Update the original DataFrame with the imputed values\n",
    "        df[pair] = df_imputed\n",
    "    \n",
    "    return df"
   ]
  },
  {
   "cell_type": "code",
   "execution_count": 16,
   "id": "f2c6b4cc-c5e5-4907-8260-fcae4f79b893",
   "metadata": {},
   "outputs": [
    {
     "name": "stdout",
     "output_type": "stream",
     "text": [
      "Still 14 numerical columns have missing values\n"
     ]
    }
   ],
   "source": [
    "iterative_filling(train_data, 0.80)\n",
    "still_missing = null_table(train_data)\n",
    "numerical_still_missing = train_data[still_missing.index].select_dtypes(np.number)\n",
    "print(\"Still\", numerical_still_missing.shape[1], \"numerical columns have missing values\")"
   ]
  },
  {
   "cell_type": "code",
   "execution_count": 17,
   "id": "b81d6120-485e-461a-a1a7-f247d00ee364",
   "metadata": {},
   "outputs": [
    {
     "name": "stdout",
     "output_type": "stream",
     "text": [
      "Still 11 numerical columns have missing values\n"
     ]
    }
   ],
   "source": [
    "iterative_filling(test_data, 0.80)\n",
    "still_missing = null_table(test_data)\n",
    "numerical_still_missing = test_data[still_missing.index].select_dtypes(np.number)\n",
    "print(\"Still\", numerical_still_missing.shape[1], \"numerical columns have missing values\")"
   ]
  },
  {
   "cell_type": "markdown",
   "id": "987aeb51-3c1c-4ca1-ad07-877ce4d6aeab",
   "metadata": {
    "tags": []
   },
   "source": [
    "##### IterativeImputer step by step"
   ]
  },
  {
   "cell_type": "code",
   "execution_count": 18,
   "id": "2fb598e5-b72f-4a65-a893-c4370b176377",
   "metadata": {},
   "outputs": [],
   "source": [
    "#First treat numerical missing values\n",
    "train_data_numerical_to_fill = train_data[missing_train_data.index].select_dtypes(np.number)"
   ]
  },
  {
   "cell_type": "code",
   "execution_count": 19,
   "id": "dfb4d933-2e41-4da9-aee4-3c241beb5445",
   "metadata": {
    "tags": []
   },
   "outputs": [],
   "source": [
    "#Preparing the correlation map\n",
    "train_numerical_corrmap = train_data_numerical_to_fill.corr()\n",
    "#Defining the threshold for correaltion\n",
    "mask = np.abs(train_numerical_corrmap) > 0.80\n"
   ]
  },
  {
   "cell_type": "code",
   "execution_count": 20,
   "id": "bf59a4b2-4cc1-4980-bc90-a937b60745c6",
   "metadata": {
    "tags": []
   },
   "outputs": [
    {
     "data": {
      "text/plain": [
       "77"
      ]
     },
     "execution_count": 20,
     "metadata": {},
     "output_type": "execute_result"
    }
   ],
   "source": [
    "#preparing the pairs\n",
    "train_correlated_pairs = []\n",
    "\n",
    "# Iterate over the correlation matrix\n",
    "for i in range(len(train_numerical_corrmap.columns)):\n",
    "    for j in range(i+1, len(train_numerical_corrmap.columns)):  # Start from i+1 to avoid self-comparison\n",
    "        if np.abs(train_numerical_corrmap.iloc[i, j]) > 0.80:\n",
    "            # Append the pair of feature names if above threshold\n",
    "            train_correlated_pairs.append([train_numerical_corrmap.columns[i], train_numerical_corrmap.columns[j]])\n",
    "\n",
    "len(train_correlated_pairs)\n"
   ]
  },
  {
   "cell_type": "code",
   "execution_count": 21,
   "id": "3a8a661d-a81d-4339-9375-bd3544048903",
   "metadata": {
    "tags": []
   },
   "outputs": [],
   "source": [
    "#initialize iterative imputer\n",
    "iter_imputer = IterativeImputer(max_iter=10, random_state=42)\n",
    "\n",
    "#imputing pair by pair\n",
    "for pair in train_correlated_pairs:\n",
    "    # Select only the columns in the pair for imputation\n",
    "    df_pair = train_data[pair]\n",
    "    # Apply imputation\n",
    "    df_imputed = iter_imputer.fit_transform(df_pair)\n",
    "    # Update the original DataFrame with the imputed values\n",
    "    train_data[pair] = df_imputed"
   ]
  },
  {
   "cell_type": "code",
   "execution_count": 22,
   "id": "0a3afc4b-88ec-4f95-adbf-678371cc12c4",
   "metadata": {},
   "outputs": [
    {
     "name": "stdout",
     "output_type": "stream",
     "text": [
      "Still 14 numerical values missing\n"
     ]
    }
   ],
   "source": [
    "#How many numerical values are left ?\n",
    "still_missing = null_table(train_data)\n",
    "numerical_still_missing = train_data[still_missing.index].select_dtypes(np.number)\n",
    "print(\"Still\", numerical_still_missing.shape[1], \"numerical values missing\")"
   ]
  },
  {
   "cell_type": "markdown",
   "id": "f49c808c-2155-469d-8aa3-246667addb7c",
   "metadata": {},
   "source": [
    " 14 numercial columns are still missing values. We will proceed to other ways of treatment. \\\n",
    " Don't forget to repeat operation on test data"
   ]
  },
  {
   "cell_type": "markdown",
   "id": "a2641b30-68e3-47df-84c9-6815ddf6437a",
   "metadata": {},
   "source": [
    "##### Mean Imputation"
   ]
  },
  {
   "cell_type": "code",
   "execution_count": 23,
   "id": "01de8eb4-a89b-4522-b222-fe358d408c88",
   "metadata": {
    "tags": []
   },
   "outputs": [
    {
     "name": "stdout",
     "output_type": "stream",
     "text": [
      "too many : 7\n",
      "acceptable : 7\n"
     ]
    }
   ],
   "source": [
    "# list of outliers over-presence\n",
    "too_many_outliers = []\n",
    "acceptable_outlier_presence = []\n",
    "\n",
    "#Checking zscore for outliers\n",
    "for col in numerical_still_missing:\n",
    "    x = sp.stats.zscore(numerical_still_missing[col], axis=None,nan_policy=\"omit\")\n",
    "    y = x.where(x>abs(1.5)).value_counts().sum()\n",
    "    z = x.value_counts().sum()\n",
    "    outlier_percentage = round((y/z)*100, 2)\n",
    "    if outlier_percentage > 5:\n",
    "        #print(outlier_percentage, f\"% of {col} are outliers\")\n",
    "        too_many_outliers.append(col)\n",
    "    else:\n",
    "        acceptable_outlier_presence.append(col)\n",
    "        \n",
    "print('too many :', len(too_many_outliers))\n",
    "print('acceptable :', len(acceptable_outlier_presence))"
   ]
  },
  {
   "cell_type": "code",
   "execution_count": 24,
   "id": "a6b86108-a9f8-45c1-b33f-f261729ed432",
   "metadata": {
    "tags": []
   },
   "outputs": [],
   "source": [
    "# Imputer via mean\n",
    "imputer_mean = SimpleImputer(strategy = 'mean')\n",
    "\n",
    "to_impute_mean_train = train_data[acceptable_outlier_presence]\n",
    "to_impute_mean_test = test_data[acceptable_outlier_presence]\n",
    "\n",
    "# Need to impute missing values\n",
    "imputed_mean_train = imputer_mean.fit_transform(to_impute_mean_train)\n",
    "imputed_mean_test = imputer_mean.fit_transform(to_impute_mean_test)\n",
    "\n",
    "train_data[acceptable_outlier_presence] = imputed_mean_train\n",
    "test_data[acceptable_outlier_presence] = imputed_mean_test"
   ]
  },
  {
   "cell_type": "code",
   "execution_count": 25,
   "id": "497a6648-2d0a-4bf2-88b9-c7dd642abdad",
   "metadata": {},
   "outputs": [
    {
     "name": "stdout",
     "output_type": "stream",
     "text": [
      "Still 7 numerical values missing\n"
     ]
    }
   ],
   "source": [
    "# checking again\n",
    "still_missing = null_table(train_data)\n",
    "numerical_still_missing = train_data[still_missing.index].select_dtypes(np.number)\n",
    "print(\"Still\", numerical_still_missing.shape[1], \"numerical values missing\")"
   ]
  },
  {
   "cell_type": "markdown",
   "id": "d2247ec1-5325-4811-99dd-f75c34c426db",
   "metadata": {},
   "source": [
    "##### Median Imputation"
   ]
  },
  {
   "cell_type": "code",
   "execution_count": 26,
   "id": "456cca2a-9d91-4a1b-9673-5d468c4e66b9",
   "metadata": {
    "tags": []
   },
   "outputs": [],
   "source": [
    "# Imputer via median\n",
    "imputer_median = SimpleImputer(strategy = 'median')\n",
    "\n",
    "to_impute_median_train = train_data[too_many_outliers]\n",
    "to_impute_median_test = test_data[too_many_outliers]\n",
    "\n",
    "# Need to impute missing values\n",
    "imputed_median_train = imputer_mean.fit_transform(to_impute_median_train)\n",
    "imputed_median_test = imputer_mean.fit_transform(to_impute_median_test)\n",
    "\n",
    "train_data[too_many_outliers] = imputed_median_train\n",
    "test_data[too_many_outliers] = imputed_median_test"
   ]
  },
  {
   "cell_type": "code",
   "execution_count": 27,
   "id": "d6147b42-8f2a-4da4-93ed-c73e61d19874",
   "metadata": {},
   "outputs": [
    {
     "name": "stdout",
     "output_type": "stream",
     "text": [
      "Still 0 numerical values missing\n"
     ]
    }
   ],
   "source": [
    "# checking again again\n",
    "still_missing = null_table(train_data)\n",
    "numerical_still_missing = train_data[still_missing.index].select_dtypes(np.number)\n",
    "print(\"Still\", numerical_still_missing.shape[1], \"numerical values missing\")"
   ]
  },
  {
   "cell_type": "code",
   "execution_count": 28,
   "id": "fbba1b13-d6fe-49b6-b126-463284e0517a",
   "metadata": {},
   "outputs": [
    {
     "name": "stdout",
     "output_type": "stream",
     "text": [
      "Still 0 numerical values missing\n"
     ]
    }
   ],
   "source": [
    "# checking again again\n",
    "still_missing = null_table(test_data)\n",
    "numerical_still_missing = test_data[still_missing.index].select_dtypes(np.number)\n",
    "print(\"Still\", numerical_still_missing.shape[1], \"numerical values missing\")"
   ]
  },
  {
   "cell_type": "markdown",
   "id": "2d8f9ebc-bba0-4084-960c-893f6b174d78",
   "metadata": {
    "tags": []
   },
   "source": [
    "#### Filling Categorical missing values"
   ]
  },
  {
   "cell_type": "code",
   "execution_count": 29,
   "id": "e773707e-ace3-4cc5-b6b0-be14ad7ea344",
   "metadata": {},
   "outputs": [
    {
     "name": "stdout",
     "output_type": "stream",
     "text": [
      "Still 6 categorical values missing\n"
     ]
    }
   ],
   "source": [
    "still_missing = null_table(train_data)\n",
    "categorical_still_missing = train_data[still_missing.index].select_dtypes('object')\n",
    "print(\"Still\", categorical_still_missing.shape[1], \"categorical values missing\")"
   ]
  },
  {
   "cell_type": "code",
   "execution_count": 30,
   "id": "920b4de7-a635-4df8-8e64-7c08d01de3cd",
   "metadata": {},
   "outputs": [
    {
     "name": "stdout",
     "output_type": "stream",
     "text": [
      "FONDKAPREMONT_MODE ['reg oper account' nan 'org spec account' 'reg oper spec account'\n",
      " 'not specified']\n",
      "WALLSMATERIAL_MODE ['Stone, brick' 'Block' nan 'Panel' 'Mixed' 'Wooden' 'Others' 'Monolithic']\n",
      "HOUSETYPE_MODE ['block of flats' nan 'terraced house' 'specific housing']\n",
      "EMERGENCYSTATE_MODE ['No' nan 'Yes']\n",
      "OCCUPATION_TYPE ['Laborers' 'Core staff' 'Accountants' 'Managers' nan 'Drivers'\n",
      " 'Sales staff' 'Cleaning staff' 'Cooking staff' 'Private service staff'\n",
      " 'Medicine staff' 'Security staff' 'High skill tech staff'\n",
      " 'Waiters/barmen staff' 'Low-skill Laborers' 'Realty agents' 'Secretaries'\n",
      " 'IT staff' 'HR staff']\n",
      "NAME_TYPE_SUITE ['Unaccompanied' 'Family' 'Spouse, partner' 'Children' 'Other_A' nan\n",
      " 'Other_B' 'Group of people']\n"
     ]
    }
   ],
   "source": [
    "#closer inspection of missing values\n",
    "for col in categorical_still_missing:\n",
    "    print(col, categorical_still_missing[col].unique())"
   ]
  },
  {
   "cell_type": "markdown",
   "id": "a4044636-c85b-46cf-8b44-f830dcb489d6",
   "metadata": {},
   "source": [
    "We will complete the missing categorical values with 'Unknown' as a new category \\\n",
    "The main benefits will be to identify missing values faster, and leave a possibility to highlight, even if slightly (and if it exists), the impact of missing values on loan repaiement. "
   ]
  },
  {
   "cell_type": "code",
   "execution_count": 31,
   "id": "39099d99-186e-4f6a-ac0e-c6b138f74cf1",
   "metadata": {},
   "outputs": [
    {
     "data": {
      "text/plain": [
       "FONDKAPREMONT_MODE     210295\n",
       "WALLSMATERIAL_MODE     156341\n",
       "HOUSETYPE_MODE         154297\n",
       "EMERGENCYSTATE_MODE    145755\n",
       "OCCUPATION_TYPE         96391\n",
       "NAME_TYPE_SUITE          1292\n",
       "dtype: int64"
      ]
     },
     "execution_count": 31,
     "metadata": {},
     "output_type": "execute_result"
    }
   ],
   "source": [
    "train_data[categorical_still_missing.columns].isna().sum()"
   ]
  },
  {
   "cell_type": "code",
   "execution_count": 32,
   "id": "b91f1680-ffa3-43f4-a636-78cd382d39df",
   "metadata": {},
   "outputs": [],
   "source": [
    "train_data[categorical_still_missing.columns] = categorical_still_missing.fillna('Unknown')"
   ]
  },
  {
   "cell_type": "code",
   "execution_count": 33,
   "id": "87ed38d2-f7ce-4aa9-a386-0793d9efafe0",
   "metadata": {},
   "outputs": [
    {
     "data": {
      "text/plain": [
       "FONDKAPREMONT_MODE     0\n",
       "WALLSMATERIAL_MODE     0\n",
       "HOUSETYPE_MODE         0\n",
       "EMERGENCYSTATE_MODE    0\n",
       "OCCUPATION_TYPE        0\n",
       "NAME_TYPE_SUITE        0\n",
       "dtype: int64"
      ]
     },
     "execution_count": 33,
     "metadata": {},
     "output_type": "execute_result"
    }
   ],
   "source": [
    "train_data[categorical_still_missing.columns].isna().sum()"
   ]
  },
  {
   "cell_type": "code",
   "execution_count": 34,
   "id": "153d6d5f-2387-44a1-91b3-84076beeaec5",
   "metadata": {},
   "outputs": [
    {
     "data": {
      "text/html": [
       "<div>\n",
       "<style scoped>\n",
       "    .dataframe tbody tr th:only-of-type {\n",
       "        vertical-align: middle;\n",
       "    }\n",
       "\n",
       "    .dataframe tbody tr th {\n",
       "        vertical-align: top;\n",
       "    }\n",
       "\n",
       "    .dataframe thead th {\n",
       "        text-align: right;\n",
       "    }\n",
       "</style>\n",
       "<table border=\"1\" class=\"dataframe\">\n",
       "  <thead>\n",
       "    <tr style=\"text-align: right;\">\n",
       "      <th></th>\n",
       "      <th>Missing Values</th>\n",
       "      <th>Percentage of total</th>\n",
       "    </tr>\n",
       "  </thead>\n",
       "  <tbody>\n",
       "  </tbody>\n",
       "</table>\n",
       "</div>"
      ],
      "text/plain": [
       "Empty DataFrame\n",
       "Columns: [Missing Values, Percentage of total]\n",
       "Index: []"
      ]
     },
     "execution_count": 34,
     "metadata": {},
     "output_type": "execute_result"
    }
   ],
   "source": [
    "#Final check\n",
    "null_table(train_data)"
   ]
  },
  {
   "cell_type": "markdown",
   "id": "2c72667b-8bbc-44c8-8e88-6f03999c24b7",
   "metadata": {
    "jp-MarkdownHeadingCollapsed": true,
    "tags": []
   },
   "source": [
    "#### Maybe here you could fill numerical missing values.\n",
    "#### You could also create a 'unknown' category for categorical missing values. \n",
    "#### This will lead to more features with OHE, but will be more 'honest' and overall beneficial"
   ]
  },
  {
   "cell_type": "markdown",
   "id": "5af7a0bf-6471-47af-ac3a-2fb0e729ecdd",
   "metadata": {
    "tags": []
   },
   "source": [
    "### Categorical values treatment : encoding"
   ]
  },
  {
   "cell_type": "markdown",
   "id": "9f974213-343b-468b-a61f-eef2bebfdb22",
   "metadata": {},
   "source": [
    "We need to assess how to encode categorical values so as to be able to train models \\\n",
    "First we'll examine the distribution, and determine the best encoding strategy for each column \n",
    "\n",
    "For columns with 2 unique values only, it will be <code>LabelEncoded</code> \\\n",
    "For 3 unique values and more, it will be <code>OneHotEncoded</code>"
   ]
  },
  {
   "cell_type": "code",
   "execution_count": 35,
   "id": "20ab997f-94e4-4175-8a29-7d433a06b370",
   "metadata": {},
   "outputs": [
    {
     "data": {
      "text/plain": [
       "NAME_CONTRACT_TYPE             2\n",
       "CODE_GENDER                    3\n",
       "FLAG_OWN_CAR                   2\n",
       "FLAG_OWN_REALTY                2\n",
       "NAME_TYPE_SUITE                8\n",
       "NAME_INCOME_TYPE               8\n",
       "NAME_EDUCATION_TYPE            5\n",
       "NAME_FAMILY_STATUS             6\n",
       "NAME_HOUSING_TYPE              6\n",
       "OCCUPATION_TYPE               19\n",
       "WEEKDAY_APPR_PROCESS_START     7\n",
       "ORGANIZATION_TYPE             58\n",
       "FONDKAPREMONT_MODE             5\n",
       "HOUSETYPE_MODE                 4\n",
       "WALLSMATERIAL_MODE             8\n",
       "EMERGENCYSTATE_MODE            3\n",
       "dtype: int64"
      ]
     },
     "execution_count": 35,
     "metadata": {},
     "output_type": "execute_result"
    }
   ],
   "source": [
    "# How many unique values per column ?\n",
    "train_data.select_dtypes('object').nunique()"
   ]
  },
  {
   "cell_type": "markdown",
   "id": "5004c8f1-9990-43ad-ba48-dcf33721c24d",
   "metadata": {},
   "source": [
    "!! utilisez un .fit() de OHE et pas un .get_dummies() pour générer les variables et ne pas avoir à gérer chaque variable   \n",
    "manuellement => .transform() sur le test \\\n",
    "Le nombre de variable sera calibré sur le train_set, puis transformera le test_set en fonction de ce qu'il a vu sur le train\n",
    "\n",
    "\n",
    "https://scikit-learn.org/stable/modules/generated/sklearn.preprocessing.OneHotEncoder.html\n",
    "\"attention à la gestion des inconnus avec l'argument handle_unknown \n",
    "\n",
    "enc = OneHotEncoder()\n",
    "enc.fit(train_data)\n",
    "enc.transform(test_data)\n",
    "\n",
    "print('Training Features shape: ', train_data.shape)\n",
    "print('Testing Features shape: ', test_data.shape)"
   ]
  },
  {
   "cell_type": "code",
   "execution_count": 36,
   "id": "98c2e988-4419-4659-9fab-1073d89f32fe",
   "metadata": {},
   "outputs": [
    {
     "data": {
      "text/plain": [
       "['NAME_CONTRACT_TYPE',\n",
       " 'CODE_GENDER',\n",
       " 'FLAG_OWN_CAR',\n",
       " 'FLAG_OWN_REALTY',\n",
       " 'NAME_TYPE_SUITE',\n",
       " 'NAME_INCOME_TYPE',\n",
       " 'NAME_EDUCATION_TYPE',\n",
       " 'NAME_FAMILY_STATUS',\n",
       " 'NAME_HOUSING_TYPE',\n",
       " 'OCCUPATION_TYPE',\n",
       " 'WEEKDAY_APPR_PROCESS_START',\n",
       " 'ORGANIZATION_TYPE',\n",
       " 'FONDKAPREMONT_MODE',\n",
       " 'HOUSETYPE_MODE',\n",
       " 'WALLSMATERIAL_MODE',\n",
       " 'EMERGENCYSTATE_MODE']"
      ]
     },
     "execution_count": 36,
     "metadata": {},
     "output_type": "execute_result"
    }
   ],
   "source": [
    "features = list(train_data.select_dtypes('object'))\n",
    "features"
   ]
  },
  {
   "cell_type": "code",
   "execution_count": 37,
   "id": "9a6fae0d-aa75-4458-b5aa-0df25e18ea76",
   "metadata": {},
   "outputs": [
    {
     "name": "stdout",
     "output_type": "stream",
     "text": [
      "ohe :  ['CODE_GENDER', 'NAME_TYPE_SUITE', 'NAME_INCOME_TYPE', 'NAME_EDUCATION_TYPE', 'NAME_FAMILY_STATUS', 'NAME_HOUSING_TYPE', 'OCCUPATION_TYPE', 'WEEKDAY_APPR_PROCESS_START', 'ORGANIZATION_TYPE', 'FONDKAPREMONT_MODE', 'HOUSETYPE_MODE', 'WALLSMATERIAL_MODE', 'EMERGENCYSTATE_MODE']\n",
      "LE : ['NAME_CONTRACT_TYPE', 'FLAG_OWN_CAR', 'FLAG_OWN_REALTY']\n"
     ]
    }
   ],
   "source": [
    "#Creating separated lists to encode with OHE then LE\n",
    "features_ohe = []\n",
    "features_le = []\n",
    "\n",
    "for col in features:\n",
    "    if train_data[col].nunique() <= 2:\n",
    "        features_le.append(col)\n",
    "    else:\n",
    "        features_ohe.append(col)\n",
    "        \n",
    "print(\"ohe : \",features_ohe)\n",
    "print(\"LE :\",features_le)"
   ]
  },
  {
   "cell_type": "code",
   "execution_count": 38,
   "id": "994cc0b3-177d-4fc8-b283-a12882821ba0",
   "metadata": {},
   "outputs": [
    {
     "name": "stdout",
     "output_type": "stream",
     "text": [
      "Training Features shape:  (307511, 140)\n",
      "Testing Features shape:  (48744, 140)\n"
     ]
    }
   ],
   "source": [
    "#OHE Version\n",
    "enc = OneHotEncoder(handle_unknown='ignore', sparse_output=False).set_output(transform = 'pandas')\n",
    "\n",
    "#fit model on train and transform\n",
    "enc.fit(train_data[features_ohe])\n",
    "train_data_enc = enc.transform(train_data[features_ohe])\n",
    "test_data_enc = enc.transform(test_data[features_ohe])\n",
    "\n",
    "print('Training Features shape: ', train_data_enc.shape)\n",
    "print('Testing Features shape: ', test_data_enc.shape)"
   ]
  },
  {
   "cell_type": "code",
   "execution_count": 39,
   "id": "9220001d-de65-4501-a19f-f729e5a419cc",
   "metadata": {},
   "outputs": [
    {
     "name": "stdout",
     "output_type": "stream",
     "text": [
      "Training Features shape:  (307511, 122)\n",
      "Testing Features shape:  (48744, 121)\n"
     ]
    }
   ],
   "source": [
    "#LabelEncoder version\n",
    "le = LabelEncoder()\n",
    "\n",
    "for col in features_le:\n",
    "    # Train on the training data\n",
    "    le.fit(train_data[col])\n",
    "    # Transform both training and testing data\n",
    "    #train_data[col] = le.transform(train_data[col])\n",
    "    train_data[col] = le.transform(train_data[col])\n",
    "    test_data[col] = le.transform(test_data[col])\n",
    "\n",
    "print('Training Features shape: ', train_data.shape)\n",
    "print('Testing Features shape: ', test_data.shape)"
   ]
  },
  {
   "cell_type": "code",
   "execution_count": 40,
   "id": "818653ce-d717-4ec5-9c42-2604c1ce7a48",
   "metadata": {},
   "outputs": [
    {
     "name": "stdout",
     "output_type": "stream",
     "text": [
      "Encoded training shape:  (307511, 249)\n",
      "Encoded test shape:  (48744, 248)\n"
     ]
    }
   ],
   "source": [
    "train_data = pd.concat([train_data, train_data_enc], axis=1).drop(columns = features_ohe)\n",
    "test_data = pd.concat([test_data, test_data_enc], axis=1).drop(columns = features_ohe)\n",
    "print(\"Encoded training shape: \", train_data.shape)\n",
    "print(\"Encoded test shape: \", test_data.shape)"
   ]
  },
  {
   "cell_type": "markdown",
   "id": "75145d09-ac84-4862-938b-8b33f21a391b",
   "metadata": {
    "jp-MarkdownHeadingCollapsed": true,
    "tags": []
   },
   "source": [
    "#### Encoder Kaggle version (kept for documentation)"
   ]
  },
  {
   "cell_type": "code",
   "execution_count": 41,
   "id": "58e0e164-f94f-402a-a0b6-13df51cfc9c1",
   "metadata": {},
   "outputs": [
    {
     "data": {
      "text/plain": [
       "\"#Taking the encoder from Kaggle cuz it's well made too\\n# Create a label encoder object\\nle = LabelEncoder()\\nle_count = 0\\n\\n# Iterate through the columns\\nfor col in train_data:\\n    if train_data[col].dtype == 'object':\\n        # If 2 or fewer unique categories\\n        if len(list(train_data[col].unique())) <= 2:\\n            # Train on the training data\\n            le.fit(train_data[col])\\n            # Transform both training and testing data\\n            train_data[col] = le.transform(train_data[col])\\n            test_data[col] = le.transform(test_data[col])\\n            \\n            # Keep track of how many columns were label encoded\\n            le_count += 1\\n            \\nprint('%d columns were label encoded.' % le_count)\\n\\n\\n\\n# one-hot encoding of categorical variables\\ntrain_data = pd.get_dummies(train_data)\\ntest_data = pd.get_dummies(test_data)\\n\\nprint('Training Features shape: ', train_data.shape)\\nprint('Testing Features shape: ', test_data.shape)\\n\""
      ]
     },
     "execution_count": 41,
     "metadata": {},
     "output_type": "execute_result"
    }
   ],
   "source": [
    "# Kept for the moment for documentation\n",
    "\n",
    "\"\"\"#Taking the encoder from Kaggle cuz it's well made too\n",
    "# Create a label encoder object\n",
    "le = LabelEncoder()\n",
    "le_count = 0\n",
    "\n",
    "# Iterate through the columns\n",
    "for col in train_data:\n",
    "    if train_data[col].dtype == 'object':\n",
    "        # If 2 or fewer unique categories\n",
    "        if len(list(train_data[col].unique())) <= 2:\n",
    "            # Train on the training data\n",
    "            le.fit(train_data[col])\n",
    "            # Transform both training and testing data\n",
    "            train_data[col] = le.transform(train_data[col])\n",
    "            test_data[col] = le.transform(test_data[col])\n",
    "            \n",
    "            # Keep track of how many columns were label encoded\n",
    "            le_count += 1\n",
    "            \n",
    "print('%d columns were label encoded.' % le_count)\n",
    "\n",
    "\n",
    "\n",
    "# one-hot encoding of categorical variables\n",
    "train_data = pd.get_dummies(train_data)\n",
    "test_data = pd.get_dummies(test_data)\n",
    "\n",
    "print('Training Features shape: ', train_data.shape)\n",
    "print('Testing Features shape: ', test_data.shape)\n",
    "\"\"\""
   ]
  },
  {
   "cell_type": "markdown",
   "id": "bf679cd0-3cef-4f01-a940-7e1e917c2d1f",
   "metadata": {},
   "source": [
    "Seems we have an issue on the number of features that are now not matching. \\\n",
    "It is expected to only have 1 missing column, as the TARGET column is not present in the application_test file"
   ]
  },
  {
   "cell_type": "code",
   "execution_count": 42,
   "id": "05436bb5-7d0e-49bb-9e5e-8062184e804f",
   "metadata": {},
   "outputs": [
    {
     "data": {
      "text/plain": [
       "'#Which are the missing columns in test_data ?\\nmissing_columns = []\\nfor col in train_data.columns:\\n    if col not in test_data.columns:\\n        missing_columns.append(col)\\n\\nprint(missing_columns)'"
      ]
     },
     "execution_count": 42,
     "metadata": {},
     "output_type": "execute_result"
    }
   ],
   "source": [
    "\"\"\"#Which are the missing columns in test_data ?\n",
    "missing_columns = []\n",
    "for col in train_data.columns:\n",
    "    if col not in test_data.columns:\n",
    "        missing_columns.append(col)\n",
    "\n",
    "print(missing_columns)\"\"\""
   ]
  },
  {
   "cell_type": "code",
   "execution_count": 43,
   "id": "520d2d90-ba19-49be-9b6b-83af6f4ecaf5",
   "metadata": {},
   "outputs": [
    {
     "data": {
      "text/plain": [
       "'#No exclusive columns in test_data ?\\nmissing_columns2 = []\\nfor col in test_data.columns:\\n    if col not in train_data.columns:\\n        missing_columns2.append(col)\\n\\nprint(missing_columns2)'"
      ]
     },
     "execution_count": 43,
     "metadata": {},
     "output_type": "execute_result"
    }
   ],
   "source": [
    "\"\"\"#No exclusive columns in test_data ?\n",
    "missing_columns2 = []\n",
    "for col in test_data.columns:\n",
    "    if col not in train_data.columns:\n",
    "        missing_columns2.append(col)\n",
    "\n",
    "print(missing_columns2)\"\"\""
   ]
  },
  {
   "cell_type": "markdown",
   "id": "0ccf7f89-98c1-458c-94ac-0070411e466f",
   "metadata": {},
   "source": [
    "!! "
   ]
  },
  {
   "cell_type": "markdown",
   "id": "7fb48203-6d13-478a-b208-93336cf1e7ee",
   "metadata": {},
   "source": [
    "It appears that the application_train file has more details than the application_test file : \\\n",
    "- Possibility to be non-binary ('XNA') in GENDER\n",
    "- Maternity leave income is specified\n",
    "- Family status unknown is specified\n",
    "\n",
    "Are those really relevant or expendable ?"
   ]
  },
  {
   "cell_type": "code",
   "execution_count": 44,
   "id": "b4eed1f6-57c0-476b-9616-0866fd32056b",
   "metadata": {},
   "outputs": [
    {
     "data": {
      "text/plain": [
       "'#Let\\'s look at population in those \"exclusive columns\"\\n#missing_columns.remove(\\'TARGET\\')\\nfor col in missing_columns:\\n    print(train_data.loc[:,col].value_counts())'"
      ]
     },
     "execution_count": 44,
     "metadata": {},
     "output_type": "execute_result"
    }
   ],
   "source": [
    "\"\"\"#Let's look at population in those \"exclusive columns\"\n",
    "#missing_columns.remove('TARGET')\n",
    "for col in missing_columns:\n",
    "    print(train_data.loc[:,col].value_counts())\"\"\""
   ]
  },
  {
   "cell_type": "markdown",
   "id": "2468d283-db02-435f-9031-a6fcc4f5b1e8",
   "metadata": {},
   "source": [
    "Not taking those columns into accounts will deprive us of 11 rows worth of information, which is less than 0.01% of data \n",
    "\n",
    "Those columns are therefore expendable, and will be dropped when df are aligned"
   ]
  },
  {
   "cell_type": "code",
   "execution_count": 45,
   "id": "48bc2afe-e489-44b4-be47-af9d07c2790c",
   "metadata": {},
   "outputs": [
    {
     "data": {
      "text/plain": [
       "\"#Keeping the align of Kaggle. \\ntrain_labels = train_data['TARGET']\\n\\n# Align the training and testing data, keep only columns present in both dataframes\\ntrain_data, test_data = train_data.align(test_data, join = 'inner', axis = 1)\\n\\n# Add the target back in\\ntrain_data['TARGET'] = train_labels\\n\\nprint('Training Features shape: ', train_data.shape)\\nprint('Testing Features shape: ', test_data.shape)\""
      ]
     },
     "execution_count": 45,
     "metadata": {},
     "output_type": "execute_result"
    }
   ],
   "source": [
    "\"\"\"#Keeping the align of Kaggle. \n",
    "train_labels = train_data['TARGET']\n",
    "\n",
    "# Align the training and testing data, keep only columns present in both dataframes\n",
    "train_data, test_data = train_data.align(test_data, join = 'inner', axis = 1)\n",
    "\n",
    "# Add the target back in\n",
    "train_data['TARGET'] = train_labels\n",
    "\n",
    "print('Training Features shape: ', train_data.shape)\n",
    "print('Testing Features shape: ', test_data.shape)\"\"\""
   ]
  },
  {
   "cell_type": "markdown",
   "id": "20cb4f3d-63b8-41aa-8a91-1a1bfb70abb5",
   "metadata": {
    "tags": []
   },
   "source": [
    "### Numercial values"
   ]
  },
  {
   "cell_type": "code",
   "execution_count": 46,
   "id": "90c96d12-e29e-42e3-a10b-7fb361393d71",
   "metadata": {},
   "outputs": [],
   "source": [
    "# which columns need inspection ?\n",
    "# Find a way to use .describe() only on columns with more than 2 uniques, as the other could be product of the encoding"
   ]
  },
  {
   "cell_type": "code",
   "execution_count": 47,
   "id": "6a2ef2d7-5d9f-43c1-856c-74d87c623f7b",
   "metadata": {},
   "outputs": [
    {
     "data": {
      "text/plain": [
       "count    307511.000000\n",
       "mean         43.936973\n",
       "std          11.956133\n",
       "min          20.517808\n",
       "25%          34.008219\n",
       "50%          43.150685\n",
       "75%          53.923288\n",
       "max          69.120548\n",
       "Name: DAYS_BIRTH, dtype: float64"
      ]
     },
     "execution_count": 47,
     "metadata": {},
     "output_type": "execute_result"
    }
   ],
   "source": [
    "((train_data['DAYS_BIRTH']*-1)/365).describe()"
   ]
  },
  {
   "cell_type": "code",
   "execution_count": 48,
   "id": "942cc5f8-d79d-4ca1-9502-27d0773620f2",
   "metadata": {},
   "outputs": [
    {
     "data": {
      "text/plain": [
       "count    307511.000000\n",
       "mean      63815.045904\n",
       "std      141275.766519\n",
       "min      -17912.000000\n",
       "25%       -2760.000000\n",
       "50%       -1213.000000\n",
       "75%        -289.000000\n",
       "max      365243.000000\n",
       "Name: DAYS_EMPLOYED, dtype: float64"
      ]
     },
     "execution_count": 48,
     "metadata": {},
     "output_type": "execute_result"
    }
   ],
   "source": [
    "train_data['DAYS_EMPLOYED'].describe()"
   ]
  },
  {
   "cell_type": "markdown",
   "id": "b56928e9-9e98-4ffe-ab56-bd0a3dfbef54",
   "metadata": {},
   "source": [
    "This column describe the number of days of which current job is occupied prior to loan demand. \\\n",
    "This means that a -1213 value indicate that client started his current position 1213 days before asking for a loan (roughly 1.3 year)\n",
    "\n",
    "From this we observe that the max value is impossible : \n",
    "- Value cannot be positive (or client would declare that he just changed position, thus leading to a value of 0)\n",
    "- 365243 is roughly a thousand years"
   ]
  },
  {
   "cell_type": "code",
   "execution_count": 49,
   "id": "96639efd-afa7-43d2-9267-396cb95ef6a9",
   "metadata": {},
   "outputs": [
    {
     "data": {
      "image/png": "[encoded data removed]",
      "text/plain": [
       "<Figure size 640x480 with 1 Axes>"
      ]
     },
     "metadata": {},
     "output_type": "display_data"
    }
   ],
   "source": [
    "#plotting data\n",
    "train_data['DAYS_EMPLOYED'].plot.hist(title = 'Days Employment Histogram');\n",
    "plt.xlabel('Days Employment');"
   ]
  },
  {
   "cell_type": "code",
   "execution_count": 50,
   "id": "a5dce434-221d-4edc-8350-9d2d383be3d9",
   "metadata": {},
   "outputs": [
    {
     "name": "stdout",
     "output_type": "stream",
     "text": [
      "The non-anomalies default on 8.66% of loans\n",
      "The anomalies default on 5.4% of loans\n",
      "There are 55374 anomalous days of employment\n"
     ]
    }
   ],
   "source": [
    "#Inspecting anomalous vs. regular data regarding loan default rate\n",
    "anom = train_data[train_data['DAYS_EMPLOYED'] == 365243]\n",
    "non_anom = train_data[train_data['DAYS_EMPLOYED'] != 365243]\n",
    "\n",
    "default_rate_anom = np.round(100 * anom['TARGET'].mean(), 2)\n",
    "default_rate_non_anom = np.round(100 * non_anom['TARGET'].mean(), 2)\n",
    "days_anom = len(anom)\n",
    "\n",
    "print(f'The non-anomalies default on {default_rate_non_anom}% of loans')\n",
    "print(f'The anomalies default on {default_rate_anom}% of loans')\n",
    "print(f'There are {days_anom} anomalous days of employment')"
   ]
  },
  {
   "cell_type": "markdown",
   "id": "c579487b-28f2-4d11-bc3b-3e8b729b1a2a",
   "metadata": {},
   "source": [
    "Anomalous days seems to have better results in loan rate than the others. \\\n",
    "To protect this information, we will create a new column to flag anomalous days. \n",
    "\n",
    "\n",
    "This way, when imputation come, we will be able to impute all anomalous days with the same value\n"
   ]
  },
  {
   "cell_type": "code",
   "execution_count": 51,
   "id": "b71307c7-ab49-464d-8832-dd88fabd69b8",
   "metadata": {},
   "outputs": [
    {
     "data": {
      "text/plain": [
       "Text(0.5, 0, 'Days Employment')"
      ]
     },
     "execution_count": 51,
     "metadata": {},
     "output_type": "execute_result"
    },
    {
     "data": {
      "image/png": "[encoded data removed]",
      "text/plain": [
       "<Figure size 640x480 with 1 Axes>"
      ]
     },
     "metadata": {},
     "output_type": "display_data"
    }
   ],
   "source": [
    "# Create an anomalous flag column\n",
    "train_data['DAYS_EMPLOYED_ANOM'] = train_data[\"DAYS_EMPLOYED\"] == 365243\n",
    "\n",
    "# Replace the anomalous values with nan\n",
    "train_data['DAYS_EMPLOYED'].replace({365243: np.nan}, inplace = True)\n",
    "\n",
    "train_data['DAYS_EMPLOYED'].plot.hist(title = 'Days Employment Histogram')\n",
    "plt.xlabel('Days Employment')"
   ]
  },
  {
   "cell_type": "code",
   "execution_count": 52,
   "id": "a95d5c99-214d-40ab-a005-5b148741b733",
   "metadata": {},
   "outputs": [
    {
     "name": "stdout",
     "output_type": "stream",
     "text": [
      "There are 9274 anomalies in the test data out of 48744 entries\n"
     ]
    }
   ],
   "source": [
    "# Not forgetting to duplicate all operations led on train_data on test_data\n",
    "test_data['DAYS_EMPLOYED_ANOM'] = test_data[\"DAYS_EMPLOYED\"] == 365243\n",
    "test_data[\"DAYS_EMPLOYED\"].replace({365243: np.nan}, inplace = True)\n",
    "\n",
    "print('There are %d anomalies in the test data out of %d entries' % (test_data[\"DAYS_EMPLOYED_ANOM\"].sum(), len(test_data)))"
   ]
  },
  {
   "cell_type": "markdown",
   "id": "a5b963c9-a61d-445c-82ed-6533cc0840e7",
   "metadata": {},
   "source": [
    "Problem is, imputation already happened !! So what value do we put here ??\n",
    "\n",
    "We will impute missing values with median, to keep things simple, as we have a flag columns to identify them if needed"
   ]
  },
  {
   "cell_type": "code",
   "execution_count": 53,
   "id": "84a1bdb9-9931-495a-9d48-e13a34fa62af",
   "metadata": {},
   "outputs": [
    {
     "data": {
      "text/html": [
       "<div>\n",
       "<style scoped>\n",
       "    .dataframe tbody tr th:only-of-type {\n",
       "        vertical-align: middle;\n",
       "    }\n",
       "\n",
       "    .dataframe tbody tr th {\n",
       "        vertical-align: top;\n",
       "    }\n",
       "\n",
       "    .dataframe thead th {\n",
       "        text-align: right;\n",
       "    }\n",
       "</style>\n",
       "<table border=\"1\" class=\"dataframe\">\n",
       "  <thead>\n",
       "    <tr style=\"text-align: right;\">\n",
       "      <th></th>\n",
       "      <th>DAYS_EMPLOYED</th>\n",
       "      <th>DAYS_EMPLOYED_ANOM</th>\n",
       "    </tr>\n",
       "  </thead>\n",
       "  <tbody>\n",
       "    <tr>\n",
       "      <th>8</th>\n",
       "      <td>NaN</td>\n",
       "      <td>True</td>\n",
       "    </tr>\n",
       "    <tr>\n",
       "      <th>11</th>\n",
       "      <td>NaN</td>\n",
       "      <td>True</td>\n",
       "    </tr>\n",
       "    <tr>\n",
       "      <th>23</th>\n",
       "      <td>NaN</td>\n",
       "      <td>True</td>\n",
       "    </tr>\n",
       "    <tr>\n",
       "      <th>38</th>\n",
       "      <td>NaN</td>\n",
       "      <td>True</td>\n",
       "    </tr>\n",
       "    <tr>\n",
       "      <th>43</th>\n",
       "      <td>NaN</td>\n",
       "      <td>True</td>\n",
       "    </tr>\n",
       "    <tr>\n",
       "      <th>...</th>\n",
       "      <td>...</td>\n",
       "      <td>...</td>\n",
       "    </tr>\n",
       "    <tr>\n",
       "      <th>307469</th>\n",
       "      <td>NaN</td>\n",
       "      <td>True</td>\n",
       "    </tr>\n",
       "    <tr>\n",
       "      <th>307483</th>\n",
       "      <td>NaN</td>\n",
       "      <td>True</td>\n",
       "    </tr>\n",
       "    <tr>\n",
       "      <th>307487</th>\n",
       "      <td>NaN</td>\n",
       "      <td>True</td>\n",
       "    </tr>\n",
       "    <tr>\n",
       "      <th>307505</th>\n",
       "      <td>NaN</td>\n",
       "      <td>True</td>\n",
       "    </tr>\n",
       "    <tr>\n",
       "      <th>307507</th>\n",
       "      <td>NaN</td>\n",
       "      <td>True</td>\n",
       "    </tr>\n",
       "  </tbody>\n",
       "</table>\n",
       "<p>55374 rows × 2 columns</p>\n",
       "</div>"
      ],
      "text/plain": [
       "        DAYS_EMPLOYED  DAYS_EMPLOYED_ANOM\n",
       "8                 NaN                True\n",
       "11                NaN                True\n",
       "23                NaN                True\n",
       "38                NaN                True\n",
       "43                NaN                True\n",
       "...               ...                 ...\n",
       "307469            NaN                True\n",
       "307483            NaN                True\n",
       "307487            NaN                True\n",
       "307505            NaN                True\n",
       "307507            NaN                True\n",
       "\n",
       "[55374 rows x 2 columns]"
      ]
     },
     "execution_count": 53,
     "metadata": {},
     "output_type": "execute_result"
    }
   ],
   "source": [
    "mask = train_data[train_data[\"DAYS_EMPLOYED_ANOM\"]==True]\n",
    "\n",
    "mask[[\"DAYS_EMPLOYED\",\"DAYS_EMPLOYED_ANOM\"]]"
   ]
  },
  {
   "cell_type": "code",
   "execution_count": 54,
   "id": "d7a72603-9427-422e-b87b-cffa71d5417c",
   "metadata": {},
   "outputs": [],
   "source": [
    "chosen_value_train = train_data[\"DAYS_EMPLOYED\"].median()\n",
    "chosen_value_test = test_data[\"DAYS_EMPLOYED\"].median()\n",
    "\n",
    "train_data['DAYS_EMPLOYED'].replace({np.nan: chosen_value_train}, inplace = True)\n",
    "test_data[\"DAYS_EMPLOYED\"].replace({np.nan: chosen_value_test}, inplace = True)"
   ]
  },
  {
   "cell_type": "markdown",
   "id": "25a0365e-528a-4990-ac1a-a467ea3dc5ae",
   "metadata": {
    "tags": []
   },
   "source": [
    "### Correlations"
   ]
  },
  {
   "cell_type": "code",
   "execution_count": 55,
   "id": "efd437fa-fd1a-4609-9bd0-9ae05c1ecfe0",
   "metadata": {},
   "outputs": [
    {
     "name": "stdout",
     "output_type": "stream",
     "text": [
      "Most Positive Correlations:\n",
      " TARGET                                               1.000000\n",
      "DAYS_BIRTH                                           0.078239\n",
      "DAYS_EMPLOYED                                        0.063368\n",
      "REGION_RATING_CLIENT_W_CITY                          0.060893\n",
      "REGION_RATING_CLIENT                                 0.058899\n",
      "NAME_INCOME_TYPE_Working                             0.057481\n",
      "DAYS_LAST_PHONE_CHANGE                               0.055218\n",
      "CODE_GENDER_M                                        0.054713\n",
      "DAYS_ID_PUBLISH                                      0.051457\n",
      "REG_CITY_NOT_WORK_CITY                               0.050994\n",
      "NAME_EDUCATION_TYPE_Secondary / secondary special    0.049824\n",
      "FLAG_EMP_PHONE                                       0.045982\n",
      "REG_CITY_NOT_LIVE_CITY                               0.044395\n",
      "FLAG_DOCUMENT_3                                      0.044346\n",
      "OCCUPATION_TYPE_Laborers                             0.043019\n",
      "Name: TARGET, dtype: float64\n",
      "\n",
      "Most Negative Correlations:\n",
      " NAME_CONTRACT_TYPE                     -0.030896\n",
      "WALLSMATERIAL_MODE_Panel               -0.033119\n",
      "REGION_POPULATION_RELATIVE             -0.037227\n",
      "OCCUPATION_TYPE_Unknown                -0.038690\n",
      "AMT_GOODS_PRICE                        -0.039628\n",
      "HOUSETYPE_MODE_block of flats          -0.040594\n",
      "EMERGENCYSTATE_MODE_No                 -0.042201\n",
      "DAYS_EMPLOYED_ANOM                     -0.045987\n",
      "ORGANIZATION_TYPE_XNA                  -0.045987\n",
      "NAME_INCOME_TYPE_Pensioner             -0.046209\n",
      "CODE_GENDER_F                          -0.054704\n",
      "NAME_EDUCATION_TYPE_Higher education   -0.056593\n",
      "EXT_SOURCE_1                           -0.099152\n",
      "EXT_SOURCE_3                           -0.157397\n",
      "EXT_SOURCE_2                           -0.160303\n",
      "Name: TARGET, dtype: float64\n"
     ]
    }
   ],
   "source": [
    "# Find correlations with the target and sort\n",
    "correlations = train_data.corr()['TARGET'].sort_values(ascending=False)\n",
    "\n",
    "# Display correlations\n",
    "print('Most Positive Correlations:\\n', correlations.head(15))\n",
    "print('\\nMost Negative Correlations:\\n', correlations.tail(15))"
   ]
  },
  {
   "cell_type": "markdown",
   "id": "ce416efe-7fcc-47e9-a543-e00e9370be2c",
   "metadata": {},
   "source": [
    "Important correlations with Target are : \n",
    "- Postively : Days birth, days employed, Region rating with city\n",
    "- Negatively : Ext source 3, 2 and 1\n",
    "\n",
    "It would be interesting to see how much those 6 features explain of the variance of Target, with a cumsum perhaps ?\n",
    "\n",
    "But we'll first investigate those features"
   ]
  },
  {
   "cell_type": "markdown",
   "id": "59bd643b-8c53-434c-a4f0-7557bf56b39d",
   "metadata": {},
   "source": [
    "It is important to remember that Days_birth is written in negative value (not sure why), meaning the DAYS_BIRTH data \\\n",
    "is the number of days of existence prior to data collection, which is done when a loan is asked for.\n",
    "\n",
    "The correlation is positive, which should mean that as the value goes up, the client is more likely to default the credit.\n",
    "However, in our prevision inspection,  we saw that older client are more likely to repay credits. \n",
    "Moreover, the higher a value of DAY_BIRTH is, the younger the client actually is. \n",
    "\n",
    "Therefore, we will take the absolute value of DAYS_BIRTH to inspect the correlation"
   ]
  },
  {
   "cell_type": "code",
   "execution_count": 56,
   "id": "2eb64bbd-8e2f-4bf5-b4a4-7b07f250fae1",
   "metadata": {},
   "outputs": [
    {
     "data": {
      "text/plain": [
       "-0.07823930830982712"
      ]
     },
     "execution_count": 56,
     "metadata": {},
     "output_type": "execute_result"
    }
   ],
   "source": [
    "# Find the correlation of the positive days since birth and target\n",
    "train_data['DAYS_BIRTH'] = abs(train_data['DAYS_BIRTH'])\n",
    "train_data['DAYS_BIRTH'].corr(train_data['TARGET'])"
   ]
  },
  {
   "cell_type": "markdown",
   "id": "334ee824-d9ad-4fee-ab60-25a01d114d26",
   "metadata": {},
   "source": [
    "As clients get older, they will repay their loans"
   ]
  },
  {
   "cell_type": "code",
   "execution_count": 57,
   "id": "a33e5f96-1d2a-4d99-bf7a-296006e7c7e7",
   "metadata": {},
   "outputs": [
    {
     "data": {
      "text/plain": [
       "Text(0, 0.5, 'Count')"
      ]
     },
     "execution_count": 57,
     "metadata": {},
     "output_type": "execute_result"
    },
    {
     "data": {
      "image/png": "[encoded data removed]",
      "text/plain": [
       "<Figure size 640x480 with 1 Axes>"
      ]
     },
     "metadata": {},
     "output_type": "display_data"
    }
   ],
   "source": [
    "# Plot the distribution of ages in years\n",
    "plt.grid()\n",
    "plt.hist(train_data['DAYS_BIRTH'] / 365, edgecolor = 'k', bins = 25)\n",
    "\n",
    "plt.title('Age of Client') \n",
    "plt.xlabel('Age (years)') \n",
    "plt.ylabel('Count')"
   ]
  },
  {
   "cell_type": "code",
   "execution_count": 58,
   "id": "dee875ba-78bd-4019-90d7-1b1e83661a07",
   "metadata": {},
   "outputs": [
    {
     "name": "stderr",
     "output_type": "stream",
     "text": [
      "C:\\Users\\kanam\\anaconda3\\Lib\\site-packages\\seaborn\\_oldcore.py:1119: FutureWarning: use_inf_as_na option is deprecated and will be removed in a future version. Convert inf values to NaN before operating instead.\n",
      "  with pd.option_context('mode.use_inf_as_na', True):\n",
      "C:\\Users\\kanam\\anaconda3\\Lib\\site-packages\\seaborn\\_oldcore.py:1119: FutureWarning: use_inf_as_na option is deprecated and will be removed in a future version. Convert inf values to NaN before operating instead.\n",
      "  with pd.option_context('mode.use_inf_as_na', True):\n"
     ]
    },
    {
     "data": {
      "text/plain": [
       "<matplotlib.legend.Legend at 0x23f001a3dd0>"
      ]
     },
     "execution_count": 58,
     "metadata": {},
     "output_type": "execute_result"
    },
    {
     "data": {
      "image/png": "[encoded data removed]",
      "text/plain": [
       "<Figure size 1000x800 with 1 Axes>"
      ]
     },
     "metadata": {},
     "output_type": "display_data"
    }
   ],
   "source": [
    "#Kernel Density Estimation\n",
    "plt.figure(figsize = (10, 8))\n",
    "plt.grid()\n",
    "# KDE plot of loans that were repaid on time\n",
    "sns.kdeplot(train_data.loc[train_data['TARGET'] == 0, 'DAYS_BIRTH'] / 365, label = 'target == 0')\n",
    "\n",
    "# KDE plot of loans which were not repaid on time\n",
    "sns.kdeplot(train_data.loc[train_data['TARGET'] == 1, 'DAYS_BIRTH'] / 365, label = 'target == 1')\n",
    "\n",
    "# Labeling of plot\n",
    "plt.xlabel('Age (years)')\n",
    "plt.ylabel('Density')\n",
    "plt.title('Distribution of Ages')\n",
    "plt.legend()"
   ]
  },
  {
   "cell_type": "code",
   "execution_count": 59,
   "id": "d6209e20-d7d3-4075-a9ae-4fff43d80672",
   "metadata": {},
   "outputs": [
    {
     "name": "stderr",
     "output_type": "stream",
     "text": [
      "C:\\Users\\kanam\\AppData\\Local\\Temp\\ipykernel_9464\\2154641714.py:3: SettingWithCopyWarning: \n",
      "A value is trying to be set on a copy of a slice from a DataFrame.\n",
      "Try using .loc[row_indexer,col_indexer] = value instead\n",
      "\n",
      "See the caveats in the documentation: https://pandas.pydata.org/pandas-docs/stable/user_guide/indexing.html#returning-a-view-versus-a-copy\n",
      "  age_data['YEARS_BIRTH'] = age_data['DAYS_BIRTH'] / 365\n",
      "C:\\Users\\kanam\\AppData\\Local\\Temp\\ipykernel_9464\\2154641714.py:6: SettingWithCopyWarning: \n",
      "A value is trying to be set on a copy of a slice from a DataFrame.\n",
      "Try using .loc[row_indexer,col_indexer] = value instead\n",
      "\n",
      "See the caveats in the documentation: https://pandas.pydata.org/pandas-docs/stable/user_guide/indexing.html#returning-a-view-versus-a-copy\n",
      "  age_data['YEARS_BINNED'] = pd.cut(age_data['YEARS_BIRTH'], bins = np.linspace(20, 70, num = 11))\n",
      "C:\\Users\\kanam\\AppData\\Local\\Temp\\ipykernel_9464\\2154641714.py:11: FutureWarning: The default of observed=False is deprecated and will be changed to True in a future version of pandas. Pass observed=False to retain current behavior or observed=True to adopt the future default and silence this warning.\n",
      "  age_groups  = age_data.groupby('YEARS_BINNED').mean()\n"
     ]
    },
    {
     "data": {
      "text/html": [
       "<div>\n",
       "<style scoped>\n",
       "    .dataframe tbody tr th:only-of-type {\n",
       "        vertical-align: middle;\n",
       "    }\n",
       "\n",
       "    .dataframe tbody tr th {\n",
       "        vertical-align: top;\n",
       "    }\n",
       "\n",
       "    .dataframe thead th {\n",
       "        text-align: right;\n",
       "    }\n",
       "</style>\n",
       "<table border=\"1\" class=\"dataframe\">\n",
       "  <thead>\n",
       "    <tr style=\"text-align: right;\">\n",
       "      <th></th>\n",
       "      <th>TARGET</th>\n",
       "      <th>DAYS_BIRTH</th>\n",
       "      <th>YEARS_BIRTH</th>\n",
       "    </tr>\n",
       "    <tr>\n",
       "      <th>YEARS_BINNED</th>\n",
       "      <th></th>\n",
       "      <th></th>\n",
       "      <th></th>\n",
       "    </tr>\n",
       "  </thead>\n",
       "  <tbody>\n",
       "    <tr>\n",
       "      <th>(20.0, 25.0]</th>\n",
       "      <td>0.123036</td>\n",
       "      <td>8532.795625</td>\n",
       "      <td>23.377522</td>\n",
       "    </tr>\n",
       "    <tr>\n",
       "      <th>(25.0, 30.0]</th>\n",
       "      <td>0.111436</td>\n",
       "      <td>10155.219250</td>\n",
       "      <td>27.822518</td>\n",
       "    </tr>\n",
       "    <tr>\n",
       "      <th>(30.0, 35.0]</th>\n",
       "      <td>0.102814</td>\n",
       "      <td>11854.848377</td>\n",
       "      <td>32.479037</td>\n",
       "    </tr>\n",
       "    <tr>\n",
       "      <th>(35.0, 40.0]</th>\n",
       "      <td>0.089414</td>\n",
       "      <td>13707.908253</td>\n",
       "      <td>37.555913</td>\n",
       "    </tr>\n",
       "    <tr>\n",
       "      <th>(40.0, 45.0]</th>\n",
       "      <td>0.078491</td>\n",
       "      <td>15497.661233</td>\n",
       "      <td>42.459346</td>\n",
       "    </tr>\n",
       "    <tr>\n",
       "      <th>(45.0, 50.0]</th>\n",
       "      <td>0.074171</td>\n",
       "      <td>17323.900441</td>\n",
       "      <td>47.462741</td>\n",
       "    </tr>\n",
       "    <tr>\n",
       "      <th>(50.0, 55.0]</th>\n",
       "      <td>0.066968</td>\n",
       "      <td>19196.494791</td>\n",
       "      <td>52.593136</td>\n",
       "    </tr>\n",
       "    <tr>\n",
       "      <th>(55.0, 60.0]</th>\n",
       "      <td>0.055314</td>\n",
       "      <td>20984.262742</td>\n",
       "      <td>57.491131</td>\n",
       "    </tr>\n",
       "    <tr>\n",
       "      <th>(60.0, 65.0]</th>\n",
       "      <td>0.052737</td>\n",
       "      <td>22780.547460</td>\n",
       "      <td>62.412459</td>\n",
       "    </tr>\n",
       "    <tr>\n",
       "      <th>(65.0, 70.0]</th>\n",
       "      <td>0.037270</td>\n",
       "      <td>24292.614340</td>\n",
       "      <td>66.555108</td>\n",
       "    </tr>\n",
       "  </tbody>\n",
       "</table>\n",
       "</div>"
      ],
      "text/plain": [
       "                TARGET    DAYS_BIRTH  YEARS_BIRTH\n",
       "YEARS_BINNED                                     \n",
       "(20.0, 25.0]  0.123036   8532.795625    23.377522\n",
       "(25.0, 30.0]  0.111436  10155.219250    27.822518\n",
       "(30.0, 35.0]  0.102814  11854.848377    32.479037\n",
       "(35.0, 40.0]  0.089414  13707.908253    37.555913\n",
       "(40.0, 45.0]  0.078491  15497.661233    42.459346\n",
       "(45.0, 50.0]  0.074171  17323.900441    47.462741\n",
       "(50.0, 55.0]  0.066968  19196.494791    52.593136\n",
       "(55.0, 60.0]  0.055314  20984.262742    57.491131\n",
       "(60.0, 65.0]  0.052737  22780.547460    62.412459\n",
       "(65.0, 70.0]  0.037270  24292.614340    66.555108"
      ]
     },
     "execution_count": 59,
     "metadata": {},
     "output_type": "execute_result"
    }
   ],
   "source": [
    "# Age information into a separate dataframe\n",
    "age_data = train_data[['TARGET', 'DAYS_BIRTH']]\n",
    "age_data['YEARS_BIRTH'] = age_data['DAYS_BIRTH'] / 365\n",
    "\n",
    "# Bin the age data\n",
    "age_data['YEARS_BINNED'] = pd.cut(age_data['YEARS_BIRTH'], bins = np.linspace(20, 70, num = 11))\n",
    "age_data.head(10)\n",
    "\n",
    "\n",
    "# Group by the bin and calculate averages\n",
    "age_groups  = age_data.groupby('YEARS_BINNED').mean()\n",
    "age_groups"
   ]
  },
  {
   "cell_type": "code",
   "execution_count": 60,
   "id": "ab1f6a34-b433-49a1-86be-89cee4fc61d1",
   "metadata": {},
   "outputs": [
    {
     "data": {
      "text/plain": [
       "Text(0.5, 1.0, 'Failure to Repay by Age Group')"
      ]
     },
     "execution_count": 60,
     "metadata": {},
     "output_type": "execute_result"
    },
    {
     "data": {
      "image/png": "[encoded data removed]",
      "text/plain": [
       "<Figure size 800x800 with 1 Axes>"
      ]
     },
     "metadata": {},
     "output_type": "display_data"
    }
   ],
   "source": [
    "#plot the failure to repay loans\n",
    "plt.figure(figsize = (8, 8))\n",
    "plt.grid()\n",
    "\n",
    "# Graph the age bins and the average of the target as a bar plot\n",
    "plt.bar(age_groups.index.astype(str), 100 * age_groups['TARGET'])\n",
    "\n",
    "# Plot labeling\n",
    "plt.xticks(rotation = 75); plt.xlabel('Age Group (years)'); plt.ylabel('Failure to Repay (%)')\n",
    "plt.title('Failure to Repay by Age Group')"
   ]
  },
  {
   "cell_type": "markdown",
   "id": "bfe852bd-da81-4229-b4b4-6948b19abad2",
   "metadata": {
    "tags": []
   },
   "source": [
    "#### Exterior sources"
   ]
  },
  {
   "cell_type": "code",
   "execution_count": 61,
   "id": "d570aeec-009c-4f70-b5b7-66edbde81cca",
   "metadata": {},
   "outputs": [
    {
     "data": {
      "text/html": [
       "<div>\n",
       "<style scoped>\n",
       "    .dataframe tbody tr th:only-of-type {\n",
       "        vertical-align: middle;\n",
       "    }\n",
       "\n",
       "    .dataframe tbody tr th {\n",
       "        vertical-align: top;\n",
       "    }\n",
       "\n",
       "    .dataframe thead th {\n",
       "        text-align: right;\n",
       "    }\n",
       "</style>\n",
       "<table border=\"1\" class=\"dataframe\">\n",
       "  <thead>\n",
       "    <tr style=\"text-align: right;\">\n",
       "      <th></th>\n",
       "      <th>TARGET</th>\n",
       "      <th>EXT_SOURCE_1</th>\n",
       "      <th>EXT_SOURCE_2</th>\n",
       "      <th>EXT_SOURCE_3</th>\n",
       "      <th>DAYS_BIRTH</th>\n",
       "    </tr>\n",
       "  </thead>\n",
       "  <tbody>\n",
       "    <tr>\n",
       "      <th>TARGET</th>\n",
       "      <td>1.000000</td>\n",
       "      <td>-0.099152</td>\n",
       "      <td>-0.160303</td>\n",
       "      <td>-0.157397</td>\n",
       "      <td>-0.078239</td>\n",
       "    </tr>\n",
       "    <tr>\n",
       "      <th>EXT_SOURCE_1</th>\n",
       "      <td>-0.099152</td>\n",
       "      <td>1.000000</td>\n",
       "      <td>0.135721</td>\n",
       "      <td>0.110606</td>\n",
       "      <td>0.358525</td>\n",
       "    </tr>\n",
       "    <tr>\n",
       "      <th>EXT_SOURCE_2</th>\n",
       "      <td>-0.160303</td>\n",
       "      <td>0.135721</td>\n",
       "      <td>1.000000</td>\n",
       "      <td>0.096653</td>\n",
       "      <td>0.091885</td>\n",
       "    </tr>\n",
       "    <tr>\n",
       "      <th>EXT_SOURCE_3</th>\n",
       "      <td>-0.157397</td>\n",
       "      <td>0.110606</td>\n",
       "      <td>0.096653</td>\n",
       "      <td>1.000000</td>\n",
       "      <td>0.181252</td>\n",
       "    </tr>\n",
       "    <tr>\n",
       "      <th>DAYS_BIRTH</th>\n",
       "      <td>-0.078239</td>\n",
       "      <td>0.358525</td>\n",
       "      <td>0.091885</td>\n",
       "      <td>0.181252</td>\n",
       "      <td>1.000000</td>\n",
       "    </tr>\n",
       "  </tbody>\n",
       "</table>\n",
       "</div>"
      ],
      "text/plain": [
       "                TARGET  EXT_SOURCE_1  EXT_SOURCE_2  EXT_SOURCE_3  DAYS_BIRTH\n",
       "TARGET        1.000000     -0.099152     -0.160303     -0.157397   -0.078239\n",
       "EXT_SOURCE_1 -0.099152      1.000000      0.135721      0.110606    0.358525\n",
       "EXT_SOURCE_2 -0.160303      0.135721      1.000000      0.096653    0.091885\n",
       "EXT_SOURCE_3 -0.157397      0.110606      0.096653      1.000000    0.181252\n",
       "DAYS_BIRTH   -0.078239      0.358525      0.091885      0.181252    1.000000"
      ]
     },
     "execution_count": 61,
     "metadata": {},
     "output_type": "execute_result"
    }
   ],
   "source": [
    "# Extract the EXT_SOURCE variables and show correlations\n",
    "ext_data = train_data[['TARGET', 'EXT_SOURCE_1', 'EXT_SOURCE_2', 'EXT_SOURCE_3', 'DAYS_BIRTH']]\n",
    "ext_data_corrs = ext_data.corr()\n",
    "ext_data_corrs"
   ]
  },
  {
   "cell_type": "code",
   "execution_count": 62,
   "id": "041c9d76-b269-4764-b366-ad865cf15d48",
   "metadata": {},
   "outputs": [
    {
     "data": {
      "text/plain": [
       "Text(0.5, 1.0, 'Correlation Heatmap')"
      ]
     },
     "execution_count": 62,
     "metadata": {},
     "output_type": "execute_result"
    },
    {
     "data": {
      "image/png": "[encoded data removed]",
      "text/plain": [
       "<Figure size 800x600 with 2 Axes>"
      ]
     },
     "metadata": {},
     "output_type": "display_data"
    }
   ],
   "source": [
    "plt.figure(figsize = (8, 6))\n",
    "\n",
    "# Heatmap of correlations\n",
    "sns.heatmap(ext_data_corrs, cmap = plt.cm.RdYlBu_r, annot = True, vmin = -0.20, vmax = 0.6)\n",
    "plt.title('Correlation Heatmap')"
   ]
  },
  {
   "cell_type": "code",
   "execution_count": 63,
   "id": "284c8d3c-04a6-4237-af42-7648241b5d4b",
   "metadata": {},
   "outputs": [
    {
     "name": "stderr",
     "output_type": "stream",
     "text": [
      "C:\\Users\\kanam\\anaconda3\\Lib\\site-packages\\seaborn\\_oldcore.py:1119: FutureWarning: use_inf_as_na option is deprecated and will be removed in a future version. Convert inf values to NaN before operating instead.\n",
      "  with pd.option_context('mode.use_inf_as_na', True):\n",
      "C:\\Users\\kanam\\anaconda3\\Lib\\site-packages\\seaborn\\_oldcore.py:1119: FutureWarning: use_inf_as_na option is deprecated and will be removed in a future version. Convert inf values to NaN before operating instead.\n",
      "  with pd.option_context('mode.use_inf_as_na', True):\n",
      "C:\\Users\\kanam\\anaconda3\\Lib\\site-packages\\seaborn\\_oldcore.py:1119: FutureWarning: use_inf_as_na option is deprecated and will be removed in a future version. Convert inf values to NaN before operating instead.\n",
      "  with pd.option_context('mode.use_inf_as_na', True):\n",
      "C:\\Users\\kanam\\anaconda3\\Lib\\site-packages\\seaborn\\_oldcore.py:1119: FutureWarning: use_inf_as_na option is deprecated and will be removed in a future version. Convert inf values to NaN before operating instead.\n",
      "  with pd.option_context('mode.use_inf_as_na', True):\n",
      "C:\\Users\\kanam\\anaconda3\\Lib\\site-packages\\seaborn\\_oldcore.py:1119: FutureWarning: use_inf_as_na option is deprecated and will be removed in a future version. Convert inf values to NaN before operating instead.\n",
      "  with pd.option_context('mode.use_inf_as_na', True):\n",
      "C:\\Users\\kanam\\anaconda3\\Lib\\site-packages\\seaborn\\_oldcore.py:1119: FutureWarning: use_inf_as_na option is deprecated and will be removed in a future version. Convert inf values to NaN before operating instead.\n",
      "  with pd.option_context('mode.use_inf_as_na', True):\n"
     ]
    },
    {
     "data": {
      "image/png": "[encoded data removed]",
      "text/plain": [
       "<Figure size 1000x1200 with 3 Axes>"
      ]
     },
     "metadata": {},
     "output_type": "display_data"
    }
   ],
   "source": [
    "plt.figure(figsize = (10, 12))\n",
    "\n",
    "\n",
    "# iterate through the sources\n",
    "for i, source in enumerate(['EXT_SOURCE_1', 'EXT_SOURCE_2', 'EXT_SOURCE_3']):\n",
    "    \n",
    "    # create a new subplot for each source\n",
    "    plt.subplot(3, 1, i + 1)\n",
    "    plt.grid()\n",
    "    # plot repaid loans\n",
    "    sns.kdeplot(train_data.loc[train_data['TARGET'] == 0, source], label = 'target == 0')\n",
    "    # plot loans that were not repaid\n",
    "    sns.kdeplot(train_data.loc[train_data['TARGET'] == 1, source], label = 'target == 1')\n",
    "    \n",
    "    # Label the plots\n",
    "    plt.title('Distribution of %s by Target Value' % source)\n",
    "    plt.xlabel('%s' % source) \n",
    "    plt.ylabel('Density')\n",
    "    plt.legend()\n",
    "    \n",
    "plt.tight_layout(h_pad = 2.5)"
   ]
  },
  {
   "cell_type": "code",
   "execution_count": 64,
   "id": "c065ae2d-9c4e-4ed0-9c6f-1c47cdb9e1a5",
   "metadata": {},
   "outputs": [
    {
     "data": {
      "text/plain": [
       "'# Copy the data for plotting\\nplot_data = ext_data.drop(columns = [\\'DAYS_BIRTH\\']).copy()\\n\\n# Add in the age of the client in years\\nplot_data[\\'YEARS_BIRTH\\'] = age_data[\\'YEARS_BIRTH\\']\\n\\n# Drop na values and limit to first 100000 rows\\nplot_data = plot_data.dropna().loc[:100000, :]\\n\\n# Function to calculate correlation coefficient between two columns\\ndef corr_func(x, y):\\n    r = np.corrcoef(x, y)[0][1]\\n    ax = plt.gca()\\n    ax.annotate(\"r = {:.2f}\".format(r),\\n                xy=(.2, .8), xycoords=ax.transAxes,\\n                height = 20)\\n\\n# Create the pairgrid object\\ngrid = sns.PairGrid(data = plot_data, height = 3, diag_sharey=False,\\n                    hue = \\'TARGET\\', \\n                    vars = [x for x in list(plot_data.columns) if x != \\'TARGET\\'])\\n\\n# Upper is a scatter plot\\ngrid.map_upper(plt.scatter, alpha = 0.2)\\n\\n# Diagonal is a histogram\\ngrid.map_diag(sns.kdeplot)\\n\\n# Bottom is density plot\\ngrid.map_lower(sns.kdeplot);\\n\\nplt.suptitle(\\'Ext Source and Age Features Pairs Plot\\', size = 32, y = 1.05)'"
      ]
     },
     "execution_count": 64,
     "metadata": {},
     "output_type": "execute_result"
    }
   ],
   "source": [
    "\"\"\"# Copy the data for plotting\n",
    "plot_data = ext_data.drop(columns = ['DAYS_BIRTH']).copy()\n",
    "\n",
    "# Add in the age of the client in years\n",
    "plot_data['YEARS_BIRTH'] = age_data['YEARS_BIRTH']\n",
    "\n",
    "# Drop na values and limit to first 100000 rows\n",
    "plot_data = plot_data.dropna().loc[:100000, :]\n",
    "\n",
    "# Function to calculate correlation coefficient between two columns\n",
    "def corr_func(x, y):\n",
    "    r = np.corrcoef(x, y)[0][1]\n",
    "    ax = plt.gca()\n",
    "    ax.annotate(\"r = {:.2f}\".format(r),\n",
    "                xy=(.2, .8), xycoords=ax.transAxes,\n",
    "                height = 20)\n",
    "\n",
    "# Create the pairgrid object\n",
    "grid = sns.PairGrid(data = plot_data, height = 3, diag_sharey=False,\n",
    "                    hue = 'TARGET', \n",
    "                    vars = [x for x in list(plot_data.columns) if x != 'TARGET'])\n",
    "\n",
    "# Upper is a scatter plot\n",
    "grid.map_upper(plt.scatter, alpha = 0.2)\n",
    "\n",
    "# Diagonal is a histogram\n",
    "grid.map_diag(sns.kdeplot)\n",
    "\n",
    "# Bottom is density plot\n",
    "grid.map_lower(sns.kdeplot);\n",
    "\n",
    "plt.suptitle('Ext Source and Age Features Pairs Plot', size = 32, y = 1.05)\"\"\""
   ]
  },
  {
   "cell_type": "markdown",
   "id": "4196bfd7-b907-4308-9df8-2410628d6777",
   "metadata": {
    "tags": []
   },
   "source": [
    "### Polynomial features"
   ]
  },
  {
   "cell_type": "markdown",
   "id": "adeb7b3f-a5e6-42e2-9247-4f3c78a1497d",
   "metadata": {},
   "source": [
    "In this part we will explore polynomial construct of existing features, to shed more light on their interactions"
   ]
  },
  {
   "cell_type": "code",
   "execution_count": 65,
   "id": "c6869e1e-5562-4336-8a7a-5a384de0ceda",
   "metadata": {},
   "outputs": [],
   "source": [
    "# Make a new dataframe for polynomial features\n",
    "poly_features_train = train_data[['EXT_SOURCE_1', 'EXT_SOURCE_2', 'EXT_SOURCE_3', 'DAYS_BIRTH', 'TARGET']]\n",
    "poly_features_test = test_data[['EXT_SOURCE_1', 'EXT_SOURCE_2', 'EXT_SOURCE_3', 'DAYS_BIRTH']]"
   ]
  },
  {
   "cell_type": "code",
   "execution_count": 66,
   "id": "71731b90-c7b2-463d-a3b7-b4c9af7c802c",
   "metadata": {},
   "outputs": [
    {
     "name": "stdout",
     "output_type": "stream",
     "text": [
      "EXT_SOURCE_1 zscore is 0        -3.006518e+00\n",
      "1        -1.369223e+00\n",
      "2         7.964597e-16\n",
      "3         7.964597e-16\n",
      "4         7.964597e-16\n",
      "              ...     \n",
      "307506   -2.557911e+00\n",
      "307507    7.964597e-16\n",
      "307508    1.735335e+00\n",
      "307509    7.964597e-16\n",
      "307510    1.666704e+00\n",
      "Name: EXT_SOURCE_1, Length: 307511, dtype: float64 \n",
      "\n",
      "EXT_SOURCE_2 zscore is 0        -1.317463\n",
      "1         0.565106\n",
      "2         0.217545\n",
      "3         0.712841\n",
      "4        -1.004190\n",
      "            ...   \n",
      "307506    0.876267\n",
      "307507   -2.087455\n",
      "307508    0.111756\n",
      "307509   -0.001204\n",
      "307510    1.017403\n",
      "Name: EXT_SOURCE_2, Length: 307511, dtype: float64 \n",
      "\n",
      "EXT_SOURCE_3 zscore is 0        -2.129249\n",
      "1         0.000000\n",
      "2         1.253633\n",
      "3         0.000000\n",
      "4         0.000000\n",
      "            ...   \n",
      "307506    0.000000\n",
      "307507    0.000000\n",
      "307508   -1.673663\n",
      "307509    0.860755\n",
      "307510   -2.275144\n",
      "Name: EXT_SOURCE_3, Length: 307511, dtype: float64 \n",
      "\n",
      "DAYS_BIRTH zscore is 0        -1.506880\n",
      "1         0.166821\n",
      "2         0.689509\n",
      "3         0.680114\n",
      "4         0.892535\n",
      "            ...   \n",
      "307506   -1.537586\n",
      "307507    1.085707\n",
      "307508   -0.245417\n",
      "307509   -0.934008\n",
      "307510    0.187674\n",
      "Name: DAYS_BIRTH, Length: 307511, dtype: float64 \n",
      "\n",
      "TARGET zscore is 0         3.374485\n",
      "1        -0.296342\n",
      "2        -0.296342\n",
      "3        -0.296342\n",
      "4        -0.296342\n",
      "            ...   \n",
      "307506   -0.296342\n",
      "307507   -0.296342\n",
      "307508   -0.296342\n",
      "307509    3.374485\n",
      "307510   -0.296342\n",
      "Name: TARGET, Length: 307511, dtype: float64 \n",
      "\n"
     ]
    }
   ],
   "source": [
    "#checking if imputation fo missing data should be done with median or mean\n",
    "for col in poly_features_train.columns:\n",
    "    x = sp.stats.zscore(poly_features_train[col], nan_policy='omit')\n",
    "    print(f\"{col} zscore is {x}\", \"\\n\")"
   ]
  },
  {
   "cell_type": "code",
   "execution_count": 67,
   "id": "9b6ed6a0-a436-4dc1-a03f-6c8825fcd09e",
   "metadata": {},
   "outputs": [],
   "source": [
    "# imputer via median for handling missing values\n",
    "from sklearn.impute import SimpleImputer\n",
    "imputer = SimpleImputer(strategy = 'median')\n",
    "\n",
    "poly_target = poly_features_train['TARGET']\n",
    "\n",
    "poly_features_train = poly_features_train.drop(columns = ['TARGET'])\n",
    "\n",
    "# Need to impute missing values\n",
    "poly_features_train = imputer.fit_transform(poly_features_train)\n",
    "poly_features_test = imputer.transform(poly_features_test)"
   ]
  },
  {
   "cell_type": "code",
   "execution_count": 68,
   "id": "3b8e9daf-5e2c-43b5-a0e1-3be7096b6c39",
   "metadata": {},
   "outputs": [
    {
     "name": "stdout",
     "output_type": "stream",
     "text": [
      "Polynomial Features shape:  (307511, 35)\n"
     ]
    }
   ],
   "source": [
    "from sklearn.preprocessing import PolynomialFeatures\n",
    "                                  \n",
    "# Create the polynomial object with specified degree\n",
    "poly_transformer = PolynomialFeatures(degree = 3)\n",
    "\n",
    "# Train the polynomial features\n",
    "poly_transformer.fit(poly_features_train)\n",
    "\n",
    "\n",
    "# Transform the features\n",
    "poly_features_train = poly_transformer.transform(poly_features_train)\n",
    "poly_features_test = poly_transformer.transform(poly_features_test)\n",
    "print('Polynomial Features shape: ', poly_features_train.shape)"
   ]
  },
  {
   "cell_type": "code",
   "execution_count": 69,
   "id": "59395eec-8499-48db-b7e2-f46648655987",
   "metadata": {},
   "outputs": [],
   "source": [
    "poly_features_train = pd.DataFrame(poly_features_train, \n",
    "                                       columns=poly_transformer.get_feature_names_out(['EXT_SOURCE_1', 'EXT_SOURCE_2', 'EXT_SOURCE_3', 'DAYS_BIRTH']))"
   ]
  },
  {
   "cell_type": "code",
   "execution_count": 70,
   "id": "4342522e-dc54-4541-808a-b156acb61047",
   "metadata": {},
   "outputs": [
    {
     "data": {
      "text/html": [
       "<div>\n",
       "<style scoped>\n",
       "    .dataframe tbody tr th:only-of-type {\n",
       "        vertical-align: middle;\n",
       "    }\n",
       "\n",
       "    .dataframe tbody tr th {\n",
       "        vertical-align: top;\n",
       "    }\n",
       "\n",
       "    .dataframe thead th {\n",
       "        text-align: right;\n",
       "    }\n",
       "</style>\n",
       "<table border=\"1\" class=\"dataframe\">\n",
       "  <thead>\n",
       "    <tr style=\"text-align: right;\">\n",
       "      <th></th>\n",
       "      <th>1</th>\n",
       "      <th>EXT_SOURCE_1</th>\n",
       "      <th>EXT_SOURCE_2</th>\n",
       "      <th>EXT_SOURCE_3</th>\n",
       "      <th>DAYS_BIRTH</th>\n",
       "      <th>EXT_SOURCE_1^2</th>\n",
       "      <th>EXT_SOURCE_1 EXT_SOURCE_2</th>\n",
       "      <th>EXT_SOURCE_1 EXT_SOURCE_3</th>\n",
       "      <th>EXT_SOURCE_1 DAYS_BIRTH</th>\n",
       "      <th>EXT_SOURCE_2^2</th>\n",
       "      <th>...</th>\n",
       "      <th>EXT_SOURCE_2^3</th>\n",
       "      <th>EXT_SOURCE_2^2 EXT_SOURCE_3</th>\n",
       "      <th>EXT_SOURCE_2^2 DAYS_BIRTH</th>\n",
       "      <th>EXT_SOURCE_2 EXT_SOURCE_3^2</th>\n",
       "      <th>EXT_SOURCE_2 EXT_SOURCE_3 DAYS_BIRTH</th>\n",
       "      <th>EXT_SOURCE_2 DAYS_BIRTH^2</th>\n",
       "      <th>EXT_SOURCE_3^3</th>\n",
       "      <th>EXT_SOURCE_3^2 DAYS_BIRTH</th>\n",
       "      <th>EXT_SOURCE_3 DAYS_BIRTH^2</th>\n",
       "      <th>DAYS_BIRTH^3</th>\n",
       "    </tr>\n",
       "  </thead>\n",
       "  <tbody>\n",
       "    <tr>\n",
       "      <th>0</th>\n",
       "      <td>1.0</td>\n",
       "      <td>0.083037</td>\n",
       "      <td>0.262949</td>\n",
       "      <td>0.139376</td>\n",
       "      <td>9461.0</td>\n",
       "      <td>0.006895</td>\n",
       "      <td>0.021834</td>\n",
       "      <td>0.011573</td>\n",
       "      <td>785.612748</td>\n",
       "      <td>0.069142</td>\n",
       "      <td>...</td>\n",
       "      <td>0.018181</td>\n",
       "      <td>0.009637</td>\n",
       "      <td>654.152107</td>\n",
       "      <td>0.005108</td>\n",
       "      <td>346.733022</td>\n",
       "      <td>2.353667e+07</td>\n",
       "      <td>0.002707</td>\n",
       "      <td>183.785678</td>\n",
       "      <td>1.247560e+07</td>\n",
       "      <td>8.468590e+11</td>\n",
       "    </tr>\n",
       "    <tr>\n",
       "      <th>1</th>\n",
       "      <td>1.0</td>\n",
       "      <td>0.311267</td>\n",
       "      <td>0.622246</td>\n",
       "      <td>0.510853</td>\n",
       "      <td>16765.0</td>\n",
       "      <td>0.096887</td>\n",
       "      <td>0.193685</td>\n",
       "      <td>0.159012</td>\n",
       "      <td>5218.396475</td>\n",
       "      <td>0.387190</td>\n",
       "      <td>...</td>\n",
       "      <td>0.240927</td>\n",
       "      <td>0.197797</td>\n",
       "      <td>6491.237078</td>\n",
       "      <td>0.162388</td>\n",
       "      <td>5329.192190</td>\n",
       "      <td>1.748916e+08</td>\n",
       "      <td>0.133318</td>\n",
       "      <td>4375.173647</td>\n",
       "      <td>1.435830e+08</td>\n",
       "      <td>4.712058e+12</td>\n",
       "    </tr>\n",
       "    <tr>\n",
       "      <th>2</th>\n",
       "      <td>1.0</td>\n",
       "      <td>0.502130</td>\n",
       "      <td>0.555912</td>\n",
       "      <td>0.729567</td>\n",
       "      <td>19046.0</td>\n",
       "      <td>0.252134</td>\n",
       "      <td>0.279140</td>\n",
       "      <td>0.366337</td>\n",
       "      <td>9563.564279</td>\n",
       "      <td>0.309038</td>\n",
       "      <td>...</td>\n",
       "      <td>0.171798</td>\n",
       "      <td>0.225464</td>\n",
       "      <td>5885.942404</td>\n",
       "      <td>0.295894</td>\n",
       "      <td>7724.580288</td>\n",
       "      <td>2.016572e+08</td>\n",
       "      <td>0.388325</td>\n",
       "      <td>10137.567875</td>\n",
       "      <td>2.646504e+08</td>\n",
       "      <td>6.908939e+12</td>\n",
       "    </tr>\n",
       "    <tr>\n",
       "      <th>3</th>\n",
       "      <td>1.0</td>\n",
       "      <td>0.502130</td>\n",
       "      <td>0.650442</td>\n",
       "      <td>0.510853</td>\n",
       "      <td>19005.0</td>\n",
       "      <td>0.252134</td>\n",
       "      <td>0.326606</td>\n",
       "      <td>0.256514</td>\n",
       "      <td>9542.976957</td>\n",
       "      <td>0.423074</td>\n",
       "      <td>...</td>\n",
       "      <td>0.275185</td>\n",
       "      <td>0.216129</td>\n",
       "      <td>8040.528832</td>\n",
       "      <td>0.169746</td>\n",
       "      <td>6314.981929</td>\n",
       "      <td>2.349331e+08</td>\n",
       "      <td>0.133318</td>\n",
       "      <td>4959.747997</td>\n",
       "      <td>1.845150e+08</td>\n",
       "      <td>6.864416e+12</td>\n",
       "    </tr>\n",
       "    <tr>\n",
       "      <th>4</th>\n",
       "      <td>1.0</td>\n",
       "      <td>0.502130</td>\n",
       "      <td>0.322738</td>\n",
       "      <td>0.510853</td>\n",
       "      <td>19932.0</td>\n",
       "      <td>0.252134</td>\n",
       "      <td>0.162057</td>\n",
       "      <td>0.256514</td>\n",
       "      <td>10008.451286</td>\n",
       "      <td>0.104160</td>\n",
       "      <td>...</td>\n",
       "      <td>0.033616</td>\n",
       "      <td>0.053210</td>\n",
       "      <td>2076.117157</td>\n",
       "      <td>0.084225</td>\n",
       "      <td>3286.224555</td>\n",
       "      <td>1.282190e+08</td>\n",
       "      <td>0.133318</td>\n",
       "      <td>5201.667828</td>\n",
       "      <td>2.029540e+08</td>\n",
       "      <td>7.918677e+12</td>\n",
       "    </tr>\n",
       "    <tr>\n",
       "      <th>...</th>\n",
       "      <td>...</td>\n",
       "      <td>...</td>\n",
       "      <td>...</td>\n",
       "      <td>...</td>\n",
       "      <td>...</td>\n",
       "      <td>...</td>\n",
       "      <td>...</td>\n",
       "      <td>...</td>\n",
       "      <td>...</td>\n",
       "      <td>...</td>\n",
       "      <td>...</td>\n",
       "      <td>...</td>\n",
       "      <td>...</td>\n",
       "      <td>...</td>\n",
       "      <td>...</td>\n",
       "      <td>...</td>\n",
       "      <td>...</td>\n",
       "      <td>...</td>\n",
       "      <td>...</td>\n",
       "      <td>...</td>\n",
       "      <td>...</td>\n",
       "    </tr>\n",
       "    <tr>\n",
       "      <th>307506</th>\n",
       "      <td>1.0</td>\n",
       "      <td>0.145570</td>\n",
       "      <td>0.681632</td>\n",
       "      <td>0.510853</td>\n",
       "      <td>9327.0</td>\n",
       "      <td>0.021191</td>\n",
       "      <td>0.099226</td>\n",
       "      <td>0.074365</td>\n",
       "      <td>1357.735625</td>\n",
       "      <td>0.464623</td>\n",
       "      <td>...</td>\n",
       "      <td>0.316702</td>\n",
       "      <td>0.237354</td>\n",
       "      <td>4333.535804</td>\n",
       "      <td>0.177886</td>\n",
       "      <td>3247.790830</td>\n",
       "      <td>5.929720e+07</td>\n",
       "      <td>0.133318</td>\n",
       "      <td>2434.073642</td>\n",
       "      <td>4.444059e+07</td>\n",
       "      <td>8.113830e+11</td>\n",
       "    </tr>\n",
       "    <tr>\n",
       "      <th>307507</th>\n",
       "      <td>1.0</td>\n",
       "      <td>0.502130</td>\n",
       "      <td>0.115992</td>\n",
       "      <td>0.510853</td>\n",
       "      <td>20775.0</td>\n",
       "      <td>0.252134</td>\n",
       "      <td>0.058243</td>\n",
       "      <td>0.256514</td>\n",
       "      <td>10431.746713</td>\n",
       "      <td>0.013454</td>\n",
       "      <td>...</td>\n",
       "      <td>0.001561</td>\n",
       "      <td>0.006873</td>\n",
       "      <td>279.510194</td>\n",
       "      <td>0.030271</td>\n",
       "      <td>1231.020288</td>\n",
       "      <td>5.006225e+07</td>\n",
       "      <td>0.133318</td>\n",
       "      <td>5421.666121</td>\n",
       "      <td>2.204844e+08</td>\n",
       "      <td>8.966503e+12</td>\n",
       "    </tr>\n",
       "    <tr>\n",
       "      <th>307508</th>\n",
       "      <td>1.0</td>\n",
       "      <td>0.744026</td>\n",
       "      <td>0.535722</td>\n",
       "      <td>0.218859</td>\n",
       "      <td>14966.0</td>\n",
       "      <td>0.553575</td>\n",
       "      <td>0.398591</td>\n",
       "      <td>0.162837</td>\n",
       "      <td>11135.099105</td>\n",
       "      <td>0.286998</td>\n",
       "      <td>...</td>\n",
       "      <td>0.153751</td>\n",
       "      <td>0.062812</td>\n",
       "      <td>4295.209004</td>\n",
       "      <td>0.025661</td>\n",
       "      <td>1754.727146</td>\n",
       "      <td>1.199916e+08</td>\n",
       "      <td>0.010483</td>\n",
       "      <td>716.860892</td>\n",
       "      <td>4.902031e+07</td>\n",
       "      <td>3.352102e+12</td>\n",
       "    </tr>\n",
       "    <tr>\n",
       "      <th>307509</th>\n",
       "      <td>1.0</td>\n",
       "      <td>0.502130</td>\n",
       "      <td>0.514163</td>\n",
       "      <td>0.661024</td>\n",
       "      <td>11961.0</td>\n",
       "      <td>0.252134</td>\n",
       "      <td>0.258176</td>\n",
       "      <td>0.331920</td>\n",
       "      <td>6005.974605</td>\n",
       "      <td>0.264363</td>\n",
       "      <td>...</td>\n",
       "      <td>0.135926</td>\n",
       "      <td>0.174750</td>\n",
       "      <td>3162.050698</td>\n",
       "      <td>0.224665</td>\n",
       "      <td>4065.229651</td>\n",
       "      <td>7.355897e+07</td>\n",
       "      <td>0.288836</td>\n",
       "      <td>5226.384299</td>\n",
       "      <td>9.456968e+07</td>\n",
       "      <td>1.711207e+12</td>\n",
       "    </tr>\n",
       "    <tr>\n",
       "      <th>307510</th>\n",
       "      <td>1.0</td>\n",
       "      <td>0.734460</td>\n",
       "      <td>0.708569</td>\n",
       "      <td>0.113922</td>\n",
       "      <td>16856.0</td>\n",
       "      <td>0.539431</td>\n",
       "      <td>0.520415</td>\n",
       "      <td>0.083671</td>\n",
       "      <td>12380.052173</td>\n",
       "      <td>0.502070</td>\n",
       "      <td>...</td>\n",
       "      <td>0.355751</td>\n",
       "      <td>0.057197</td>\n",
       "      <td>8462.889915</td>\n",
       "      <td>0.009196</td>\n",
       "      <td>1360.647784</td>\n",
       "      <td>2.013220e+08</td>\n",
       "      <td>0.001479</td>\n",
       "      <td>218.762433</td>\n",
       "      <td>3.236817e+07</td>\n",
       "      <td>4.789207e+12</td>\n",
       "    </tr>\n",
       "  </tbody>\n",
       "</table>\n",
       "<p>307511 rows × 35 columns</p>\n",
       "</div>"
      ],
      "text/plain": [
       "          1  EXT_SOURCE_1  EXT_SOURCE_2  EXT_SOURCE_3  DAYS_BIRTH  \\\n",
       "0       1.0      0.083037      0.262949      0.139376      9461.0   \n",
       "1       1.0      0.311267      0.622246      0.510853     16765.0   \n",
       "2       1.0      0.502130      0.555912      0.729567     19046.0   \n",
       "3       1.0      0.502130      0.650442      0.510853     19005.0   \n",
       "4       1.0      0.502130      0.322738      0.510853     19932.0   \n",
       "...     ...           ...           ...           ...         ...   \n",
       "307506  1.0      0.145570      0.681632      0.510853      9327.0   \n",
       "307507  1.0      0.502130      0.115992      0.510853     20775.0   \n",
       "307508  1.0      0.744026      0.535722      0.218859     14966.0   \n",
       "307509  1.0      0.502130      0.514163      0.661024     11961.0   \n",
       "307510  1.0      0.734460      0.708569      0.113922     16856.0   \n",
       "\n",
       "        EXT_SOURCE_1^2  EXT_SOURCE_1 EXT_SOURCE_2  EXT_SOURCE_1 EXT_SOURCE_3  \\\n",
       "0             0.006895                   0.021834                   0.011573   \n",
       "1             0.096887                   0.193685                   0.159012   \n",
       "2             0.252134                   0.279140                   0.366337   \n",
       "3             0.252134                   0.326606                   0.256514   \n",
       "4             0.252134                   0.162057                   0.256514   \n",
       "...                ...                        ...                        ...   \n",
       "307506        0.021191                   0.099226                   0.074365   \n",
       "307507        0.252134                   0.058243                   0.256514   \n",
       "307508        0.553575                   0.398591                   0.162837   \n",
       "307509        0.252134                   0.258176                   0.331920   \n",
       "307510        0.539431                   0.520415                   0.083671   \n",
       "\n",
       "        EXT_SOURCE_1 DAYS_BIRTH  EXT_SOURCE_2^2  ...  EXT_SOURCE_2^3  \\\n",
       "0                    785.612748        0.069142  ...        0.018181   \n",
       "1                   5218.396475        0.387190  ...        0.240927   \n",
       "2                   9563.564279        0.309038  ...        0.171798   \n",
       "3                   9542.976957        0.423074  ...        0.275185   \n",
       "4                  10008.451286        0.104160  ...        0.033616   \n",
       "...                         ...             ...  ...             ...   \n",
       "307506              1357.735625        0.464623  ...        0.316702   \n",
       "307507             10431.746713        0.013454  ...        0.001561   \n",
       "307508             11135.099105        0.286998  ...        0.153751   \n",
       "307509              6005.974605        0.264363  ...        0.135926   \n",
       "307510             12380.052173        0.502070  ...        0.355751   \n",
       "\n",
       "        EXT_SOURCE_2^2 EXT_SOURCE_3  EXT_SOURCE_2^2 DAYS_BIRTH  \\\n",
       "0                          0.009637                 654.152107   \n",
       "1                          0.197797                6491.237078   \n",
       "2                          0.225464                5885.942404   \n",
       "3                          0.216129                8040.528832   \n",
       "4                          0.053210                2076.117157   \n",
       "...                             ...                        ...   \n",
       "307506                     0.237354                4333.535804   \n",
       "307507                     0.006873                 279.510194   \n",
       "307508                     0.062812                4295.209004   \n",
       "307509                     0.174750                3162.050698   \n",
       "307510                     0.057197                8462.889915   \n",
       "\n",
       "        EXT_SOURCE_2 EXT_SOURCE_3^2  EXT_SOURCE_2 EXT_SOURCE_3 DAYS_BIRTH  \\\n",
       "0                          0.005108                            346.733022   \n",
       "1                          0.162388                           5329.192190   \n",
       "2                          0.295894                           7724.580288   \n",
       "3                          0.169746                           6314.981929   \n",
       "4                          0.084225                           3286.224555   \n",
       "...                             ...                                   ...   \n",
       "307506                     0.177886                           3247.790830   \n",
       "307507                     0.030271                           1231.020288   \n",
       "307508                     0.025661                           1754.727146   \n",
       "307509                     0.224665                           4065.229651   \n",
       "307510                     0.009196                           1360.647784   \n",
       "\n",
       "        EXT_SOURCE_2 DAYS_BIRTH^2  EXT_SOURCE_3^3  EXT_SOURCE_3^2 DAYS_BIRTH  \\\n",
       "0                    2.353667e+07        0.002707                 183.785678   \n",
       "1                    1.748916e+08        0.133318                4375.173647   \n",
       "2                    2.016572e+08        0.388325               10137.567875   \n",
       "3                    2.349331e+08        0.133318                4959.747997   \n",
       "4                    1.282190e+08        0.133318                5201.667828   \n",
       "...                           ...             ...                        ...   \n",
       "307506               5.929720e+07        0.133318                2434.073642   \n",
       "307507               5.006225e+07        0.133318                5421.666121   \n",
       "307508               1.199916e+08        0.010483                 716.860892   \n",
       "307509               7.355897e+07        0.288836                5226.384299   \n",
       "307510               2.013220e+08        0.001479                 218.762433   \n",
       "\n",
       "        EXT_SOURCE_3 DAYS_BIRTH^2  DAYS_BIRTH^3  \n",
       "0                    1.247560e+07  8.468590e+11  \n",
       "1                    1.435830e+08  4.712058e+12  \n",
       "2                    2.646504e+08  6.908939e+12  \n",
       "3                    1.845150e+08  6.864416e+12  \n",
       "4                    2.029540e+08  7.918677e+12  \n",
       "...                           ...           ...  \n",
       "307506               4.444059e+07  8.113830e+11  \n",
       "307507               2.204844e+08  8.966503e+12  \n",
       "307508               4.902031e+07  3.352102e+12  \n",
       "307509               9.456968e+07  1.711207e+12  \n",
       "307510               3.236817e+07  4.789207e+12  \n",
       "\n",
       "[307511 rows x 35 columns]"
      ]
     },
     "execution_count": 70,
     "metadata": {},
     "output_type": "execute_result"
    }
   ],
   "source": [
    "poly_features_train"
   ]
  },
  {
   "cell_type": "code",
   "execution_count": 71,
   "id": "16819dec-9aee-415b-a7e8-8a4ab9e7d186",
   "metadata": {},
   "outputs": [
    {
     "name": "stdout",
     "output_type": "stream",
     "text": [
      "EXT_SOURCE_2 EXT_SOURCE_3                -0.194235\n",
      "EXT_SOURCE_1 EXT_SOURCE_2 EXT_SOURCE_3   -0.189593\n",
      "EXT_SOURCE_2 EXT_SOURCE_3 DAYS_BIRTH     -0.181417\n",
      "EXT_SOURCE_2^2 EXT_SOURCE_3              -0.176589\n",
      "EXT_SOURCE_2 EXT_SOURCE_3^2              -0.171729\n",
      "EXT_SOURCE_1 EXT_SOURCE_2                -0.166538\n",
      "EXT_SOURCE_1 EXT_SOURCE_3                -0.164933\n",
      "EXT_SOURCE_2                             -0.160303\n",
      "EXT_SOURCE_3                             -0.157397\n",
      "EXT_SOURCE_2 DAYS_BIRTH                  -0.156879\n",
      "Name: TARGET, dtype: float64\n",
      "DAYS_BIRTH     -0.078239\n",
      "DAYS_BIRTH^2   -0.076672\n",
      "DAYS_BIRTH^3   -0.074273\n",
      "TARGET          1.000000\n",
      "1                    NaN\n",
      "Name: TARGET, dtype: float64\n"
     ]
    }
   ],
   "source": [
    "# Add in the target\n",
    "poly_features_train['TARGET'] = poly_target\n",
    "\n",
    "# Find the correlations with the target\n",
    "poly_corrs = poly_features_train.corr()['TARGET'].sort_values()\n",
    "\n",
    "# Display most negative and most positive\n",
    "print(poly_corrs.head(10))\n",
    "print(poly_corrs.tail(5))"
   ]
  },
  {
   "cell_type": "code",
   "execution_count": 72,
   "id": "c58f57fe-c160-46a6-a9d5-f8b1fc1fc4ca",
   "metadata": {},
   "outputs": [
    {
     "name": "stdout",
     "output_type": "stream",
     "text": [
      "Polynomial Features shape:  (48744, 35)\n"
     ]
    },
    {
     "data": {
      "text/html": [
       "<div>\n",
       "<style scoped>\n",
       "    .dataframe tbody tr th:only-of-type {\n",
       "        vertical-align: middle;\n",
       "    }\n",
       "\n",
       "    .dataframe tbody tr th {\n",
       "        vertical-align: top;\n",
       "    }\n",
       "\n",
       "    .dataframe thead th {\n",
       "        text-align: right;\n",
       "    }\n",
       "</style>\n",
       "<table border=\"1\" class=\"dataframe\">\n",
       "  <thead>\n",
       "    <tr style=\"text-align: right;\">\n",
       "      <th></th>\n",
       "      <th>1</th>\n",
       "      <th>EXT_SOURCE_1</th>\n",
       "      <th>EXT_SOURCE_2</th>\n",
       "      <th>EXT_SOURCE_3</th>\n",
       "      <th>DAYS_BIRTH</th>\n",
       "      <th>EXT_SOURCE_1^2</th>\n",
       "      <th>EXT_SOURCE_1 EXT_SOURCE_2</th>\n",
       "      <th>EXT_SOURCE_1 EXT_SOURCE_3</th>\n",
       "      <th>EXT_SOURCE_1 DAYS_BIRTH</th>\n",
       "      <th>EXT_SOURCE_2^2</th>\n",
       "      <th>...</th>\n",
       "      <th>EXT_SOURCE_2^3</th>\n",
       "      <th>EXT_SOURCE_2^2 EXT_SOURCE_3</th>\n",
       "      <th>EXT_SOURCE_2^2 DAYS_BIRTH</th>\n",
       "      <th>EXT_SOURCE_2 EXT_SOURCE_3^2</th>\n",
       "      <th>EXT_SOURCE_2 EXT_SOURCE_3 DAYS_BIRTH</th>\n",
       "      <th>EXT_SOURCE_2 DAYS_BIRTH^2</th>\n",
       "      <th>EXT_SOURCE_3^3</th>\n",
       "      <th>EXT_SOURCE_3^2 DAYS_BIRTH</th>\n",
       "      <th>EXT_SOURCE_3 DAYS_BIRTH^2</th>\n",
       "      <th>DAYS_BIRTH^3</th>\n",
       "    </tr>\n",
       "  </thead>\n",
       "  <tbody>\n",
       "    <tr>\n",
       "      <th>0</th>\n",
       "      <td>1.0</td>\n",
       "      <td>0.752614</td>\n",
       "      <td>0.789654</td>\n",
       "      <td>0.159520</td>\n",
       "      <td>-19241.0</td>\n",
       "      <td>0.566429</td>\n",
       "      <td>0.594305</td>\n",
       "      <td>0.120057</td>\n",
       "      <td>-14481.055414</td>\n",
       "      <td>0.623554</td>\n",
       "      <td>...</td>\n",
       "      <td>0.492392</td>\n",
       "      <td>0.099469</td>\n",
       "      <td>-11997.802403</td>\n",
       "      <td>0.020094</td>\n",
       "      <td>-2423.698322</td>\n",
       "      <td>2.923427e+08</td>\n",
       "      <td>0.004059</td>\n",
       "      <td>-489.615795</td>\n",
       "      <td>5.905670e+07</td>\n",
       "      <td>-7.123328e+12</td>\n",
       "    </tr>\n",
       "    <tr>\n",
       "      <th>1</th>\n",
       "      <td>1.0</td>\n",
       "      <td>0.564990</td>\n",
       "      <td>0.291656</td>\n",
       "      <td>0.432962</td>\n",
       "      <td>-18064.0</td>\n",
       "      <td>0.319214</td>\n",
       "      <td>0.164783</td>\n",
       "      <td>0.244619</td>\n",
       "      <td>-10205.983005</td>\n",
       "      <td>0.085063</td>\n",
       "      <td>...</td>\n",
       "      <td>0.024809</td>\n",
       "      <td>0.036829</td>\n",
       "      <td>-1536.577117</td>\n",
       "      <td>0.054673</td>\n",
       "      <td>-2281.043619</td>\n",
       "      <td>9.516956e+07</td>\n",
       "      <td>0.081161</td>\n",
       "      <td>-3386.201665</td>\n",
       "      <td>1.412789e+08</td>\n",
       "      <td>-5.894429e+12</td>\n",
       "    </tr>\n",
       "    <tr>\n",
       "      <th>2</th>\n",
       "      <td>1.0</td>\n",
       "      <td>0.501180</td>\n",
       "      <td>0.699787</td>\n",
       "      <td>0.610991</td>\n",
       "      <td>-20038.0</td>\n",
       "      <td>0.251181</td>\n",
       "      <td>0.350719</td>\n",
       "      <td>0.306217</td>\n",
       "      <td>-10042.641046</td>\n",
       "      <td>0.489702</td>\n",
       "      <td>...</td>\n",
       "      <td>0.342687</td>\n",
       "      <td>0.299203</td>\n",
       "      <td>-9812.640816</td>\n",
       "      <td>0.261238</td>\n",
       "      <td>-8567.521115</td>\n",
       "      <td>2.809794e+08</td>\n",
       "      <td>0.228089</td>\n",
       "      <td>-7480.393855</td>\n",
       "      <td>2.453261e+08</td>\n",
       "      <td>-8.045687e+12</td>\n",
       "    </tr>\n",
       "    <tr>\n",
       "      <th>3</th>\n",
       "      <td>1.0</td>\n",
       "      <td>0.525734</td>\n",
       "      <td>0.509677</td>\n",
       "      <td>0.612704</td>\n",
       "      <td>-13976.0</td>\n",
       "      <td>0.276396</td>\n",
       "      <td>0.267955</td>\n",
       "      <td>0.322119</td>\n",
       "      <td>-7347.658072</td>\n",
       "      <td>0.259771</td>\n",
       "      <td>...</td>\n",
       "      <td>0.132399</td>\n",
       "      <td>0.159163</td>\n",
       "      <td>-3630.555667</td>\n",
       "      <td>0.191336</td>\n",
       "      <td>-4364.443591</td>\n",
       "      <td>9.955450e+07</td>\n",
       "      <td>0.230013</td>\n",
       "      <td>-5246.681115</td>\n",
       "      <td>1.196786e+08</td>\n",
       "      <td>-2.729912e+12</td>\n",
       "    </tr>\n",
       "    <tr>\n",
       "      <th>4</th>\n",
       "      <td>1.0</td>\n",
       "      <td>0.202145</td>\n",
       "      <td>0.425687</td>\n",
       "      <td>0.500106</td>\n",
       "      <td>-13040.0</td>\n",
       "      <td>0.040863</td>\n",
       "      <td>0.086051</td>\n",
       "      <td>0.101094</td>\n",
       "      <td>-2635.970697</td>\n",
       "      <td>0.181210</td>\n",
       "      <td>...</td>\n",
       "      <td>0.077139</td>\n",
       "      <td>0.090624</td>\n",
       "      <td>-2362.974127</td>\n",
       "      <td>0.106467</td>\n",
       "      <td>-2776.067480</td>\n",
       "      <td>7.238455e+07</td>\n",
       "      <td>0.125079</td>\n",
       "      <td>-3261.377501</td>\n",
       "      <td>8.503876e+07</td>\n",
       "      <td>-2.217342e+12</td>\n",
       "    </tr>\n",
       "    <tr>\n",
       "      <th>...</th>\n",
       "      <td>...</td>\n",
       "      <td>...</td>\n",
       "      <td>...</td>\n",
       "      <td>...</td>\n",
       "      <td>...</td>\n",
       "      <td>...</td>\n",
       "      <td>...</td>\n",
       "      <td>...</td>\n",
       "      <td>...</td>\n",
       "      <td>...</td>\n",
       "      <td>...</td>\n",
       "      <td>...</td>\n",
       "      <td>...</td>\n",
       "      <td>...</td>\n",
       "      <td>...</td>\n",
       "      <td>...</td>\n",
       "      <td>...</td>\n",
       "      <td>...</td>\n",
       "      <td>...</td>\n",
       "      <td>...</td>\n",
       "      <td>...</td>\n",
       "    </tr>\n",
       "    <tr>\n",
       "      <th>48739</th>\n",
       "      <td>1.0</td>\n",
       "      <td>0.501180</td>\n",
       "      <td>0.648575</td>\n",
       "      <td>0.643026</td>\n",
       "      <td>-19970.0</td>\n",
       "      <td>0.251181</td>\n",
       "      <td>0.325053</td>\n",
       "      <td>0.322271</td>\n",
       "      <td>-10008.560818</td>\n",
       "      <td>0.420649</td>\n",
       "      <td>...</td>\n",
       "      <td>0.272823</td>\n",
       "      <td>0.270488</td>\n",
       "      <td>-8400.368742</td>\n",
       "      <td>0.268174</td>\n",
       "      <td>-8328.493414</td>\n",
       "      <td>2.586523e+08</td>\n",
       "      <td>0.265879</td>\n",
       "      <td>-8257.233066</td>\n",
       "      <td>2.564392e+08</td>\n",
       "      <td>-7.964054e+12</td>\n",
       "    </tr>\n",
       "    <tr>\n",
       "      <th>48740</th>\n",
       "      <td>1.0</td>\n",
       "      <td>0.501180</td>\n",
       "      <td>0.684596</td>\n",
       "      <td>0.500106</td>\n",
       "      <td>-11186.0</td>\n",
       "      <td>0.251181</td>\n",
       "      <td>0.343106</td>\n",
       "      <td>0.250643</td>\n",
       "      <td>-5606.197362</td>\n",
       "      <td>0.468671</td>\n",
       "      <td>...</td>\n",
       "      <td>0.320850</td>\n",
       "      <td>0.234385</td>\n",
       "      <td>-5242.555692</td>\n",
       "      <td>0.171221</td>\n",
       "      <td>-3829.752193</td>\n",
       "      <td>8.566112e+07</td>\n",
       "      <td>0.125079</td>\n",
       "      <td>-2797.681651</td>\n",
       "      <td>6.257651e+07</td>\n",
       "      <td>-1.399666e+12</td>\n",
       "    </tr>\n",
       "    <tr>\n",
       "      <th>48741</th>\n",
       "      <td>1.0</td>\n",
       "      <td>0.733503</td>\n",
       "      <td>0.632770</td>\n",
       "      <td>0.283712</td>\n",
       "      <td>-15922.0</td>\n",
       "      <td>0.538027</td>\n",
       "      <td>0.464139</td>\n",
       "      <td>0.208104</td>\n",
       "      <td>-11678.842724</td>\n",
       "      <td>0.400397</td>\n",
       "      <td>...</td>\n",
       "      <td>0.253359</td>\n",
       "      <td>0.113597</td>\n",
       "      <td>-6375.125880</td>\n",
       "      <td>0.050933</td>\n",
       "      <td>-2858.384957</td>\n",
       "      <td>1.604135e+08</td>\n",
       "      <td>0.022837</td>\n",
       "      <td>-1281.600508</td>\n",
       "      <td>7.192382e+07</td>\n",
       "      <td>-4.036388e+12</td>\n",
       "    </tr>\n",
       "    <tr>\n",
       "      <th>48742</th>\n",
       "      <td>1.0</td>\n",
       "      <td>0.373090</td>\n",
       "      <td>0.445701</td>\n",
       "      <td>0.595456</td>\n",
       "      <td>-13968.0</td>\n",
       "      <td>0.139196</td>\n",
       "      <td>0.166287</td>\n",
       "      <td>0.222159</td>\n",
       "      <td>-5211.322249</td>\n",
       "      <td>0.198649</td>\n",
       "      <td>...</td>\n",
       "      <td>0.088538</td>\n",
       "      <td>0.118287</td>\n",
       "      <td>-2774.734348</td>\n",
       "      <td>0.158031</td>\n",
       "      <td>-3707.043157</td>\n",
       "      <td>8.695850e+07</td>\n",
       "      <td>0.211130</td>\n",
       "      <td>-4952.607075</td>\n",
       "      <td>1.161765e+08</td>\n",
       "      <td>-2.725227e+12</td>\n",
       "    </tr>\n",
       "    <tr>\n",
       "      <th>48743</th>\n",
       "      <td>1.0</td>\n",
       "      <td>0.501180</td>\n",
       "      <td>0.456541</td>\n",
       "      <td>0.272134</td>\n",
       "      <td>-13962.0</td>\n",
       "      <td>0.251181</td>\n",
       "      <td>0.228809</td>\n",
       "      <td>0.136388</td>\n",
       "      <td>-6997.472516</td>\n",
       "      <td>0.208429</td>\n",
       "      <td>...</td>\n",
       "      <td>0.095156</td>\n",
       "      <td>0.056721</td>\n",
       "      <td>-2910.091018</td>\n",
       "      <td>0.033810</td>\n",
       "      <td>-1734.640191</td>\n",
       "      <td>8.899687e+07</td>\n",
       "      <td>0.020153</td>\n",
       "      <td>-1033.980235</td>\n",
       "      <td>5.304904e+07</td>\n",
       "      <td>-2.721717e+12</td>\n",
       "    </tr>\n",
       "  </tbody>\n",
       "</table>\n",
       "<p>48744 rows × 35 columns</p>\n",
       "</div>"
      ],
      "text/plain": [
       "         1  EXT_SOURCE_1  EXT_SOURCE_2  EXT_SOURCE_3  DAYS_BIRTH  \\\n",
       "0      1.0      0.752614      0.789654      0.159520    -19241.0   \n",
       "1      1.0      0.564990      0.291656      0.432962    -18064.0   \n",
       "2      1.0      0.501180      0.699787      0.610991    -20038.0   \n",
       "3      1.0      0.525734      0.509677      0.612704    -13976.0   \n",
       "4      1.0      0.202145      0.425687      0.500106    -13040.0   \n",
       "...    ...           ...           ...           ...         ...   \n",
       "48739  1.0      0.501180      0.648575      0.643026    -19970.0   \n",
       "48740  1.0      0.501180      0.684596      0.500106    -11186.0   \n",
       "48741  1.0      0.733503      0.632770      0.283712    -15922.0   \n",
       "48742  1.0      0.373090      0.445701      0.595456    -13968.0   \n",
       "48743  1.0      0.501180      0.456541      0.272134    -13962.0   \n",
       "\n",
       "       EXT_SOURCE_1^2  EXT_SOURCE_1 EXT_SOURCE_2  EXT_SOURCE_1 EXT_SOURCE_3  \\\n",
       "0            0.566429                   0.594305                   0.120057   \n",
       "1            0.319214                   0.164783                   0.244619   \n",
       "2            0.251181                   0.350719                   0.306217   \n",
       "3            0.276396                   0.267955                   0.322119   \n",
       "4            0.040863                   0.086051                   0.101094   \n",
       "...               ...                        ...                        ...   \n",
       "48739        0.251181                   0.325053                   0.322271   \n",
       "48740        0.251181                   0.343106                   0.250643   \n",
       "48741        0.538027                   0.464139                   0.208104   \n",
       "48742        0.139196                   0.166287                   0.222159   \n",
       "48743        0.251181                   0.228809                   0.136388   \n",
       "\n",
       "       EXT_SOURCE_1 DAYS_BIRTH  EXT_SOURCE_2^2  ...  EXT_SOURCE_2^3  \\\n",
       "0                -14481.055414        0.623554  ...        0.492392   \n",
       "1                -10205.983005        0.085063  ...        0.024809   \n",
       "2                -10042.641046        0.489702  ...        0.342687   \n",
       "3                 -7347.658072        0.259771  ...        0.132399   \n",
       "4                 -2635.970697        0.181210  ...        0.077139   \n",
       "...                        ...             ...  ...             ...   \n",
       "48739            -10008.560818        0.420649  ...        0.272823   \n",
       "48740             -5606.197362        0.468671  ...        0.320850   \n",
       "48741            -11678.842724        0.400397  ...        0.253359   \n",
       "48742             -5211.322249        0.198649  ...        0.088538   \n",
       "48743             -6997.472516        0.208429  ...        0.095156   \n",
       "\n",
       "       EXT_SOURCE_2^2 EXT_SOURCE_3  EXT_SOURCE_2^2 DAYS_BIRTH  \\\n",
       "0                         0.099469              -11997.802403   \n",
       "1                         0.036829               -1536.577117   \n",
       "2                         0.299203               -9812.640816   \n",
       "3                         0.159163               -3630.555667   \n",
       "4                         0.090624               -2362.974127   \n",
       "...                            ...                        ...   \n",
       "48739                     0.270488               -8400.368742   \n",
       "48740                     0.234385               -5242.555692   \n",
       "48741                     0.113597               -6375.125880   \n",
       "48742                     0.118287               -2774.734348   \n",
       "48743                     0.056721               -2910.091018   \n",
       "\n",
       "       EXT_SOURCE_2 EXT_SOURCE_3^2  EXT_SOURCE_2 EXT_SOURCE_3 DAYS_BIRTH  \\\n",
       "0                         0.020094                          -2423.698322   \n",
       "1                         0.054673                          -2281.043619   \n",
       "2                         0.261238                          -8567.521115   \n",
       "3                         0.191336                          -4364.443591   \n",
       "4                         0.106467                          -2776.067480   \n",
       "...                            ...                                   ...   \n",
       "48739                     0.268174                          -8328.493414   \n",
       "48740                     0.171221                          -3829.752193   \n",
       "48741                     0.050933                          -2858.384957   \n",
       "48742                     0.158031                          -3707.043157   \n",
       "48743                     0.033810                          -1734.640191   \n",
       "\n",
       "       EXT_SOURCE_2 DAYS_BIRTH^2  EXT_SOURCE_3^3  EXT_SOURCE_3^2 DAYS_BIRTH  \\\n",
       "0                   2.923427e+08        0.004059                -489.615795   \n",
       "1                   9.516956e+07        0.081161               -3386.201665   \n",
       "2                   2.809794e+08        0.228089               -7480.393855   \n",
       "3                   9.955450e+07        0.230013               -5246.681115   \n",
       "4                   7.238455e+07        0.125079               -3261.377501   \n",
       "...                          ...             ...                        ...   \n",
       "48739               2.586523e+08        0.265879               -8257.233066   \n",
       "48740               8.566112e+07        0.125079               -2797.681651   \n",
       "48741               1.604135e+08        0.022837               -1281.600508   \n",
       "48742               8.695850e+07        0.211130               -4952.607075   \n",
       "48743               8.899687e+07        0.020153               -1033.980235   \n",
       "\n",
       "       EXT_SOURCE_3 DAYS_BIRTH^2  DAYS_BIRTH^3  \n",
       "0                   5.905670e+07 -7.123328e+12  \n",
       "1                   1.412789e+08 -5.894429e+12  \n",
       "2                   2.453261e+08 -8.045687e+12  \n",
       "3                   1.196786e+08 -2.729912e+12  \n",
       "4                   8.503876e+07 -2.217342e+12  \n",
       "...                          ...           ...  \n",
       "48739               2.564392e+08 -7.964054e+12  \n",
       "48740               6.257651e+07 -1.399666e+12  \n",
       "48741               7.192382e+07 -4.036388e+12  \n",
       "48742               1.161765e+08 -2.725227e+12  \n",
       "48743               5.304904e+07 -2.721717e+12  \n",
       "\n",
       "[48744 rows x 35 columns]"
      ]
     },
     "execution_count": 72,
     "metadata": {},
     "output_type": "execute_result"
    }
   ],
   "source": [
    "# Put test features into dataframe\n",
    "poly_features_test = pd.DataFrame(poly_features_test, \n",
    "                                       columns=poly_transformer.get_feature_names_out(['EXT_SOURCE_1', 'EXT_SOURCE_2', \n",
    "                                                                                       'EXT_SOURCE_3', 'DAYS_BIRTH']))\n",
    "print('Polynomial Features shape: ', poly_features_test.shape)\n",
    "poly_features_test"
   ]
  },
  {
   "cell_type": "code",
   "execution_count": 73,
   "id": "12768093-d127-479d-9db2-17b9a6d1ae97",
   "metadata": {},
   "outputs": [
    {
     "name": "stdout",
     "output_type": "stream",
     "text": [
      "Training data with polynomial features shape:  (307511, 284)\n",
      "Testing data with polynomial features shape:   (48744, 284)\n"
     ]
    }
   ],
   "source": [
    "# Merge polynomial features into training dataframe\n",
    "poly_features_train['SK_ID_CURR'] = train_data['SK_ID_CURR']\n",
    "train_data_poly = train_data.merge(poly_features_train, on = 'SK_ID_CURR', how = 'left')\n",
    "\n",
    "# Merge polnomial features into testing dataframe\n",
    "poly_features_test['SK_ID_CURR'] = test_data['SK_ID_CURR']\n",
    "test_data_poly = test_data.merge(poly_features_test, on = 'SK_ID_CURR', how = 'left')\n",
    "\n",
    "# Align the dataframes\n",
    "train_data_poly, test_data_poly = train_data_poly.align(test_data_poly, join = 'inner', axis = 1)\n",
    "\n",
    "# Print out the new shapes\n",
    "print('Training data with polynomial features shape: ', train_data_poly.shape)\n",
    "print('Testing data with polynomial features shape:  ', test_data_poly.shape)"
   ]
  },
  {
   "cell_type": "markdown",
   "id": "b7f58d3c-1c2a-480a-a9dc-fb3caa7a1641",
   "metadata": {
    "tags": []
   },
   "source": [
    "### Domain features"
   ]
  },
  {
   "cell_type": "markdown",
   "id": "b38560b5-e941-41a2-b0db-6176755ceba7",
   "metadata": {},
   "source": [
    "In this part we will try to recreate domain-specific features, in order \\\n",
    "to help the futur models"
   ]
  },
  {
   "cell_type": "markdown",
   "id": "d96d8ebb-7a06-4054-b0f2-1d06484442bc",
   "metadata": {},
   "source": [
    "Domain features built : \n",
    "\n",
    "- CREDIT_INCOME_PERCENT: the percentage of the credit amount relative to a client's income\n",
    "- ANNUITY_INCOME_PERCENT: the percentage of the loan annuity relative to a client's income\n",
    "- CREDIT_TERM: the length of the payment in months (since the annuity is the monthly amount due)\n",
    "- DAYS_EMPLOYED_PERCENT: the percentage of the days employed relative to the client's age"
   ]
  },
  {
   "cell_type": "code",
   "execution_count": 93,
   "id": "9ce67f08-d08b-4b7d-87dc-1aeac5d999f7",
   "metadata": {},
   "outputs": [
    {
     "data": {
      "text/html": [
       "<div>\n",
       "<style scoped>\n",
       "    .dataframe tbody tr th:only-of-type {\n",
       "        vertical-align: middle;\n",
       "    }\n",
       "\n",
       "    .dataframe tbody tr th {\n",
       "        vertical-align: top;\n",
       "    }\n",
       "\n",
       "    .dataframe thead th {\n",
       "        text-align: right;\n",
       "    }\n",
       "</style>\n",
       "<table border=\"1\" class=\"dataframe\">\n",
       "  <thead>\n",
       "    <tr style=\"text-align: right;\">\n",
       "      <th></th>\n",
       "      <th>AMT_INCOME_TOTAL</th>\n",
       "      <th>AMT_CREDIT</th>\n",
       "      <th>DAYS_BIRTH</th>\n",
       "    </tr>\n",
       "  </thead>\n",
       "  <tbody>\n",
       "    <tr>\n",
       "      <th>count</th>\n",
       "      <td>3.075110e+05</td>\n",
       "      <td>3.075110e+05</td>\n",
       "      <td>307511.000000</td>\n",
       "    </tr>\n",
       "    <tr>\n",
       "      <th>mean</th>\n",
       "      <td>1.687979e+05</td>\n",
       "      <td>5.990260e+05</td>\n",
       "      <td>16036.995067</td>\n",
       "    </tr>\n",
       "    <tr>\n",
       "      <th>std</th>\n",
       "      <td>2.371231e+05</td>\n",
       "      <td>4.024908e+05</td>\n",
       "      <td>4363.988632</td>\n",
       "    </tr>\n",
       "    <tr>\n",
       "      <th>min</th>\n",
       "      <td>2.565000e+04</td>\n",
       "      <td>4.500000e+04</td>\n",
       "      <td>7489.000000</td>\n",
       "    </tr>\n",
       "    <tr>\n",
       "      <th>25%</th>\n",
       "      <td>1.125000e+05</td>\n",
       "      <td>2.700000e+05</td>\n",
       "      <td>12413.000000</td>\n",
       "    </tr>\n",
       "    <tr>\n",
       "      <th>50%</th>\n",
       "      <td>1.471500e+05</td>\n",
       "      <td>5.135310e+05</td>\n",
       "      <td>15750.000000</td>\n",
       "    </tr>\n",
       "    <tr>\n",
       "      <th>75%</th>\n",
       "      <td>2.025000e+05</td>\n",
       "      <td>8.086500e+05</td>\n",
       "      <td>19682.000000</td>\n",
       "    </tr>\n",
       "    <tr>\n",
       "      <th>max</th>\n",
       "      <td>1.170000e+08</td>\n",
       "      <td>4.050000e+06</td>\n",
       "      <td>25229.000000</td>\n",
       "    </tr>\n",
       "  </tbody>\n",
       "</table>\n",
       "</div>"
      ],
      "text/plain": [
       "       AMT_INCOME_TOTAL    AMT_CREDIT     DAYS_BIRTH\n",
       "count      3.075110e+05  3.075110e+05  307511.000000\n",
       "mean       1.687979e+05  5.990260e+05   16036.995067\n",
       "std        2.371231e+05  4.024908e+05    4363.988632\n",
       "min        2.565000e+04  4.500000e+04    7489.000000\n",
       "25%        1.125000e+05  2.700000e+05   12413.000000\n",
       "50%        1.471500e+05  5.135310e+05   15750.000000\n",
       "75%        2.025000e+05  8.086500e+05   19682.000000\n",
       "max        1.170000e+08  4.050000e+06   25229.000000"
      ]
     },
     "execution_count": 93,
     "metadata": {},
     "output_type": "execute_result"
    }
   ],
   "source": [
    "#first checking if anything is about to be divided by 0\n",
    "train_data[['AMT_INCOME_TOTAL', 'AMT_CREDIT', 'DAYS_BIRTH']].describe()"
   ]
  },
  {
   "cell_type": "code",
   "execution_count": 74,
   "id": "0554b61e-6ed9-40dc-8ec4-c847a89cb6d9",
   "metadata": {},
   "outputs": [],
   "source": [
    "train_data_domain = train_data.copy()\n",
    "test_data_domain = test_data.copy()\n",
    "\n",
    "#creating features on training data\n",
    "train_data_domain['CREDIT_INCOME_PERCENT'] = train_data_domain['AMT_CREDIT'] / train_data_domain['AMT_INCOME_TOTAL']\n",
    "train_data_domain['ANNUITY_INCOME_PERCENT'] = train_data_domain['AMT_ANNUITY'] / train_data_domain['AMT_INCOME_TOTAL']\n",
    "train_data_domain['CREDIT_TERM'] = train_data_domain['AMT_ANNUITY'] / train_data_domain['AMT_CREDIT']\n",
    "train_data_domain['DAYS_EMPLOYED_PERCENT'] = train_data_domain['DAYS_EMPLOYED'] / train_data_domain['DAYS_BIRTH']"
   ]
  },
  {
   "cell_type": "code",
   "execution_count": 75,
   "id": "8bab750e-a96e-42ba-b08c-d0dc5b48db18",
   "metadata": {},
   "outputs": [],
   "source": [
    "#creating features on test data\n",
    "test_data_domain['CREDIT_INCOME_PERCENT'] = test_data_domain['AMT_CREDIT'] / test_data_domain['AMT_INCOME_TOTAL']\n",
    "test_data_domain['ANNUITY_INCOME_PERCENT'] = test_data_domain['AMT_ANNUITY'] / test_data_domain['AMT_INCOME_TOTAL']\n",
    "test_data_domain['CREDIT_TERM'] = test_data_domain['AMT_ANNUITY'] / test_data_domain['AMT_CREDIT']\n",
    "test_data_domain['DAYS_EMPLOYED_PERCENT'] = test_data_domain['DAYS_EMPLOYED'] / test_data_domain['DAYS_BIRTH']"
   ]
  },
  {
   "cell_type": "markdown",
   "id": "a8b23ed6-82f8-457b-b1d5-ab3a2ca39473",
   "metadata": {},
   "source": [
    "Visualize New Variables"
   ]
  },
  {
   "cell_type": "code",
   "execution_count": 76,
   "id": "139d11a7-9195-4bb3-be21-b1b3c22dfc2b",
   "metadata": {},
   "outputs": [
    {
     "name": "stderr",
     "output_type": "stream",
     "text": [
      "C:\\Users\\kanam\\anaconda3\\Lib\\site-packages\\seaborn\\_oldcore.py:1119: FutureWarning: use_inf_as_na option is deprecated and will be removed in a future version. Convert inf values to NaN before operating instead.\n",
      "  with pd.option_context('mode.use_inf_as_na', True):\n",
      "C:\\Users\\kanam\\anaconda3\\Lib\\site-packages\\seaborn\\_oldcore.py:1119: FutureWarning: use_inf_as_na option is deprecated and will be removed in a future version. Convert inf values to NaN before operating instead.\n",
      "  with pd.option_context('mode.use_inf_as_na', True):\n",
      "C:\\Users\\kanam\\anaconda3\\Lib\\site-packages\\seaborn\\_oldcore.py:1119: FutureWarning: use_inf_as_na option is deprecated and will be removed in a future version. Convert inf values to NaN before operating instead.\n",
      "  with pd.option_context('mode.use_inf_as_na', True):\n",
      "C:\\Users\\kanam\\anaconda3\\Lib\\site-packages\\seaborn\\_oldcore.py:1119: FutureWarning: use_inf_as_na option is deprecated and will be removed in a future version. Convert inf values to NaN before operating instead.\n",
      "  with pd.option_context('mode.use_inf_as_na', True):\n",
      "C:\\Users\\kanam\\anaconda3\\Lib\\site-packages\\seaborn\\_oldcore.py:1119: FutureWarning: use_inf_as_na option is deprecated and will be removed in a future version. Convert inf values to NaN before operating instead.\n",
      "  with pd.option_context('mode.use_inf_as_na', True):\n",
      "C:\\Users\\kanam\\anaconda3\\Lib\\site-packages\\seaborn\\_oldcore.py:1119: FutureWarning: use_inf_as_na option is deprecated and will be removed in a future version. Convert inf values to NaN before operating instead.\n",
      "  with pd.option_context('mode.use_inf_as_na', True):\n",
      "C:\\Users\\kanam\\anaconda3\\Lib\\site-packages\\seaborn\\_oldcore.py:1119: FutureWarning: use_inf_as_na option is deprecated and will be removed in a future version. Convert inf values to NaN before operating instead.\n",
      "  with pd.option_context('mode.use_inf_as_na', True):\n",
      "C:\\Users\\kanam\\anaconda3\\Lib\\site-packages\\seaborn\\_oldcore.py:1119: FutureWarning: use_inf_as_na option is deprecated and will be removed in a future version. Convert inf values to NaN before operating instead.\n",
      "  with pd.option_context('mode.use_inf_as_na', True):\n"
     ]
    },
    {
     "data": {
      "image/png": "[encoded data removed]",
      "text/plain": [
       "<Figure size 1200x2000 with 4 Axes>"
      ]
     },
     "metadata": {},
     "output_type": "display_data"
    }
   ],
   "source": [
    "plt.figure(figsize = (12, 20))\n",
    "# iterate through the new features\n",
    "for i, feature in enumerate(['CREDIT_INCOME_PERCENT', 'ANNUITY_INCOME_PERCENT', 'CREDIT_TERM', 'DAYS_EMPLOYED_PERCENT']):\n",
    "    \n",
    "    # create a new subplot for each source\n",
    "    plt.subplot(4, 1, i + 1)\n",
    "    # plot repaid loans\n",
    "    sns.kdeplot(train_data_domain.loc[train_data_domain['TARGET'] == 0, feature], label = 'target == 0')\n",
    "    # plot loans that were not repaid\n",
    "    sns.kdeplot(train_data_domain.loc[train_data_domain['TARGET'] == 1, feature], label = 'target == 1')\n",
    "    \n",
    "    # Label the plots\n",
    "    plt.title('Distribution of %s by Target Value' % feature)\n",
    "    plt.xlabel('%s' % feature); plt.ylabel('Density'); plt.legend()\n",
    "    \n",
    "plt.tight_layout(h_pad = 2.5)"
   ]
  },
  {
   "cell_type": "markdown",
   "id": "9769e156-6c79-4a19-be00-b21c3574b382",
   "metadata": {},
   "source": [
    "polynomial and domain will be fused to the original datasets \\\n",
    "In the future they should be mixed, and probably reduced with a PCA to enhance models efficiency"
   ]
  },
  {
   "cell_type": "code",
   "execution_count": 77,
   "id": "95f31cda-5970-4652-a20b-3ef029f5e4ca",
   "metadata": {},
   "outputs": [
    {
     "data": {
      "text/plain": [
       "((307511, 320), (48744, 319))"
      ]
     },
     "execution_count": 77,
     "metadata": {},
     "output_type": "execute_result"
    }
   ],
   "source": [
    "train_data_treated = train_data_poly.merge(poly_features_train, on = 'SK_ID_CURR', how = 'left')\n",
    "test_data_treated = test_data_poly.merge(poly_features_test, on = 'SK_ID_CURR', how = 'left')\n",
    "train_data_treated.shape, test_data_treated.shape"
   ]
  },
  {
   "cell_type": "markdown",
   "id": "21d6c462-ae27-41fc-bad2-87cc8ef5a1a1",
   "metadata": {},
   "source": [
    "need to trim down the number of features"
   ]
  },
  {
   "cell_type": "markdown",
   "id": "e39c817b-5553-4d29-bef2-45ed45dd43f5",
   "metadata": {},
   "source": [
    "### Feature reduction"
   ]
  },
  {
   "cell_type": "markdown",
   "id": "bd471d54-fa97-46d7-a0d7-26c1570b90f6",
   "metadata": {},
   "source": [
    "There are 320 features, which needs to be reduced to enhance performance \n",
    "\n",
    "We will drop features that : \n",
    "- Are higly correlated to one another, bringing the model no additionnal information"
   ]
  },
  {
   "cell_type": "code",
   "execution_count": 78,
   "id": "cd5eb8af-bd6d-40e3-88ba-eb57a0ea231c",
   "metadata": {},
   "outputs": [
    {
     "data": {
      "text/html": [
       "<div>\n",
       "<style scoped>\n",
       "    .dataframe tbody tr th:only-of-type {\n",
       "        vertical-align: middle;\n",
       "    }\n",
       "\n",
       "    .dataframe tbody tr th {\n",
       "        vertical-align: top;\n",
       "    }\n",
       "\n",
       "    .dataframe thead th {\n",
       "        text-align: right;\n",
       "    }\n",
       "</style>\n",
       "<table border=\"1\" class=\"dataframe\">\n",
       "  <thead>\n",
       "    <tr style=\"text-align: right;\">\n",
       "      <th></th>\n",
       "      <th>TARGET</th>\n",
       "      <th>EXT_SOURCE_2 EXT_SOURCE_3_y</th>\n",
       "      <th>EXT_SOURCE_2 EXT_SOURCE_3_x</th>\n",
       "      <th>EXT_SOURCE_1 EXT_SOURCE_2 EXT_SOURCE_3_x</th>\n",
       "      <th>EXT_SOURCE_1 EXT_SOURCE_2 EXT_SOURCE_3_y</th>\n",
       "      <th>EXT_SOURCE_2 EXT_SOURCE_3 DAYS_BIRTH_y</th>\n",
       "      <th>EXT_SOURCE_2 EXT_SOURCE_3 DAYS_BIRTH_x</th>\n",
       "      <th>EXT_SOURCE_2^2 EXT_SOURCE_3_y</th>\n",
       "      <th>EXT_SOURCE_2^2 EXT_SOURCE_3_x</th>\n",
       "      <th>EXT_SOURCE_2 EXT_SOURCE_3^2_x</th>\n",
       "      <th>...</th>\n",
       "      <th>FLAG_CONT_MOBILE</th>\n",
       "      <th>ORGANIZATION_TYPE_Business Entity Type 1</th>\n",
       "      <th>FLAG_DOCUMENT_5</th>\n",
       "      <th>NAME_HOUSING_TYPE_Co-op apartment</th>\n",
       "      <th>ORGANIZATION_TYPE_Legal Services</th>\n",
       "      <th>FLAG_DOCUMENT_20</th>\n",
       "      <th>ORGANIZATION_TYPE_Advertising</th>\n",
       "      <th>ORGANIZATION_TYPE_Industry: type 7</th>\n",
       "      <th>1_x</th>\n",
       "      <th>1_y</th>\n",
       "    </tr>\n",
       "  </thead>\n",
       "  <tbody>\n",
       "    <tr>\n",
       "      <th>TARGET</th>\n",
       "      <td>1.000000</td>\n",
       "      <td>0.194235</td>\n",
       "      <td>0.194235</td>\n",
       "      <td>0.189593</td>\n",
       "      <td>0.189593</td>\n",
       "      <td>0.181417</td>\n",
       "      <td>0.181417</td>\n",
       "      <td>0.176589</td>\n",
       "      <td>0.176589</td>\n",
       "      <td>0.171729</td>\n",
       "      <td>...</td>\n",
       "      <td>0.000370</td>\n",
       "      <td>0.000339</td>\n",
       "      <td>0.000316</td>\n",
       "      <td>0.000312</td>\n",
       "      <td>0.000236</td>\n",
       "      <td>0.000215</td>\n",
       "      <td>0.000117</td>\n",
       "      <td>0.000094</td>\n",
       "      <td>NaN</td>\n",
       "      <td>NaN</td>\n",
       "    </tr>\n",
       "    <tr>\n",
       "      <th>EXT_SOURCE_2 EXT_SOURCE_3_y</th>\n",
       "      <td>0.194235</td>\n",
       "      <td>1.000000</td>\n",
       "      <td>1.000000</td>\n",
       "      <td>0.882604</td>\n",
       "      <td>0.882604</td>\n",
       "      <td>0.891909</td>\n",
       "      <td>0.891909</td>\n",
       "      <td>0.966692</td>\n",
       "      <td>0.966692</td>\n",
       "      <td>0.954614</td>\n",
       "      <td>...</td>\n",
       "      <td>0.004147</td>\n",
       "      <td>0.000186</td>\n",
       "      <td>0.000109</td>\n",
       "      <td>0.001307</td>\n",
       "      <td>0.005052</td>\n",
       "      <td>0.007884</td>\n",
       "      <td>0.003047</td>\n",
       "      <td>0.001173</td>\n",
       "      <td>NaN</td>\n",
       "      <td>NaN</td>\n",
       "    </tr>\n",
       "    <tr>\n",
       "      <th>EXT_SOURCE_2 EXT_SOURCE_3_x</th>\n",
       "      <td>0.194235</td>\n",
       "      <td>1.000000</td>\n",
       "      <td>1.000000</td>\n",
       "      <td>0.882604</td>\n",
       "      <td>0.882604</td>\n",
       "      <td>0.891909</td>\n",
       "      <td>0.891909</td>\n",
       "      <td>0.966692</td>\n",
       "      <td>0.966692</td>\n",
       "      <td>0.954614</td>\n",
       "      <td>...</td>\n",
       "      <td>0.004147</td>\n",
       "      <td>0.000186</td>\n",
       "      <td>0.000109</td>\n",
       "      <td>0.001307</td>\n",
       "      <td>0.005052</td>\n",
       "      <td>0.007884</td>\n",
       "      <td>0.003047</td>\n",
       "      <td>0.001173</td>\n",
       "      <td>NaN</td>\n",
       "      <td>NaN</td>\n",
       "    </tr>\n",
       "    <tr>\n",
       "      <th>EXT_SOURCE_1 EXT_SOURCE_2 EXT_SOURCE_3_x</th>\n",
       "      <td>0.189593</td>\n",
       "      <td>0.882604</td>\n",
       "      <td>0.882604</td>\n",
       "      <td>1.000000</td>\n",
       "      <td>1.000000</td>\n",
       "      <td>0.850758</td>\n",
       "      <td>0.850758</td>\n",
       "      <td>0.861528</td>\n",
       "      <td>0.861528</td>\n",
       "      <td>0.846597</td>\n",
       "      <td>...</td>\n",
       "      <td>0.003949</td>\n",
       "      <td>0.005225</td>\n",
       "      <td>0.000187</td>\n",
       "      <td>0.003808</td>\n",
       "      <td>0.007197</td>\n",
       "      <td>0.007412</td>\n",
       "      <td>0.004280</td>\n",
       "      <td>0.005353</td>\n",
       "      <td>NaN</td>\n",
       "      <td>NaN</td>\n",
       "    </tr>\n",
       "    <tr>\n",
       "      <th>EXT_SOURCE_1 EXT_SOURCE_2 EXT_SOURCE_3_y</th>\n",
       "      <td>0.189593</td>\n",
       "      <td>0.882604</td>\n",
       "      <td>0.882604</td>\n",
       "      <td>1.000000</td>\n",
       "      <td>1.000000</td>\n",
       "      <td>0.850758</td>\n",
       "      <td>0.850758</td>\n",
       "      <td>0.861528</td>\n",
       "      <td>0.861528</td>\n",
       "      <td>0.846597</td>\n",
       "      <td>...</td>\n",
       "      <td>0.003949</td>\n",
       "      <td>0.005225</td>\n",
       "      <td>0.000187</td>\n",
       "      <td>0.003808</td>\n",
       "      <td>0.007197</td>\n",
       "      <td>0.007412</td>\n",
       "      <td>0.004280</td>\n",
       "      <td>0.005353</td>\n",
       "      <td>NaN</td>\n",
       "      <td>NaN</td>\n",
       "    </tr>\n",
       "    <tr>\n",
       "      <th>...</th>\n",
       "      <td>...</td>\n",
       "      <td>...</td>\n",
       "      <td>...</td>\n",
       "      <td>...</td>\n",
       "      <td>...</td>\n",
       "      <td>...</td>\n",
       "      <td>...</td>\n",
       "      <td>...</td>\n",
       "      <td>...</td>\n",
       "      <td>...</td>\n",
       "      <td>...</td>\n",
       "      <td>...</td>\n",
       "      <td>...</td>\n",
       "      <td>...</td>\n",
       "      <td>...</td>\n",
       "      <td>...</td>\n",
       "      <td>...</td>\n",
       "      <td>...</td>\n",
       "      <td>...</td>\n",
       "      <td>...</td>\n",
       "      <td>...</td>\n",
       "    </tr>\n",
       "    <tr>\n",
       "      <th>FLAG_DOCUMENT_20</th>\n",
       "      <td>0.000215</td>\n",
       "      <td>0.007884</td>\n",
       "      <td>0.007884</td>\n",
       "      <td>0.007412</td>\n",
       "      <td>0.007412</td>\n",
       "      <td>0.010237</td>\n",
       "      <td>0.010237</td>\n",
       "      <td>0.006143</td>\n",
       "      <td>0.006143</td>\n",
       "      <td>0.009239</td>\n",
       "      <td>...</td>\n",
       "      <td>0.000974</td>\n",
       "      <td>0.000037</td>\n",
       "      <td>0.002791</td>\n",
       "      <td>0.001032</td>\n",
       "      <td>0.003878</td>\n",
       "      <td>1.000000</td>\n",
       "      <td>0.003027</td>\n",
       "      <td>0.000748</td>\n",
       "      <td>NaN</td>\n",
       "      <td>NaN</td>\n",
       "    </tr>\n",
       "    <tr>\n",
       "      <th>ORGANIZATION_TYPE_Advertising</th>\n",
       "      <td>0.000117</td>\n",
       "      <td>0.003047</td>\n",
       "      <td>0.003047</td>\n",
       "      <td>0.004280</td>\n",
       "      <td>0.004280</td>\n",
       "      <td>0.003980</td>\n",
       "      <td>0.003980</td>\n",
       "      <td>0.004353</td>\n",
       "      <td>0.004353</td>\n",
       "      <td>0.001655</td>\n",
       "      <td>...</td>\n",
       "      <td>0.004439</td>\n",
       "      <td>0.005265</td>\n",
       "      <td>0.002511</td>\n",
       "      <td>0.003518</td>\n",
       "      <td>0.001178</td>\n",
       "      <td>0.003027</td>\n",
       "      <td>1.000000</td>\n",
       "      <td>0.002442</td>\n",
       "      <td>NaN</td>\n",
       "      <td>NaN</td>\n",
       "    </tr>\n",
       "    <tr>\n",
       "      <th>ORGANIZATION_TYPE_Industry: type 7</th>\n",
       "      <td>0.000094</td>\n",
       "      <td>0.001173</td>\n",
       "      <td>0.001173</td>\n",
       "      <td>0.005353</td>\n",
       "      <td>0.005353</td>\n",
       "      <td>0.006849</td>\n",
       "      <td>0.006849</td>\n",
       "      <td>0.000887</td>\n",
       "      <td>0.000887</td>\n",
       "      <td>0.002158</td>\n",
       "      <td>...</td>\n",
       "      <td>0.000509</td>\n",
       "      <td>0.009204</td>\n",
       "      <td>0.002968</td>\n",
       "      <td>0.001021</td>\n",
       "      <td>0.002059</td>\n",
       "      <td>0.000748</td>\n",
       "      <td>0.002442</td>\n",
       "      <td>1.000000</td>\n",
       "      <td>NaN</td>\n",
       "      <td>NaN</td>\n",
       "    </tr>\n",
       "    <tr>\n",
       "      <th>1_x</th>\n",
       "      <td>NaN</td>\n",
       "      <td>NaN</td>\n",
       "      <td>NaN</td>\n",
       "      <td>NaN</td>\n",
       "      <td>NaN</td>\n",
       "      <td>NaN</td>\n",
       "      <td>NaN</td>\n",
       "      <td>NaN</td>\n",
       "      <td>NaN</td>\n",
       "      <td>NaN</td>\n",
       "      <td>...</td>\n",
       "      <td>NaN</td>\n",
       "      <td>NaN</td>\n",
       "      <td>NaN</td>\n",
       "      <td>NaN</td>\n",
       "      <td>NaN</td>\n",
       "      <td>NaN</td>\n",
       "      <td>NaN</td>\n",
       "      <td>NaN</td>\n",
       "      <td>NaN</td>\n",
       "      <td>NaN</td>\n",
       "    </tr>\n",
       "    <tr>\n",
       "      <th>1_y</th>\n",
       "      <td>NaN</td>\n",
       "      <td>NaN</td>\n",
       "      <td>NaN</td>\n",
       "      <td>NaN</td>\n",
       "      <td>NaN</td>\n",
       "      <td>NaN</td>\n",
       "      <td>NaN</td>\n",
       "      <td>NaN</td>\n",
       "      <td>NaN</td>\n",
       "      <td>NaN</td>\n",
       "      <td>...</td>\n",
       "      <td>NaN</td>\n",
       "      <td>NaN</td>\n",
       "      <td>NaN</td>\n",
       "      <td>NaN</td>\n",
       "      <td>NaN</td>\n",
       "      <td>NaN</td>\n",
       "      <td>NaN</td>\n",
       "      <td>NaN</td>\n",
       "      <td>NaN</td>\n",
       "      <td>NaN</td>\n",
       "    </tr>\n",
       "  </tbody>\n",
       "</table>\n",
       "<p>320 rows × 320 columns</p>\n",
       "</div>"
      ],
      "text/plain": [
       "                                            TARGET  \\\n",
       "TARGET                                    1.000000   \n",
       "EXT_SOURCE_2 EXT_SOURCE_3_y               0.194235   \n",
       "EXT_SOURCE_2 EXT_SOURCE_3_x               0.194235   \n",
       "EXT_SOURCE_1 EXT_SOURCE_2 EXT_SOURCE_3_x  0.189593   \n",
       "EXT_SOURCE_1 EXT_SOURCE_2 EXT_SOURCE_3_y  0.189593   \n",
       "...                                            ...   \n",
       "FLAG_DOCUMENT_20                          0.000215   \n",
       "ORGANIZATION_TYPE_Advertising             0.000117   \n",
       "ORGANIZATION_TYPE_Industry: type 7        0.000094   \n",
       "1_x                                            NaN   \n",
       "1_y                                            NaN   \n",
       "\n",
       "                                          EXT_SOURCE_2 EXT_SOURCE_3_y  \\\n",
       "TARGET                                                       0.194235   \n",
       "EXT_SOURCE_2 EXT_SOURCE_3_y                                  1.000000   \n",
       "EXT_SOURCE_2 EXT_SOURCE_3_x                                  1.000000   \n",
       "EXT_SOURCE_1 EXT_SOURCE_2 EXT_SOURCE_3_x                     0.882604   \n",
       "EXT_SOURCE_1 EXT_SOURCE_2 EXT_SOURCE_3_y                     0.882604   \n",
       "...                                                               ...   \n",
       "FLAG_DOCUMENT_20                                             0.007884   \n",
       "ORGANIZATION_TYPE_Advertising                                0.003047   \n",
       "ORGANIZATION_TYPE_Industry: type 7                           0.001173   \n",
       "1_x                                                               NaN   \n",
       "1_y                                                               NaN   \n",
       "\n",
       "                                          EXT_SOURCE_2 EXT_SOURCE_3_x  \\\n",
       "TARGET                                                       0.194235   \n",
       "EXT_SOURCE_2 EXT_SOURCE_3_y                                  1.000000   \n",
       "EXT_SOURCE_2 EXT_SOURCE_3_x                                  1.000000   \n",
       "EXT_SOURCE_1 EXT_SOURCE_2 EXT_SOURCE_3_x                     0.882604   \n",
       "EXT_SOURCE_1 EXT_SOURCE_2 EXT_SOURCE_3_y                     0.882604   \n",
       "...                                                               ...   \n",
       "FLAG_DOCUMENT_20                                             0.007884   \n",
       "ORGANIZATION_TYPE_Advertising                                0.003047   \n",
       "ORGANIZATION_TYPE_Industry: type 7                           0.001173   \n",
       "1_x                                                               NaN   \n",
       "1_y                                                               NaN   \n",
       "\n",
       "                                          EXT_SOURCE_1 EXT_SOURCE_2 EXT_SOURCE_3_x  \\\n",
       "TARGET                                                                    0.189593   \n",
       "EXT_SOURCE_2 EXT_SOURCE_3_y                                               0.882604   \n",
       "EXT_SOURCE_2 EXT_SOURCE_3_x                                               0.882604   \n",
       "EXT_SOURCE_1 EXT_SOURCE_2 EXT_SOURCE_3_x                                  1.000000   \n",
       "EXT_SOURCE_1 EXT_SOURCE_2 EXT_SOURCE_3_y                                  1.000000   \n",
       "...                                                                            ...   \n",
       "FLAG_DOCUMENT_20                                                          0.007412   \n",
       "ORGANIZATION_TYPE_Advertising                                             0.004280   \n",
       "ORGANIZATION_TYPE_Industry: type 7                                        0.005353   \n",
       "1_x                                                                            NaN   \n",
       "1_y                                                                            NaN   \n",
       "\n",
       "                                          EXT_SOURCE_1 EXT_SOURCE_2 EXT_SOURCE_3_y  \\\n",
       "TARGET                                                                    0.189593   \n",
       "EXT_SOURCE_2 EXT_SOURCE_3_y                                               0.882604   \n",
       "EXT_SOURCE_2 EXT_SOURCE_3_x                                               0.882604   \n",
       "EXT_SOURCE_1 EXT_SOURCE_2 EXT_SOURCE_3_x                                  1.000000   \n",
       "EXT_SOURCE_1 EXT_SOURCE_2 EXT_SOURCE_3_y                                  1.000000   \n",
       "...                                                                            ...   \n",
       "FLAG_DOCUMENT_20                                                          0.007412   \n",
       "ORGANIZATION_TYPE_Advertising                                             0.004280   \n",
       "ORGANIZATION_TYPE_Industry: type 7                                        0.005353   \n",
       "1_x                                                                            NaN   \n",
       "1_y                                                                            NaN   \n",
       "\n",
       "                                          EXT_SOURCE_2 EXT_SOURCE_3 DAYS_BIRTH_y  \\\n",
       "TARGET                                                                  0.181417   \n",
       "EXT_SOURCE_2 EXT_SOURCE_3_y                                             0.891909   \n",
       "EXT_SOURCE_2 EXT_SOURCE_3_x                                             0.891909   \n",
       "EXT_SOURCE_1 EXT_SOURCE_2 EXT_SOURCE_3_x                                0.850758   \n",
       "EXT_SOURCE_1 EXT_SOURCE_2 EXT_SOURCE_3_y                                0.850758   \n",
       "...                                                                          ...   \n",
       "FLAG_DOCUMENT_20                                                        0.010237   \n",
       "ORGANIZATION_TYPE_Advertising                                           0.003980   \n",
       "ORGANIZATION_TYPE_Industry: type 7                                      0.006849   \n",
       "1_x                                                                          NaN   \n",
       "1_y                                                                          NaN   \n",
       "\n",
       "                                          EXT_SOURCE_2 EXT_SOURCE_3 DAYS_BIRTH_x  \\\n",
       "TARGET                                                                  0.181417   \n",
       "EXT_SOURCE_2 EXT_SOURCE_3_y                                             0.891909   \n",
       "EXT_SOURCE_2 EXT_SOURCE_3_x                                             0.891909   \n",
       "EXT_SOURCE_1 EXT_SOURCE_2 EXT_SOURCE_3_x                                0.850758   \n",
       "EXT_SOURCE_1 EXT_SOURCE_2 EXT_SOURCE_3_y                                0.850758   \n",
       "...                                                                          ...   \n",
       "FLAG_DOCUMENT_20                                                        0.010237   \n",
       "ORGANIZATION_TYPE_Advertising                                           0.003980   \n",
       "ORGANIZATION_TYPE_Industry: type 7                                      0.006849   \n",
       "1_x                                                                          NaN   \n",
       "1_y                                                                          NaN   \n",
       "\n",
       "                                          EXT_SOURCE_2^2 EXT_SOURCE_3_y  \\\n",
       "TARGET                                                         0.176589   \n",
       "EXT_SOURCE_2 EXT_SOURCE_3_y                                    0.966692   \n",
       "EXT_SOURCE_2 EXT_SOURCE_3_x                                    0.966692   \n",
       "EXT_SOURCE_1 EXT_SOURCE_2 EXT_SOURCE_3_x                       0.861528   \n",
       "EXT_SOURCE_1 EXT_SOURCE_2 EXT_SOURCE_3_y                       0.861528   \n",
       "...                                                                 ...   \n",
       "FLAG_DOCUMENT_20                                               0.006143   \n",
       "ORGANIZATION_TYPE_Advertising                                  0.004353   \n",
       "ORGANIZATION_TYPE_Industry: type 7                             0.000887   \n",
       "1_x                                                                 NaN   \n",
       "1_y                                                                 NaN   \n",
       "\n",
       "                                          EXT_SOURCE_2^2 EXT_SOURCE_3_x  \\\n",
       "TARGET                                                         0.176589   \n",
       "EXT_SOURCE_2 EXT_SOURCE_3_y                                    0.966692   \n",
       "EXT_SOURCE_2 EXT_SOURCE_3_x                                    0.966692   \n",
       "EXT_SOURCE_1 EXT_SOURCE_2 EXT_SOURCE_3_x                       0.861528   \n",
       "EXT_SOURCE_1 EXT_SOURCE_2 EXT_SOURCE_3_y                       0.861528   \n",
       "...                                                                 ...   \n",
       "FLAG_DOCUMENT_20                                               0.006143   \n",
       "ORGANIZATION_TYPE_Advertising                                  0.004353   \n",
       "ORGANIZATION_TYPE_Industry: type 7                             0.000887   \n",
       "1_x                                                                 NaN   \n",
       "1_y                                                                 NaN   \n",
       "\n",
       "                                          EXT_SOURCE_2 EXT_SOURCE_3^2_x  ...  \\\n",
       "TARGET                                                         0.171729  ...   \n",
       "EXT_SOURCE_2 EXT_SOURCE_3_y                                    0.954614  ...   \n",
       "EXT_SOURCE_2 EXT_SOURCE_3_x                                    0.954614  ...   \n",
       "EXT_SOURCE_1 EXT_SOURCE_2 EXT_SOURCE_3_x                       0.846597  ...   \n",
       "EXT_SOURCE_1 EXT_SOURCE_2 EXT_SOURCE_3_y                       0.846597  ...   \n",
       "...                                                                 ...  ...   \n",
       "FLAG_DOCUMENT_20                                               0.009239  ...   \n",
       "ORGANIZATION_TYPE_Advertising                                  0.001655  ...   \n",
       "ORGANIZATION_TYPE_Industry: type 7                             0.002158  ...   \n",
       "1_x                                                                 NaN  ...   \n",
       "1_y                                                                 NaN  ...   \n",
       "\n",
       "                                          FLAG_CONT_MOBILE  \\\n",
       "TARGET                                            0.000370   \n",
       "EXT_SOURCE_2 EXT_SOURCE_3_y                       0.004147   \n",
       "EXT_SOURCE_2 EXT_SOURCE_3_x                       0.004147   \n",
       "EXT_SOURCE_1 EXT_SOURCE_2 EXT_SOURCE_3_x          0.003949   \n",
       "EXT_SOURCE_1 EXT_SOURCE_2 EXT_SOURCE_3_y          0.003949   \n",
       "...                                                    ...   \n",
       "FLAG_DOCUMENT_20                                  0.000974   \n",
       "ORGANIZATION_TYPE_Advertising                     0.004439   \n",
       "ORGANIZATION_TYPE_Industry: type 7                0.000509   \n",
       "1_x                                                    NaN   \n",
       "1_y                                                    NaN   \n",
       "\n",
       "                                          ORGANIZATION_TYPE_Business Entity Type 1  \\\n",
       "TARGET                                                                    0.000339   \n",
       "EXT_SOURCE_2 EXT_SOURCE_3_y                                               0.000186   \n",
       "EXT_SOURCE_2 EXT_SOURCE_3_x                                               0.000186   \n",
       "EXT_SOURCE_1 EXT_SOURCE_2 EXT_SOURCE_3_x                                  0.005225   \n",
       "EXT_SOURCE_1 EXT_SOURCE_2 EXT_SOURCE_3_y                                  0.005225   \n",
       "...                                                                            ...   \n",
       "FLAG_DOCUMENT_20                                                          0.000037   \n",
       "ORGANIZATION_TYPE_Advertising                                             0.005265   \n",
       "ORGANIZATION_TYPE_Industry: type 7                                        0.009204   \n",
       "1_x                                                                            NaN   \n",
       "1_y                                                                            NaN   \n",
       "\n",
       "                                          FLAG_DOCUMENT_5  \\\n",
       "TARGET                                           0.000316   \n",
       "EXT_SOURCE_2 EXT_SOURCE_3_y                      0.000109   \n",
       "EXT_SOURCE_2 EXT_SOURCE_3_x                      0.000109   \n",
       "EXT_SOURCE_1 EXT_SOURCE_2 EXT_SOURCE_3_x         0.000187   \n",
       "EXT_SOURCE_1 EXT_SOURCE_2 EXT_SOURCE_3_y         0.000187   \n",
       "...                                                   ...   \n",
       "FLAG_DOCUMENT_20                                 0.002791   \n",
       "ORGANIZATION_TYPE_Advertising                    0.002511   \n",
       "ORGANIZATION_TYPE_Industry: type 7               0.002968   \n",
       "1_x                                                   NaN   \n",
       "1_y                                                   NaN   \n",
       "\n",
       "                                          NAME_HOUSING_TYPE_Co-op apartment  \\\n",
       "TARGET                                                             0.000312   \n",
       "EXT_SOURCE_2 EXT_SOURCE_3_y                                        0.001307   \n",
       "EXT_SOURCE_2 EXT_SOURCE_3_x                                        0.001307   \n",
       "EXT_SOURCE_1 EXT_SOURCE_2 EXT_SOURCE_3_x                           0.003808   \n",
       "EXT_SOURCE_1 EXT_SOURCE_2 EXT_SOURCE_3_y                           0.003808   \n",
       "...                                                                     ...   \n",
       "FLAG_DOCUMENT_20                                                   0.001032   \n",
       "ORGANIZATION_TYPE_Advertising                                      0.003518   \n",
       "ORGANIZATION_TYPE_Industry: type 7                                 0.001021   \n",
       "1_x                                                                     NaN   \n",
       "1_y                                                                     NaN   \n",
       "\n",
       "                                          ORGANIZATION_TYPE_Legal Services  \\\n",
       "TARGET                                                            0.000236   \n",
       "EXT_SOURCE_2 EXT_SOURCE_3_y                                       0.005052   \n",
       "EXT_SOURCE_2 EXT_SOURCE_3_x                                       0.005052   \n",
       "EXT_SOURCE_1 EXT_SOURCE_2 EXT_SOURCE_3_x                          0.007197   \n",
       "EXT_SOURCE_1 EXT_SOURCE_2 EXT_SOURCE_3_y                          0.007197   \n",
       "...                                                                    ...   \n",
       "FLAG_DOCUMENT_20                                                  0.003878   \n",
       "ORGANIZATION_TYPE_Advertising                                     0.001178   \n",
       "ORGANIZATION_TYPE_Industry: type 7                                0.002059   \n",
       "1_x                                                                    NaN   \n",
       "1_y                                                                    NaN   \n",
       "\n",
       "                                          FLAG_DOCUMENT_20  \\\n",
       "TARGET                                            0.000215   \n",
       "EXT_SOURCE_2 EXT_SOURCE_3_y                       0.007884   \n",
       "EXT_SOURCE_2 EXT_SOURCE_3_x                       0.007884   \n",
       "EXT_SOURCE_1 EXT_SOURCE_2 EXT_SOURCE_3_x          0.007412   \n",
       "EXT_SOURCE_1 EXT_SOURCE_2 EXT_SOURCE_3_y          0.007412   \n",
       "...                                                    ...   \n",
       "FLAG_DOCUMENT_20                                  1.000000   \n",
       "ORGANIZATION_TYPE_Advertising                     0.003027   \n",
       "ORGANIZATION_TYPE_Industry: type 7                0.000748   \n",
       "1_x                                                    NaN   \n",
       "1_y                                                    NaN   \n",
       "\n",
       "                                          ORGANIZATION_TYPE_Advertising  \\\n",
       "TARGET                                                         0.000117   \n",
       "EXT_SOURCE_2 EXT_SOURCE_3_y                                    0.003047   \n",
       "EXT_SOURCE_2 EXT_SOURCE_3_x                                    0.003047   \n",
       "EXT_SOURCE_1 EXT_SOURCE_2 EXT_SOURCE_3_x                       0.004280   \n",
       "EXT_SOURCE_1 EXT_SOURCE_2 EXT_SOURCE_3_y                       0.004280   \n",
       "...                                                                 ...   \n",
       "FLAG_DOCUMENT_20                                               0.003027   \n",
       "ORGANIZATION_TYPE_Advertising                                  1.000000   \n",
       "ORGANIZATION_TYPE_Industry: type 7                             0.002442   \n",
       "1_x                                                                 NaN   \n",
       "1_y                                                                 NaN   \n",
       "\n",
       "                                          ORGANIZATION_TYPE_Industry: type 7  \\\n",
       "TARGET                                                              0.000094   \n",
       "EXT_SOURCE_2 EXT_SOURCE_3_y                                         0.001173   \n",
       "EXT_SOURCE_2 EXT_SOURCE_3_x                                         0.001173   \n",
       "EXT_SOURCE_1 EXT_SOURCE_2 EXT_SOURCE_3_x                            0.005353   \n",
       "EXT_SOURCE_1 EXT_SOURCE_2 EXT_SOURCE_3_y                            0.005353   \n",
       "...                                                                      ...   \n",
       "FLAG_DOCUMENT_20                                                    0.000748   \n",
       "ORGANIZATION_TYPE_Advertising                                       0.002442   \n",
       "ORGANIZATION_TYPE_Industry: type 7                                  1.000000   \n",
       "1_x                                                                      NaN   \n",
       "1_y                                                                      NaN   \n",
       "\n",
       "                                          1_x  1_y  \n",
       "TARGET                                    NaN  NaN  \n",
       "EXT_SOURCE_2 EXT_SOURCE_3_y               NaN  NaN  \n",
       "EXT_SOURCE_2 EXT_SOURCE_3_x               NaN  NaN  \n",
       "EXT_SOURCE_1 EXT_SOURCE_2 EXT_SOURCE_3_x  NaN  NaN  \n",
       "EXT_SOURCE_1 EXT_SOURCE_2 EXT_SOURCE_3_y  NaN  NaN  \n",
       "...                                       ...  ...  \n",
       "FLAG_DOCUMENT_20                          NaN  NaN  \n",
       "ORGANIZATION_TYPE_Advertising             NaN  NaN  \n",
       "ORGANIZATION_TYPE_Industry: type 7        NaN  NaN  \n",
       "1_x                                       NaN  NaN  \n",
       "1_y                                       NaN  NaN  \n",
       "\n",
       "[320 rows x 320 columns]"
      ]
     },
     "execution_count": 78,
     "metadata": {},
     "output_type": "execute_result"
    }
   ],
   "source": [
    "last_corr_map = (train_data_treated.corr()\n",
    "    .abs()\n",
    "    .sort_values(\"TARGET\", ascending=False, axis=0)\n",
    "    .sort_values(\"TARGET\", ascending=False, axis=1)\n",
    "           )\n",
    "\n",
    "last_corr_map"
   ]
  },
  {
   "cell_type": "code",
   "execution_count": 79,
   "id": "4dfa32e6-d9cd-42ef-a63a-2ffbd4674550",
   "metadata": {},
   "outputs": [
    {
     "data": {
      "text/plain": [
       "FLAG_CONT_MOBILE                            0.000370\n",
       "ORGANIZATION_TYPE_Business Entity Type 1    0.000339\n",
       "FLAG_DOCUMENT_5                             0.000316\n",
       "NAME_HOUSING_TYPE_Co-op apartment           0.000312\n",
       "ORGANIZATION_TYPE_Legal Services            0.000236\n",
       "FLAG_DOCUMENT_20                            0.000215\n",
       "ORGANIZATION_TYPE_Advertising               0.000117\n",
       "ORGANIZATION_TYPE_Industry: type 7          0.000094\n",
       "1_x                                              NaN\n",
       "1_y                                              NaN\n",
       "Name: TARGET, dtype: float64"
      ]
     },
     "execution_count": 79,
     "metadata": {},
     "output_type": "execute_result"
    }
   ],
   "source": [
    "last_corr_map['TARGET'].abs().sort_values(ascending=False).tail(10)"
   ]
  },
  {
   "cell_type": "code",
   "execution_count": 80,
   "id": "7972f7b3-81e1-475b-a5ed-3a7c00512fe8",
   "metadata": {},
   "outputs": [
    {
     "data": {
      "text/plain": [
       "'# Let\\'s find variables that are highly de-correlated from TARGET\\ncorr_target_min_threshold = 0.01\\nhighly_decorrelated_from_target = pd.DataFrame(\\n    columns=[\"correlation with TARGET\"]\\n)\\nfor col in last_corr_map.columns:\\n    if col != \"TARGET\" and (\\n        pd.isnull(last_corr_map[col][\"TARGET\"])\\n        or abs(last_corr_map[col][\"TARGET\"]) < corr_target_min_threshold\\n    ):\\n        highly_decorrelated_from_target.loc[col] = {\\n            \"correlation with TARGET\": last_corr_map[col][\"TARGET\"],\\n        }\\n\\nhighly_decorrelated_from_target.sort_values(by=[\"correlation with TARGET\"])'"
      ]
     },
     "execution_count": 80,
     "metadata": {},
     "output_type": "execute_result"
    }
   ],
   "source": [
    "\"\"\"# Let's find variables that are highly de-correlated from TARGET\n",
    "corr_target_min_threshold = 0.01\n",
    "highly_decorrelated_from_target = pd.DataFrame(\n",
    "    columns=[\"correlation with TARGET\"]\n",
    ")\n",
    "for col in last_corr_map.columns:\n",
    "    if col != \"TARGET\" and (\n",
    "        pd.isnull(last_corr_map[col][\"TARGET\"])\n",
    "        or abs(last_corr_map[col][\"TARGET\"]) < corr_target_min_threshold\n",
    "    ):\n",
    "        highly_decorrelated_from_target.loc[col] = {\n",
    "            \"correlation with TARGET\": last_corr_map[col][\"TARGET\"],\n",
    "        }\n",
    "\n",
    "highly_decorrelated_from_target.sort_values(by=[\"correlation with TARGET\"])\"\"\""
   ]
  },
  {
   "cell_type": "code",
   "execution_count": 81,
   "id": "1db83118-1c98-4370-a352-e161eb5a9daf",
   "metadata": {},
   "outputs": [
    {
     "data": {
      "text/html": [
       "<div>\n",
       "<style scoped>\n",
       "    .dataframe tbody tr th:only-of-type {\n",
       "        vertical-align: middle;\n",
       "    }\n",
       "\n",
       "    .dataframe tbody tr th {\n",
       "        vertical-align: top;\n",
       "    }\n",
       "\n",
       "    .dataframe thead th {\n",
       "        text-align: right;\n",
       "    }\n",
       "</style>\n",
       "<table border=\"1\" class=\"dataframe\">\n",
       "  <thead>\n",
       "    <tr style=\"text-align: right;\">\n",
       "      <th></th>\n",
       "      <th>pair</th>\n",
       "      <th>correlation</th>\n",
       "    </tr>\n",
       "  </thead>\n",
       "  <tbody>\n",
       "    <tr>\n",
       "      <th>EXT_SOURCE_2 EXT_SOURCE_3_y</th>\n",
       "      <td>EXT_SOURCE_2 EXT_SOURCE_3_x</td>\n",
       "      <td>1.000000</td>\n",
       "    </tr>\n",
       "    <tr>\n",
       "      <th>EXT_SOURCE_3^2_x</th>\n",
       "      <td>EXT_SOURCE_3^2_y</td>\n",
       "      <td>1.000000</td>\n",
       "    </tr>\n",
       "    <tr>\n",
       "      <th>EXT_SOURCE_3</th>\n",
       "      <td>EXT_SOURCE_3_x</td>\n",
       "      <td>1.000000</td>\n",
       "    </tr>\n",
       "    <tr>\n",
       "      <th>EXT_SOURCE_2 DAYS_BIRTH_y</th>\n",
       "      <td>EXT_SOURCE_2 DAYS_BIRTH_x</td>\n",
       "      <td>1.000000</td>\n",
       "    </tr>\n",
       "    <tr>\n",
       "      <th>EXT_SOURCE_2^2 DAYS_BIRTH_y</th>\n",
       "      <td>EXT_SOURCE_2^2 DAYS_BIRTH_x</td>\n",
       "      <td>1.000000</td>\n",
       "    </tr>\n",
       "    <tr>\n",
       "      <th>...</th>\n",
       "      <td>...</td>\n",
       "      <td>...</td>\n",
       "    </tr>\n",
       "    <tr>\n",
       "      <th>HOUSETYPE_MODE_block of flats</th>\n",
       "      <td>EMERGENCYSTATE_MODE_Unknown</td>\n",
       "      <td>0.929380</td>\n",
       "    </tr>\n",
       "    <tr>\n",
       "      <th>EXT_SOURCE_1^2_x</th>\n",
       "      <td>EXT_SOURCE_1^2 DAYS_BIRTH_x</td>\n",
       "      <td>0.912498</td>\n",
       "    </tr>\n",
       "    <tr>\n",
       "      <th>LIVINGAREA_AVG</th>\n",
       "      <td>TOTALAREA_MODE</td>\n",
       "      <td>0.912327</td>\n",
       "    </tr>\n",
       "    <tr>\n",
       "      <th>DAYS_BIRTH_x</th>\n",
       "      <td>EXT_SOURCE_1 DAYS_BIRTH^2_y</td>\n",
       "      <td>0.911277</td>\n",
       "    </tr>\n",
       "    <tr>\n",
       "      <th>EXT_SOURCE_3^2 DAYS_BIRTH_y</th>\n",
       "      <td>EXT_SOURCE_3^2_y</td>\n",
       "      <td>0.903553</td>\n",
       "    </tr>\n",
       "  </tbody>\n",
       "</table>\n",
       "<p>99 rows × 2 columns</p>\n",
       "</div>"
      ],
      "text/plain": [
       "                                                      pair  correlation\n",
       "EXT_SOURCE_2 EXT_SOURCE_3_y    EXT_SOURCE_2 EXT_SOURCE_3_x     1.000000\n",
       "EXT_SOURCE_3^2_x                          EXT_SOURCE_3^2_y     1.000000\n",
       "EXT_SOURCE_3                                EXT_SOURCE_3_x     1.000000\n",
       "EXT_SOURCE_2 DAYS_BIRTH_y        EXT_SOURCE_2 DAYS_BIRTH_x     1.000000\n",
       "EXT_SOURCE_2^2 DAYS_BIRTH_y    EXT_SOURCE_2^2 DAYS_BIRTH_x     1.000000\n",
       "...                                                    ...          ...\n",
       "HOUSETYPE_MODE_block of flats  EMERGENCYSTATE_MODE_Unknown     0.929380\n",
       "EXT_SOURCE_1^2_x               EXT_SOURCE_1^2 DAYS_BIRTH_x     0.912498\n",
       "LIVINGAREA_AVG                              TOTALAREA_MODE     0.912327\n",
       "DAYS_BIRTH_x                   EXT_SOURCE_1 DAYS_BIRTH^2_y     0.911277\n",
       "EXT_SOURCE_3^2 DAYS_BIRTH_y               EXT_SOURCE_3^2_y     0.903553\n",
       "\n",
       "[99 rows x 2 columns]"
      ]
     },
     "execution_count": 81,
     "metadata": {},
     "output_type": "execute_result"
    }
   ],
   "source": [
    "# Let's find variables that form a highly correlated pair\n",
    "corr_pair_max_threshold = 0.9\n",
    "highly_correlated = pd.DataFrame(columns=[\"pair\", \"correlation\"])\n",
    "for i in range(len(last_corr_map.columns)):\n",
    "    for j in range(i + 1, len(last_corr_map.columns)):\n",
    "        if last_corr_map.iloc[i, j] > corr_pair_max_threshold:\n",
    "            # variables are highly correlated\n",
    "            if last_corr_map.iloc[0, i] > last_corr_map.iloc[0, j]:\n",
    "                # first variable is more correlated with target\n",
    "                # => we want to keep it\n",
    "                keep_index = i\n",
    "                drop_index = j\n",
    "            else:\n",
    "                keep_index = j\n",
    "                drop_index = i\n",
    "\n",
    "            highly_correlated.loc[last_corr_map.columns[drop_index]] = {\n",
    "                \"pair\": last_corr_map.columns[keep_index],\n",
    "                \"correlation\": last_corr_map.iloc[i, j],\n",
    "            }\n",
    "\n",
    "highly_correlated.sort_values(by=\"correlation\", ascending=False)"
   ]
  },
  {
   "cell_type": "code",
   "execution_count": 82,
   "id": "a73d27eb-0dcf-4c55-8284-8fa221302cb7",
   "metadata": {},
   "outputs": [
    {
     "data": {
      "text/html": [
       "<div>\n",
       "<style scoped>\n",
       "    .dataframe tbody tr th:only-of-type {\n",
       "        vertical-align: middle;\n",
       "    }\n",
       "\n",
       "    .dataframe tbody tr th {\n",
       "        vertical-align: top;\n",
       "    }\n",
       "\n",
       "    .dataframe thead th {\n",
       "        text-align: right;\n",
       "    }\n",
       "</style>\n",
       "<table border=\"1\" class=\"dataframe\">\n",
       "  <thead>\n",
       "    <tr style=\"text-align: right;\">\n",
       "      <th></th>\n",
       "      <th>SK_ID_CURR</th>\n",
       "      <th>NAME_CONTRACT_TYPE</th>\n",
       "      <th>FLAG_OWN_CAR</th>\n",
       "      <th>FLAG_OWN_REALTY</th>\n",
       "      <th>CNT_CHILDREN</th>\n",
       "      <th>AMT_INCOME_TOTAL</th>\n",
       "      <th>AMT_ANNUITY</th>\n",
       "      <th>AMT_GOODS_PRICE</th>\n",
       "      <th>REGION_POPULATION_RELATIVE</th>\n",
       "      <th>DAYS_EMPLOYED</th>\n",
       "      <th>...</th>\n",
       "      <th>EXT_SOURCE_2 DAYS_BIRTH_x</th>\n",
       "      <th>EXT_SOURCE_3 DAYS_BIRTH_x</th>\n",
       "      <th>EXT_SOURCE_2 EXT_SOURCE_3 DAYS_BIRTH_x</th>\n",
       "      <th>1_y</th>\n",
       "      <th>EXT_SOURCE_1 EXT_SOURCE_2_y</th>\n",
       "      <th>EXT_SOURCE_1 DAYS_BIRTH_y</th>\n",
       "      <th>EXT_SOURCE_1 EXT_SOURCE_2 EXT_SOURCE_3_y</th>\n",
       "      <th>EXT_SOURCE_1 EXT_SOURCE_2 DAYS_BIRTH_y</th>\n",
       "      <th>EXT_SOURCE_1 EXT_SOURCE_3 DAYS_BIRTH_y</th>\n",
       "      <th>TARGET</th>\n",
       "    </tr>\n",
       "  </thead>\n",
       "  <tbody>\n",
       "    <tr>\n",
       "      <th>count</th>\n",
       "      <td>307511.000000</td>\n",
       "      <td>307511.000000</td>\n",
       "      <td>307511.000000</td>\n",
       "      <td>307511.000000</td>\n",
       "      <td>307511.000000</td>\n",
       "      <td>3.075110e+05</td>\n",
       "      <td>307511.000000</td>\n",
       "      <td>3.075110e+05</td>\n",
       "      <td>307511.000000</td>\n",
       "      <td>307511.000000</td>\n",
       "      <td>...</td>\n",
       "      <td>307511.000000</td>\n",
       "      <td>307511.000000</td>\n",
       "      <td>307511.000000</td>\n",
       "      <td>307511.0</td>\n",
       "      <td>3.075110e+05</td>\n",
       "      <td>307511.000000</td>\n",
       "      <td>3.075110e+05</td>\n",
       "      <td>307511.000000</td>\n",
       "      <td>307511.000000</td>\n",
       "      <td>307511.000000</td>\n",
       "    </tr>\n",
       "    <tr>\n",
       "      <th>mean</th>\n",
       "      <td>278180.518577</td>\n",
       "      <td>0.095213</td>\n",
       "      <td>0.340108</td>\n",
       "      <td>0.693673</td>\n",
       "      <td>0.417052</td>\n",
       "      <td>1.687979e+05</td>\n",
       "      <td>27108.573909</td>\n",
       "      <td>5.383962e+05</td>\n",
       "      <td>0.020868</td>\n",
       "      <td>-2251.606131</td>\n",
       "      <td>...</td>\n",
       "      <td>8325.842411</td>\n",
       "      <td>8330.543206</td>\n",
       "      <td>4370.722252</td>\n",
       "      <td>1.0</td>\n",
       "      <td>2.619026e-01</td>\n",
       "      <td>8270.749977</td>\n",
       "      <td>1.366996e-01</td>\n",
       "      <td>4344.744558</td>\n",
       "      <td>4331.922212</td>\n",
       "      <td>0.080729</td>\n",
       "    </tr>\n",
       "    <tr>\n",
       "      <th>std</th>\n",
       "      <td>102790.175348</td>\n",
       "      <td>0.293509</td>\n",
       "      <td>0.473746</td>\n",
       "      <td>0.460968</td>\n",
       "      <td>0.722121</td>\n",
       "      <td>2.371231e+05</td>\n",
       "      <td>14493.454517</td>\n",
       "      <td>3.692794e+05</td>\n",
       "      <td>0.013831</td>\n",
       "      <td>2136.193492</td>\n",
       "      <td>...</td>\n",
       "      <td>3984.019190</td>\n",
       "      <td>3927.612214</td>\n",
       "      <td>2771.707263</td>\n",
       "      <td>0.0</td>\n",
       "      <td>1.291684e-01</td>\n",
       "      <td>3564.314604</td>\n",
       "      <td>8.698127e-02</td>\n",
       "      <td>2639.003990</td>\n",
       "      <td>2564.783770</td>\n",
       "      <td>0.272419</td>\n",
       "    </tr>\n",
       "    <tr>\n",
       "      <th>min</th>\n",
       "      <td>100002.000000</td>\n",
       "      <td>0.000000</td>\n",
       "      <td>0.000000</td>\n",
       "      <td>0.000000</td>\n",
       "      <td>0.000000</td>\n",
       "      <td>2.565000e+04</td>\n",
       "      <td>1615.500000</td>\n",
       "      <td>4.050000e+04</td>\n",
       "      <td>0.000290</td>\n",
       "      <td>-17912.000000</td>\n",
       "      <td>...</td>\n",
       "      <td>0.000891</td>\n",
       "      <td>4.063106</td>\n",
       "      <td>0.000075</td>\n",
       "      <td>1.0</td>\n",
       "      <td>2.885325e-08</td>\n",
       "      <td>132.101482</td>\n",
       "      <td>2.630738e-09</td>\n",
       "      <td>0.000315</td>\n",
       "      <td>0.138642</td>\n",
       "      <td>0.000000</td>\n",
       "    </tr>\n",
       "    <tr>\n",
       "      <th>25%</th>\n",
       "      <td>189145.500000</td>\n",
       "      <td>0.000000</td>\n",
       "      <td>0.000000</td>\n",
       "      <td>0.000000</td>\n",
       "      <td>0.000000</td>\n",
       "      <td>1.125000e+05</td>\n",
       "      <td>16524.000000</td>\n",
       "      <td>2.385000e+05</td>\n",
       "      <td>0.010006</td>\n",
       "      <td>-2760.000000</td>\n",
       "      <td>...</td>\n",
       "      <td>5423.685643</td>\n",
       "      <td>5406.840936</td>\n",
       "      <td>2202.512184</td>\n",
       "      <td>1.0</td>\n",
       "      <td>1.650177e-01</td>\n",
       "      <td>5748.887313</td>\n",
       "      <td>6.780362e-02</td>\n",
       "      <td>2296.913148</td>\n",
       "      <td>2393.434059</td>\n",
       "      <td>0.000000</td>\n",
       "    </tr>\n",
       "    <tr>\n",
       "      <th>50%</th>\n",
       "      <td>278202.000000</td>\n",
       "      <td>0.000000</td>\n",
       "      <td>0.000000</td>\n",
       "      <td>1.000000</td>\n",
       "      <td>0.000000</td>\n",
       "      <td>1.471500e+05</td>\n",
       "      <td>24903.000000</td>\n",
       "      <td>4.500000e+05</td>\n",
       "      <td>0.018850</td>\n",
       "      <td>-1648.000000</td>\n",
       "      <td>...</td>\n",
       "      <td>8202.956990</td>\n",
       "      <td>8021.979415</td>\n",
       "      <td>3988.780192</td>\n",
       "      <td>1.0</td>\n",
       "      <td>2.733139e-01</td>\n",
       "      <td>8189.268038</td>\n",
       "      <td>1.291675e-01</td>\n",
       "      <td>4095.754872</td>\n",
       "      <td>4061.153995</td>\n",
       "      <td>0.000000</td>\n",
       "    </tr>\n",
       "    <tr>\n",
       "      <th>75%</th>\n",
       "      <td>367142.500000</td>\n",
       "      <td>0.000000</td>\n",
       "      <td>1.000000</td>\n",
       "      <td>1.000000</td>\n",
       "      <td>1.000000</td>\n",
       "      <td>2.025000e+05</td>\n",
       "      <td>34596.000000</td>\n",
       "      <td>6.795000e+05</td>\n",
       "      <td>0.028663</td>\n",
       "      <td>-933.000000</td>\n",
       "      <td>...</td>\n",
       "      <td>11193.357596</td>\n",
       "      <td>10943.636980</td>\n",
       "      <td>6143.729222</td>\n",
       "      <td>1.0</td>\n",
       "      <td>3.436966e-01</td>\n",
       "      <td>10551.788339</td>\n",
       "      <td>1.902589e-01</td>\n",
       "      <td>6040.364880</td>\n",
       "      <td>5864.893729</td>\n",
       "      <td>0.000000</td>\n",
       "    </tr>\n",
       "    <tr>\n",
       "      <th>max</th>\n",
       "      <td>456255.000000</td>\n",
       "      <td>1.000000</td>\n",
       "      <td>1.000000</td>\n",
       "      <td>1.000000</td>\n",
       "      <td>19.000000</td>\n",
       "      <td>1.170000e+08</td>\n",
       "      <td>258025.500000</td>\n",
       "      <td>4.050000e+06</td>\n",
       "      <td>0.072508</td>\n",
       "      <td>0.000000</td>\n",
       "      <td>...</td>\n",
       "      <td>20343.413401</td>\n",
       "      <td>21659.177777</td>\n",
       "      <td>16843.835329</td>\n",
       "      <td>1.0</td>\n",
       "      <td>7.460627e-01</td>\n",
       "      <td>23682.717619</td>\n",
       "      <td>6.185571e-01</td>\n",
       "      <td>17999.578545</td>\n",
       "      <td>19490.674093</td>\n",
       "      <td>1.000000</td>\n",
       "    </tr>\n",
       "  </tbody>\n",
       "</table>\n",
       "<p>8 rows × 221 columns</p>\n",
       "</div>"
      ],
      "text/plain": [
       "          SK_ID_CURR  NAME_CONTRACT_TYPE   FLAG_OWN_CAR  FLAG_OWN_REALTY  \\\n",
       "count  307511.000000       307511.000000  307511.000000    307511.000000   \n",
       "mean   278180.518577            0.095213       0.340108         0.693673   \n",
       "std    102790.175348            0.293509       0.473746         0.460968   \n",
       "min    100002.000000            0.000000       0.000000         0.000000   \n",
       "25%    189145.500000            0.000000       0.000000         0.000000   \n",
       "50%    278202.000000            0.000000       0.000000         1.000000   \n",
       "75%    367142.500000            0.000000       1.000000         1.000000   \n",
       "max    456255.000000            1.000000       1.000000         1.000000   \n",
       "\n",
       "        CNT_CHILDREN  AMT_INCOME_TOTAL    AMT_ANNUITY  AMT_GOODS_PRICE  \\\n",
       "count  307511.000000      3.075110e+05  307511.000000     3.075110e+05   \n",
       "mean        0.417052      1.687979e+05   27108.573909     5.383962e+05   \n",
       "std         0.722121      2.371231e+05   14493.454517     3.692794e+05   \n",
       "min         0.000000      2.565000e+04    1615.500000     4.050000e+04   \n",
       "25%         0.000000      1.125000e+05   16524.000000     2.385000e+05   \n",
       "50%         0.000000      1.471500e+05   24903.000000     4.500000e+05   \n",
       "75%         1.000000      2.025000e+05   34596.000000     6.795000e+05   \n",
       "max        19.000000      1.170000e+08  258025.500000     4.050000e+06   \n",
       "\n",
       "       REGION_POPULATION_RELATIVE  DAYS_EMPLOYED  ...  \\\n",
       "count               307511.000000  307511.000000  ...   \n",
       "mean                     0.020868   -2251.606131  ...   \n",
       "std                      0.013831    2136.193492  ...   \n",
       "min                      0.000290  -17912.000000  ...   \n",
       "25%                      0.010006   -2760.000000  ...   \n",
       "50%                      0.018850   -1648.000000  ...   \n",
       "75%                      0.028663    -933.000000  ...   \n",
       "max                      0.072508       0.000000  ...   \n",
       "\n",
       "       EXT_SOURCE_2 DAYS_BIRTH_x  EXT_SOURCE_3 DAYS_BIRTH_x  \\\n",
       "count              307511.000000              307511.000000   \n",
       "mean                 8325.842411                8330.543206   \n",
       "std                  3984.019190                3927.612214   \n",
       "min                     0.000891                   4.063106   \n",
       "25%                  5423.685643                5406.840936   \n",
       "50%                  8202.956990                8021.979415   \n",
       "75%                 11193.357596               10943.636980   \n",
       "max                 20343.413401               21659.177777   \n",
       "\n",
       "       EXT_SOURCE_2 EXT_SOURCE_3 DAYS_BIRTH_x       1_y  \\\n",
       "count                           307511.000000  307511.0   \n",
       "mean                              4370.722252       1.0   \n",
       "std                               2771.707263       0.0   \n",
       "min                                  0.000075       1.0   \n",
       "25%                               2202.512184       1.0   \n",
       "50%                               3988.780192       1.0   \n",
       "75%                               6143.729222       1.0   \n",
       "max                              16843.835329       1.0   \n",
       "\n",
       "       EXT_SOURCE_1 EXT_SOURCE_2_y  EXT_SOURCE_1 DAYS_BIRTH_y  \\\n",
       "count                 3.075110e+05              307511.000000   \n",
       "mean                  2.619026e-01                8270.749977   \n",
       "std                   1.291684e-01                3564.314604   \n",
       "min                   2.885325e-08                 132.101482   \n",
       "25%                   1.650177e-01                5748.887313   \n",
       "50%                   2.733139e-01                8189.268038   \n",
       "75%                   3.436966e-01               10551.788339   \n",
       "max                   7.460627e-01               23682.717619   \n",
       "\n",
       "       EXT_SOURCE_1 EXT_SOURCE_2 EXT_SOURCE_3_y  \\\n",
       "count                              3.075110e+05   \n",
       "mean                               1.366996e-01   \n",
       "std                                8.698127e-02   \n",
       "min                                2.630738e-09   \n",
       "25%                                6.780362e-02   \n",
       "50%                                1.291675e-01   \n",
       "75%                                1.902589e-01   \n",
       "max                                6.185571e-01   \n",
       "\n",
       "       EXT_SOURCE_1 EXT_SOURCE_2 DAYS_BIRTH_y  \\\n",
       "count                           307511.000000   \n",
       "mean                              4344.744558   \n",
       "std                               2639.003990   \n",
       "min                                  0.000315   \n",
       "25%                               2296.913148   \n",
       "50%                               4095.754872   \n",
       "75%                               6040.364880   \n",
       "max                              17999.578545   \n",
       "\n",
       "       EXT_SOURCE_1 EXT_SOURCE_3 DAYS_BIRTH_y         TARGET  \n",
       "count                           307511.000000  307511.000000  \n",
       "mean                              4331.922212       0.080729  \n",
       "std                               2564.783770       0.272419  \n",
       "min                                  0.138642       0.000000  \n",
       "25%                               2393.434059       0.000000  \n",
       "50%                               4061.153995       0.000000  \n",
       "75%                               5864.893729       0.000000  \n",
       "max                              19490.674093       1.000000  \n",
       "\n",
       "[8 rows x 221 columns]"
      ]
     },
     "execution_count": 82,
     "metadata": {},
     "output_type": "execute_result"
    }
   ],
   "source": [
    "# Drop irrelevant columns\n",
    "\"\"\"train_data_treated.drop(\n",
    "    columns=highly_decorrelated_from_target.index,\n",
    "    inplace=True,\n",
    "    errors=\"ignore\",\n",
    ")\"\"\"\n",
    "train_data_treated.drop(\n",
    "    columns=highly_correlated.index,\n",
    "    inplace=True,\n",
    "    errors=\"ignore\",\n",
    ")\n",
    "\n",
    "train_data_treated.describe(include=\"all\")"
   ]
  },
  {
   "cell_type": "markdown",
   "id": "ec9a87bc-29b1-4a29-aff0-6a489575b54c",
   "metadata": {},
   "source": [
    "We went from 320 features to 220, which will be easier to treat"
   ]
  },
  {
   "cell_type": "code",
   "execution_count": 103,
   "id": "4d829df3-f18f-41d8-bcf3-ce7ee0c1a481",
   "metadata": {},
   "outputs": [
    {
     "data": {
      "text/html": [
       "<div>\n",
       "<style scoped>\n",
       "    .dataframe tbody tr th:only-of-type {\n",
       "        vertical-align: middle;\n",
       "    }\n",
       "\n",
       "    .dataframe tbody tr th {\n",
       "        vertical-align: top;\n",
       "    }\n",
       "\n",
       "    .dataframe thead th {\n",
       "        text-align: right;\n",
       "    }\n",
       "</style>\n",
       "<table border=\"1\" class=\"dataframe\">\n",
       "  <thead>\n",
       "    <tr style=\"text-align: right;\">\n",
       "      <th></th>\n",
       "      <th>DAYS_EMPLOYED</th>\n",
       "      <th>DAYS_REGISTRATION</th>\n",
       "      <th>DAYS_ID_PUBLISH</th>\n",
       "      <th>DAYS_LAST_PHONE_CHANGE</th>\n",
       "    </tr>\n",
       "  </thead>\n",
       "  <tbody>\n",
       "    <tr>\n",
       "      <th>count</th>\n",
       "      <td>307511.000000</td>\n",
       "      <td>307511.000000</td>\n",
       "      <td>307511.000000</td>\n",
       "      <td>307511.000000</td>\n",
       "    </tr>\n",
       "    <tr>\n",
       "      <th>mean</th>\n",
       "      <td>-2251.606131</td>\n",
       "      <td>-4986.120328</td>\n",
       "      <td>-2994.202373</td>\n",
       "      <td>-962.858788</td>\n",
       "    </tr>\n",
       "    <tr>\n",
       "      <th>std</th>\n",
       "      <td>2136.193492</td>\n",
       "      <td>3522.886321</td>\n",
       "      <td>1509.450419</td>\n",
       "      <td>826.807143</td>\n",
       "    </tr>\n",
       "    <tr>\n",
       "      <th>min</th>\n",
       "      <td>-17912.000000</td>\n",
       "      <td>-24672.000000</td>\n",
       "      <td>-7197.000000</td>\n",
       "      <td>-4292.000000</td>\n",
       "    </tr>\n",
       "    <tr>\n",
       "      <th>25%</th>\n",
       "      <td>-2760.000000</td>\n",
       "      <td>-7479.500000</td>\n",
       "      <td>-4299.000000</td>\n",
       "      <td>-1570.000000</td>\n",
       "    </tr>\n",
       "    <tr>\n",
       "      <th>50%</th>\n",
       "      <td>-1648.000000</td>\n",
       "      <td>-4504.000000</td>\n",
       "      <td>-3254.000000</td>\n",
       "      <td>-757.000000</td>\n",
       "    </tr>\n",
       "    <tr>\n",
       "      <th>75%</th>\n",
       "      <td>-933.000000</td>\n",
       "      <td>-2010.000000</td>\n",
       "      <td>-1720.000000</td>\n",
       "      <td>-274.000000</td>\n",
       "    </tr>\n",
       "    <tr>\n",
       "      <th>max</th>\n",
       "      <td>0.000000</td>\n",
       "      <td>0.000000</td>\n",
       "      <td>0.000000</td>\n",
       "      <td>0.000000</td>\n",
       "    </tr>\n",
       "  </tbody>\n",
       "</table>\n",
       "</div>"
      ],
      "text/plain": [
       "       DAYS_EMPLOYED  DAYS_REGISTRATION  DAYS_ID_PUBLISH  \\\n",
       "count  307511.000000      307511.000000    307511.000000   \n",
       "mean    -2251.606131       -4986.120328     -2994.202373   \n",
       "std      2136.193492        3522.886321      1509.450419   \n",
       "min    -17912.000000      -24672.000000     -7197.000000   \n",
       "25%     -2760.000000       -7479.500000     -4299.000000   \n",
       "50%     -1648.000000       -4504.000000     -3254.000000   \n",
       "75%      -933.000000       -2010.000000     -1720.000000   \n",
       "max         0.000000           0.000000         0.000000   \n",
       "\n",
       "       DAYS_LAST_PHONE_CHANGE  \n",
       "count           307511.000000  \n",
       "mean              -962.858788  \n",
       "std                826.807143  \n",
       "min              -4292.000000  \n",
       "25%              -1570.000000  \n",
       "50%               -757.000000  \n",
       "75%               -274.000000  \n",
       "max                  0.000000  "
      ]
     },
     "execution_count": 103,
     "metadata": {},
     "output_type": "execute_result"
    }
   ],
   "source": [
    "#checking for negative values\n",
    "fully_negative_columns = train_data_treated.columns[(train_data_treated <= 0).all()]\n",
    "train_data_treated[fully_negative_columns].describe()"
   ]
  },
  {
   "cell_type": "markdown",
   "id": "dad57d12-6d9f-4e7d-9c27-67f5f13831ef",
   "metadata": {},
   "source": [
    "These columns have negative values that make sens for the domain but not mathematically.\n",
    "We will use their absolute values instead"
   ]
  },
  {
   "cell_type": "code",
   "execution_count": 104,
   "id": "c26f489b-b961-4f41-9bd3-6616be1994e1",
   "metadata": {},
   "outputs": [],
   "source": [
    "train_data_treated[fully_negative_columns] = train_data_treated[fully_negative_columns].abs()"
   ]
  },
  {
   "cell_type": "markdown",
   "id": "80e0adf5-3e9a-4154-8be8-217680cac3ce",
   "metadata": {},
   "source": [
    "### Saving final data set, ready to be used for models research"
   ]
  },
  {
   "cell_type": "code",
   "execution_count": 105,
   "id": "745a231c-8bbd-4e18-9209-40f60bbd2b4c",
   "metadata": {},
   "outputs": [],
   "source": [
    "train_data_treated.to_csv('data/application_train_treated.csv', index = False)\n",
    "test_data_treated.to_csv('data/application_test_treated.csv', index = False)"
   ]
  },
  {
   "cell_type": "markdown",
   "id": "a814a6c8-d79f-4c5d-94d5-2a8c2e17a407",
   "metadata": {},
   "source": [
    "#### Fixing the Imbalance problem (model notebook)"
   ]
  },
  {
   "cell_type": "markdown",
   "id": "a45d50da-e9d0-4742-945e-3399957f2e62",
   "metadata": {},
   "source": [
    "How do I fix the imbalancing problem of TARGET ? / metrics = AUC"
   ]
  },
  {
   "cell_type": "markdown",
   "id": "9b6f951e-fbf1-4947-8296-1f40cd4b8a49",
   "metadata": {},
   "source": [
    "SMOTE / USM"
   ]
  },
  {
   "cell_type": "markdown",
   "id": "3cca6b78-0e16-4a12-89cf-f1c55949913c",
   "metadata": {},
   "source": [
    "don't drop deccorlated features ! "
   ]
  }
 ],
 "metadata": {
  "kernelspec": {
   "display_name": "Python 3 (ipykernel)",
   "language": "python",
   "name": "python3"
  },
  "language_info": {
   "codemirror_mode": {
    "name": "ipython",
    "version": 3
   },
   "file_extension": ".py",
   "mimetype": "text/x-python",
   "name": "python",
   "nbconvert_exporter": "python",
   "pygments_lexer": "ipython3",
   "version": "3.11.5"
  }
 },
 "nbformat": 4,
 "nbformat_minor": 5
}
