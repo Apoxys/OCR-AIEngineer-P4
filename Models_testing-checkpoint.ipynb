{
 "cells": [
  {
   "cell_type": "code",
   "execution_count": 1,
   "id": "0a278ef7-0c9d-4d69-b805-29dd718ebaee",
   "metadata": {
    "tags": []
   },
   "outputs": [],
   "source": [
    "#Librairies\n",
    "import os\n",
    "\n",
    "#Data treatment libraries\n",
    "import pandas as pd\n",
    "import numpy as np\n",
    "import scipy as sp\n",
    "\n",
    "#Graph librairies\n",
    "import matplotlib.pyplot as plt\n",
    "import seaborn as sns\n",
    "\n",
    "#Data preparation\n",
    "from sklearn.preprocessing import StandardScaler\n",
    "from sklearn.model_selection import train_test_split, cross_validate\n",
    "from imblearn.under_sampling import RandomUnderSampler\n",
    "from imblearn.over_sampling import SMOTE\n",
    "\n",
    "# Metrics and Custom scorer\n",
    "from sklearn.metrics import make_scorer, accuracy_score, precision_score, recall_score, f1_score\n",
    "from sklearn.metrics import confusion_matrix\n",
    "\n",
    "#GridSearch\n",
    "from sklearn.model_selection import KFold, StratifiedKFold\n",
    "from sklearn.model_selection import cross_val_score, GridSearchCV\n",
    "from imblearn.pipeline import Pipeline as imbpipeline\n",
    "\n",
    "\n",
    "#models librairies\n",
    "from sklearn.dummy import DummyClassifier\n",
    "from sklearn.linear_model import LogisticRegression\n",
    "\n",
    "from sklearn.metrics import RocCurveDisplay"
   ]
  },
  {
   "cell_type": "code",
   "execution_count": 2,
   "id": "a0653a46-b87f-410d-b128-2b28750f5779",
   "metadata": {
    "tags": []
   },
   "outputs": [],
   "source": [
    "#Define csv paths\n",
    "csv_file_path_train = os.path.join('data', 'application_train_treated.csv')\n",
    "csv_file_path_test = os.path.join('data', 'application_test_treated.csv')"
   ]
  },
  {
   "cell_type": "code",
   "execution_count": 3,
   "id": "ee2e5f68-d9b3-4eab-96bd-89b4f54b1778",
   "metadata": {
    "tags": []
   },
   "outputs": [],
   "source": [
    "train_data = pd.read_csv(csv_file_path_train)\n",
    "test_data = pd.read_csv(csv_file_path_test)"
   ]
  },
  {
   "cell_type": "code",
   "execution_count": 4,
   "id": "b4b4698c-df9f-43f6-bd18-fed1eb1118dd",
   "metadata": {
    "tags": []
   },
   "outputs": [
    {
     "data": {
      "text/html": [
       "<div>\n",
       "<style scoped>\n",
       "    .dataframe tbody tr th:only-of-type {\n",
       "        vertical-align: middle;\n",
       "    }\n",
       "\n",
       "    .dataframe tbody tr th {\n",
       "        vertical-align: top;\n",
       "    }\n",
       "\n",
       "    .dataframe thead th {\n",
       "        text-align: right;\n",
       "    }\n",
       "</style>\n",
       "<table border=\"1\" class=\"dataframe\">\n",
       "  <thead>\n",
       "    <tr style=\"text-align: right;\">\n",
       "      <th></th>\n",
       "      <th>SK_ID_CURR</th>\n",
       "      <th>NAME_CONTRACT_TYPE</th>\n",
       "      <th>FLAG_OWN_CAR</th>\n",
       "      <th>FLAG_OWN_REALTY</th>\n",
       "      <th>CNT_CHILDREN</th>\n",
       "      <th>AMT_INCOME_TOTAL</th>\n",
       "      <th>AMT_ANNUITY</th>\n",
       "      <th>AMT_GOODS_PRICE</th>\n",
       "      <th>REGION_POPULATION_RELATIVE</th>\n",
       "      <th>DAYS_EMPLOYED</th>\n",
       "      <th>...</th>\n",
       "      <th>EXT_SOURCE_2 DAYS_BIRTH_x</th>\n",
       "      <th>EXT_SOURCE_3 DAYS_BIRTH_x</th>\n",
       "      <th>EXT_SOURCE_2 EXT_SOURCE_3 DAYS_BIRTH_x</th>\n",
       "      <th>1_y</th>\n",
       "      <th>EXT_SOURCE_1 EXT_SOURCE_2_y</th>\n",
       "      <th>EXT_SOURCE_1 DAYS_BIRTH_y</th>\n",
       "      <th>EXT_SOURCE_1 EXT_SOURCE_2 EXT_SOURCE_3_y</th>\n",
       "      <th>EXT_SOURCE_1 EXT_SOURCE_2 DAYS_BIRTH_y</th>\n",
       "      <th>EXT_SOURCE_1 EXT_SOURCE_3 DAYS_BIRTH_y</th>\n",
       "      <th>TARGET</th>\n",
       "    </tr>\n",
       "  </thead>\n",
       "  <tbody>\n",
       "    <tr>\n",
       "      <th>0</th>\n",
       "      <td>100002</td>\n",
       "      <td>0</td>\n",
       "      <td>0</td>\n",
       "      <td>1</td>\n",
       "      <td>0</td>\n",
       "      <td>202500.0</td>\n",
       "      <td>24700.5</td>\n",
       "      <td>351000.0</td>\n",
       "      <td>0.018801</td>\n",
       "      <td>637.0</td>\n",
       "      <td>...</td>\n",
       "      <td>2487.756636</td>\n",
       "      <td>1318.634256</td>\n",
       "      <td>346.733022</td>\n",
       "      <td>1.0</td>\n",
       "      <td>0.021834</td>\n",
       "      <td>785.612748</td>\n",
       "      <td>0.003043</td>\n",
       "      <td>206.575767</td>\n",
       "      <td>109.495390</td>\n",
       "      <td>1</td>\n",
       "    </tr>\n",
       "    <tr>\n",
       "      <th>1</th>\n",
       "      <td>100003</td>\n",
       "      <td>0</td>\n",
       "      <td>0</td>\n",
       "      <td>0</td>\n",
       "      <td>0</td>\n",
       "      <td>270000.0</td>\n",
       "      <td>35698.5</td>\n",
       "      <td>1129500.0</td>\n",
       "      <td>0.003541</td>\n",
       "      <td>1188.0</td>\n",
       "      <td>...</td>\n",
       "      <td>10431.950422</td>\n",
       "      <td>8564.448972</td>\n",
       "      <td>5329.192190</td>\n",
       "      <td>1.0</td>\n",
       "      <td>0.193685</td>\n",
       "      <td>5218.396475</td>\n",
       "      <td>0.098944</td>\n",
       "      <td>3247.125160</td>\n",
       "      <td>2665.833005</td>\n",
       "      <td>0</td>\n",
       "    </tr>\n",
       "    <tr>\n",
       "      <th>2</th>\n",
       "      <td>100004</td>\n",
       "      <td>1</td>\n",
       "      <td>1</td>\n",
       "      <td>1</td>\n",
       "      <td>0</td>\n",
       "      <td>67500.0</td>\n",
       "      <td>6750.0</td>\n",
       "      <td>135000.0</td>\n",
       "      <td>0.010032</td>\n",
       "      <td>225.0</td>\n",
       "      <td>...</td>\n",
       "      <td>10587.901540</td>\n",
       "      <td>13895.327191</td>\n",
       "      <td>7724.580288</td>\n",
       "      <td>1.0</td>\n",
       "      <td>0.279140</td>\n",
       "      <td>9563.564279</td>\n",
       "      <td>0.203651</td>\n",
       "      <td>5316.500943</td>\n",
       "      <td>6977.257942</td>\n",
       "      <td>0</td>\n",
       "    </tr>\n",
       "    <tr>\n",
       "      <th>3</th>\n",
       "      <td>100006</td>\n",
       "      <td>0</td>\n",
       "      <td>0</td>\n",
       "      <td>1</td>\n",
       "      <td>0</td>\n",
       "      <td>135000.0</td>\n",
       "      <td>29686.5</td>\n",
       "      <td>297000.0</td>\n",
       "      <td>0.008019</td>\n",
       "      <td>3039.0</td>\n",
       "      <td>...</td>\n",
       "      <td>12361.644326</td>\n",
       "      <td>9708.759482</td>\n",
       "      <td>6314.981929</td>\n",
       "      <td>1.0</td>\n",
       "      <td>0.326606</td>\n",
       "      <td>9542.976957</td>\n",
       "      <td>0.166848</td>\n",
       "      <td>6207.150063</td>\n",
       "      <td>4875.057512</td>\n",
       "      <td>0</td>\n",
       "    </tr>\n",
       "    <tr>\n",
       "      <th>4</th>\n",
       "      <td>100007</td>\n",
       "      <td>0</td>\n",
       "      <td>0</td>\n",
       "      <td>1</td>\n",
       "      <td>0</td>\n",
       "      <td>121500.0</td>\n",
       "      <td>21865.5</td>\n",
       "      <td>513000.0</td>\n",
       "      <td>0.028663</td>\n",
       "      <td>3038.0</td>\n",
       "      <td>...</td>\n",
       "      <td>6432.819536</td>\n",
       "      <td>10182.320126</td>\n",
       "      <td>3286.224555</td>\n",
       "      <td>1.0</td>\n",
       "      <td>0.162057</td>\n",
       "      <td>10008.451286</td>\n",
       "      <td>0.082787</td>\n",
       "      <td>3230.110423</td>\n",
       "      <td>5112.846426</td>\n",
       "      <td>0</td>\n",
       "    </tr>\n",
       "  </tbody>\n",
       "</table>\n",
       "<p>5 rows × 221 columns</p>\n",
       "</div>"
      ],
      "text/plain": [
       "   SK_ID_CURR  NAME_CONTRACT_TYPE  FLAG_OWN_CAR  FLAG_OWN_REALTY  \\\n",
       "0      100002                   0             0                1   \n",
       "1      100003                   0             0                0   \n",
       "2      100004                   1             1                1   \n",
       "3      100006                   0             0                1   \n",
       "4      100007                   0             0                1   \n",
       "\n",
       "   CNT_CHILDREN  AMT_INCOME_TOTAL  AMT_ANNUITY  AMT_GOODS_PRICE  \\\n",
       "0             0          202500.0      24700.5         351000.0   \n",
       "1             0          270000.0      35698.5        1129500.0   \n",
       "2             0           67500.0       6750.0         135000.0   \n",
       "3             0          135000.0      29686.5         297000.0   \n",
       "4             0          121500.0      21865.5         513000.0   \n",
       "\n",
       "   REGION_POPULATION_RELATIVE  DAYS_EMPLOYED  ...  EXT_SOURCE_2 DAYS_BIRTH_x  \\\n",
       "0                    0.018801          637.0  ...                2487.756636   \n",
       "1                    0.003541         1188.0  ...               10431.950422   \n",
       "2                    0.010032          225.0  ...               10587.901540   \n",
       "3                    0.008019         3039.0  ...               12361.644326   \n",
       "4                    0.028663         3038.0  ...                6432.819536   \n",
       "\n",
       "   EXT_SOURCE_3 DAYS_BIRTH_x  EXT_SOURCE_2 EXT_SOURCE_3 DAYS_BIRTH_x  1_y  \\\n",
       "0                1318.634256                              346.733022  1.0   \n",
       "1                8564.448972                             5329.192190  1.0   \n",
       "2               13895.327191                             7724.580288  1.0   \n",
       "3                9708.759482                             6314.981929  1.0   \n",
       "4               10182.320126                             3286.224555  1.0   \n",
       "\n",
       "   EXT_SOURCE_1 EXT_SOURCE_2_y  EXT_SOURCE_1 DAYS_BIRTH_y  \\\n",
       "0                     0.021834                 785.612748   \n",
       "1                     0.193685                5218.396475   \n",
       "2                     0.279140                9563.564279   \n",
       "3                     0.326606                9542.976957   \n",
       "4                     0.162057               10008.451286   \n",
       "\n",
       "   EXT_SOURCE_1 EXT_SOURCE_2 EXT_SOURCE_3_y  \\\n",
       "0                                  0.003043   \n",
       "1                                  0.098944   \n",
       "2                                  0.203651   \n",
       "3                                  0.166848   \n",
       "4                                  0.082787   \n",
       "\n",
       "   EXT_SOURCE_1 EXT_SOURCE_2 DAYS_BIRTH_y  \\\n",
       "0                              206.575767   \n",
       "1                             3247.125160   \n",
       "2                             5316.500943   \n",
       "3                             6207.150063   \n",
       "4                             3230.110423   \n",
       "\n",
       "   EXT_SOURCE_1 EXT_SOURCE_3 DAYS_BIRTH_y  TARGET  \n",
       "0                              109.495390       1  \n",
       "1                             2665.833005       0  \n",
       "2                             6977.257942       0  \n",
       "3                             4875.057512       0  \n",
       "4                             5112.846426       0  \n",
       "\n",
       "[5 rows x 221 columns]"
      ]
     },
     "execution_count": 4,
     "metadata": {},
     "output_type": "execute_result"
    }
   ],
   "source": [
    "train_data.head()"
   ]
  },
  {
   "cell_type": "code",
   "execution_count": 5,
   "id": "b078632b-c329-4f89-925c-6076c283faa3",
   "metadata": {},
   "outputs": [
    {
     "data": {
      "text/plain": [
       "(307511, 221)"
      ]
     },
     "execution_count": 5,
     "metadata": {},
     "output_type": "execute_result"
    }
   ],
   "source": [
    "train_data.shape"
   ]
  },
  {
   "cell_type": "code",
   "execution_count": 6,
   "id": "b3bb0b80-c86d-44b9-a399-5d19b5562ffd",
   "metadata": {},
   "outputs": [],
   "source": [
    "def null_table(df):\n",
    "    missing_values = df.isnull().sum()\n",
    "    tot_miss = df.isnull().sum().sum()\n",
    "    missing_values_percent = (missing_values*100)/len(train_data)\n",
    "    missing_values_total = (missing_values*100)/tot_miss\n",
    "    table = pd.concat([missing_values, missing_values_percent, missing_values_total], axis=1)\n",
    "    table_renamed = table.rename(\n",
    "        columns = {0 : \"Missing Values\", 1  : \"% of dataset\", 2 : \"% of missing values\"})\n",
    "    final_table = table_renamed[table_renamed.iloc[:,0] != 0].sort_values(\n",
    "        by='Missing Values', ascending=False).round(2)\n",
    "    \n",
    "    \"\"\"print (\"Your selected dataframe has \" + str(df.shape[1]) + \" columns.\\n\"      \n",
    "            \"There are \" + str(final_table.shape[0]) +\n",
    "              \" columns that have missing values.\")\n",
    "\"\"\"\n",
    "    return final_table"
   ]
  },
  {
   "cell_type": "code",
   "execution_count": 7,
   "id": "b97ba908-25cf-42e6-ae19-8f22d3bbea2a",
   "metadata": {},
   "outputs": [
    {
     "data": {
      "text/html": [
       "<div>\n",
       "<style scoped>\n",
       "    .dataframe tbody tr th:only-of-type {\n",
       "        vertical-align: middle;\n",
       "    }\n",
       "\n",
       "    .dataframe tbody tr th {\n",
       "        vertical-align: top;\n",
       "    }\n",
       "\n",
       "    .dataframe thead th {\n",
       "        text-align: right;\n",
       "    }\n",
       "</style>\n",
       "<table border=\"1\" class=\"dataframe\">\n",
       "  <thead>\n",
       "    <tr style=\"text-align: right;\">\n",
       "      <th></th>\n",
       "      <th>Missing Values</th>\n",
       "      <th>% of dataset</th>\n",
       "      <th>% of missing values</th>\n",
       "    </tr>\n",
       "  </thead>\n",
       "  <tbody>\n",
       "  </tbody>\n",
       "</table>\n",
       "</div>"
      ],
      "text/plain": [
       "Empty DataFrame\n",
       "Columns: [Missing Values, % of dataset, % of missing values]\n",
       "Index: []"
      ]
     },
     "execution_count": 7,
     "metadata": {},
     "output_type": "execute_result"
    }
   ],
   "source": [
    "null_table(train_data)"
   ]
  },
  {
   "cell_type": "markdown",
   "id": "c54315fd-f7cb-40a7-a6b4-aa888036ea45",
   "metadata": {},
   "source": [
    "## Treatment before modeling"
   ]
  },
  {
   "cell_type": "markdown",
   "id": "9c05496e-76cc-4eab-b241-bd3ce761813d",
   "metadata": {},
   "source": [
    "Here is a list of known issues to be treated before training models : \n",
    "- Split into train and test datasets\n",
    "- Data are not scaled, which is essential to a large part of the models\n",
    "- We need a custom metric\n",
    "- Our dataset is still imbalanced"
   ]
  },
  {
   "cell_type": "markdown",
   "id": "034ba149-5a22-4307-8883-9c628a899886",
   "metadata": {},
   "source": [
    "### Preparing training and testing set"
   ]
  },
  {
   "cell_type": "code",
   "execution_count": 8,
   "id": "362b7f56-de6a-4487-b2a9-a7c5b2d780ce",
   "metadata": {
    "tags": []
   },
   "outputs": [],
   "source": [
    "#Dividing train_data_scaled into training and testing set to train models\n",
    "\n",
    "#Setting X and y as data and target feature\n",
    "X = train_data.drop([\"TARGET\"], axis=1)\n",
    "y = train_data['TARGET']\n",
    "\n",
    "#Splitting \n",
    "X_train, X_test, y_train, y_test = train_test_split(\n",
    "    X, y, test_size=0.25, random_state=42)"
   ]
  },
  {
   "cell_type": "markdown",
   "id": "bb479460-2a4f-4b5c-84a7-83faa30d3948",
   "metadata": {
    "tags": []
   },
   "source": [
    "### Scaling "
   ]
  },
  {
   "cell_type": "markdown",
   "id": "920d8bd8-6db3-48c2-b1f2-8cb601b2b024",
   "metadata": {},
   "source": [
    "We need to scale everything to a mean of 0 and a stadard deviation of 1"
   ]
  },
  {
   "cell_type": "code",
   "execution_count": 9,
   "id": "ab64deec-0695-4145-9a40-c8ed5addefbc",
   "metadata": {
    "tags": []
   },
   "outputs": [
    {
     "data": {
      "text/html": [
       "<div>\n",
       "<style scoped>\n",
       "    .dataframe tbody tr th:only-of-type {\n",
       "        vertical-align: middle;\n",
       "    }\n",
       "\n",
       "    .dataframe tbody tr th {\n",
       "        vertical-align: top;\n",
       "    }\n",
       "\n",
       "    .dataframe thead th {\n",
       "        text-align: right;\n",
       "    }\n",
       "</style>\n",
       "<table border=\"1\" class=\"dataframe\">\n",
       "  <thead>\n",
       "    <tr style=\"text-align: right;\">\n",
       "      <th></th>\n",
       "      <th>SK_ID_CURR</th>\n",
       "      <th>NAME_CONTRACT_TYPE</th>\n",
       "      <th>FLAG_OWN_CAR</th>\n",
       "      <th>FLAG_OWN_REALTY</th>\n",
       "      <th>CNT_CHILDREN</th>\n",
       "      <th>AMT_INCOME_TOTAL</th>\n",
       "      <th>AMT_ANNUITY</th>\n",
       "      <th>AMT_GOODS_PRICE</th>\n",
       "      <th>REGION_POPULATION_RELATIVE</th>\n",
       "      <th>DAYS_EMPLOYED</th>\n",
       "      <th>...</th>\n",
       "      <th>EXT_SOURCE_2 EXT_SOURCE_3_x</th>\n",
       "      <th>EXT_SOURCE_2 DAYS_BIRTH_x</th>\n",
       "      <th>EXT_SOURCE_3 DAYS_BIRTH_x</th>\n",
       "      <th>EXT_SOURCE_2 EXT_SOURCE_3 DAYS_BIRTH_x</th>\n",
       "      <th>1_y</th>\n",
       "      <th>EXT_SOURCE_1 EXT_SOURCE_2_y</th>\n",
       "      <th>EXT_SOURCE_1 DAYS_BIRTH_y</th>\n",
       "      <th>EXT_SOURCE_1 EXT_SOURCE_2 EXT_SOURCE_3_y</th>\n",
       "      <th>EXT_SOURCE_1 EXT_SOURCE_2 DAYS_BIRTH_y</th>\n",
       "      <th>EXT_SOURCE_1 EXT_SOURCE_3 DAYS_BIRTH_y</th>\n",
       "    </tr>\n",
       "  </thead>\n",
       "  <tbody>\n",
       "    <tr>\n",
       "      <th>count</th>\n",
       "      <td>2.306330e+05</td>\n",
       "      <td>2.306330e+05</td>\n",
       "      <td>2.306330e+05</td>\n",
       "      <td>2.306330e+05</td>\n",
       "      <td>2.306330e+05</td>\n",
       "      <td>2.306330e+05</td>\n",
       "      <td>2.306330e+05</td>\n",
       "      <td>2.306330e+05</td>\n",
       "      <td>2.306330e+05</td>\n",
       "      <td>2.306330e+05</td>\n",
       "      <td>...</td>\n",
       "      <td>2.306330e+05</td>\n",
       "      <td>2.306330e+05</td>\n",
       "      <td>2.306330e+05</td>\n",
       "      <td>2.306330e+05</td>\n",
       "      <td>230633.0</td>\n",
       "      <td>2.306330e+05</td>\n",
       "      <td>2.306330e+05</td>\n",
       "      <td>2.306330e+05</td>\n",
       "      <td>2.306330e+05</td>\n",
       "      <td>2.306330e+05</td>\n",
       "    </tr>\n",
       "    <tr>\n",
       "      <th>mean</th>\n",
       "      <td>2.960685e-17</td>\n",
       "      <td>-5.714183e-17</td>\n",
       "      <td>4.898531e-17</td>\n",
       "      <td>-3.869532e-17</td>\n",
       "      <td>4.713681e-18</td>\n",
       "      <td>3.737980e-16</td>\n",
       "      <td>2.736708e-16</td>\n",
       "      <td>-2.862406e-16</td>\n",
       "      <td>4.757429e-16</td>\n",
       "      <td>8.370635e-17</td>\n",
       "      <td>...</td>\n",
       "      <td>3.749225e-16</td>\n",
       "      <td>-2.135482e-16</td>\n",
       "      <td>4.980790e-16</td>\n",
       "      <td>-1.368662e-16</td>\n",
       "      <td>0.0</td>\n",
       "      <td>-6.971935e-17</td>\n",
       "      <td>-1.481883e-16</td>\n",
       "      <td>9.951104e-18</td>\n",
       "      <td>1.688299e-16</td>\n",
       "      <td>2.834986e-16</td>\n",
       "    </tr>\n",
       "    <tr>\n",
       "      <th>std</th>\n",
       "      <td>1.000002e+00</td>\n",
       "      <td>1.000002e+00</td>\n",
       "      <td>1.000002e+00</td>\n",
       "      <td>1.000002e+00</td>\n",
       "      <td>1.000002e+00</td>\n",
       "      <td>1.000002e+00</td>\n",
       "      <td>1.000002e+00</td>\n",
       "      <td>1.000002e+00</td>\n",
       "      <td>1.000002e+00</td>\n",
       "      <td>1.000002e+00</td>\n",
       "      <td>...</td>\n",
       "      <td>1.000002e+00</td>\n",
       "      <td>1.000002e+00</td>\n",
       "      <td>1.000002e+00</td>\n",
       "      <td>1.000002e+00</td>\n",
       "      <td>0.0</td>\n",
       "      <td>1.000002e+00</td>\n",
       "      <td>1.000002e+00</td>\n",
       "      <td>1.000002e+00</td>\n",
       "      <td>1.000002e+00</td>\n",
       "      <td>1.000002e+00</td>\n",
       "    </tr>\n",
       "    <tr>\n",
       "      <th>min</th>\n",
       "      <td>-1.732803e+00</td>\n",
       "      <td>-3.250054e-01</td>\n",
       "      <td>-7.192166e-01</td>\n",
       "      <td>-1.507452e+00</td>\n",
       "      <td>-5.778908e-01</td>\n",
       "      <td>-1.361620e+00</td>\n",
       "      <td>-1.758123e+00</td>\n",
       "      <td>-1.348107e+00</td>\n",
       "      <td>-1.488511e+00</td>\n",
       "      <td>-1.052962e+00</td>\n",
       "      <td>...</td>\n",
       "      <td>-1.893905e+00</td>\n",
       "      <td>-2.089694e+00</td>\n",
       "      <td>-2.122305e+00</td>\n",
       "      <td>-1.578105e+00</td>\n",
       "      <td>0.0</td>\n",
       "      <td>-2.027713e+00</td>\n",
       "      <td>-2.282487e+00</td>\n",
       "      <td>-1.571361e+00</td>\n",
       "      <td>-1.646486e+00</td>\n",
       "      <td>-1.689305e+00</td>\n",
       "    </tr>\n",
       "    <tr>\n",
       "      <th>25%</th>\n",
       "      <td>-8.676053e-01</td>\n",
       "      <td>-3.250054e-01</td>\n",
       "      <td>-7.192166e-01</td>\n",
       "      <td>-1.507452e+00</td>\n",
       "      <td>-5.778908e-01</td>\n",
       "      <td>-5.335071e-01</td>\n",
       "      <td>-7.316263e-01</td>\n",
       "      <td>-8.126144e-01</td>\n",
       "      <td>-7.856688e-01</td>\n",
       "      <td>-6.172717e-01</td>\n",
       "      <td>...</td>\n",
       "      <td>-7.939575e-01</td>\n",
       "      <td>-7.297072e-01</td>\n",
       "      <td>-7.429893e-01</td>\n",
       "      <td>-7.829374e-01</td>\n",
       "      <td>0.0</td>\n",
       "      <td>-7.507357e-01</td>\n",
       "      <td>-7.081031e-01</td>\n",
       "      <td>-7.921015e-01</td>\n",
       "      <td>-7.758434e-01</td>\n",
       "      <td>-7.545308e-01</td>\n",
       "    </tr>\n",
       "    <tr>\n",
       "      <th>50%</th>\n",
       "      <td>5.767508e-04</td>\n",
       "      <td>-3.250054e-01</td>\n",
       "      <td>-7.192166e-01</td>\n",
       "      <td>6.633711e-01</td>\n",
       "      <td>-5.778908e-01</td>\n",
       "      <td>-2.331553e-01</td>\n",
       "      <td>-1.527680e-01</td>\n",
       "      <td>-2.406110e-01</td>\n",
       "      <td>-1.459059e-01</td>\n",
       "      <td>-2.817296e-01</td>\n",
       "      <td>...</td>\n",
       "      <td>1.593950e-02</td>\n",
       "      <td>-2.955474e-02</td>\n",
       "      <td>-7.977339e-02</td>\n",
       "      <td>-1.374443e-01</td>\n",
       "      <td>0.0</td>\n",
       "      <td>8.694452e-02</td>\n",
       "      <td>-2.270703e-02</td>\n",
       "      <td>-8.601271e-02</td>\n",
       "      <td>-9.451635e-02</td>\n",
       "      <td>-1.059308e-01</td>\n",
       "    </tr>\n",
       "    <tr>\n",
       "      <th>75%</th>\n",
       "      <td>8.663580e-01</td>\n",
       "      <td>-3.250054e-01</td>\n",
       "      <td>1.390402e+00</td>\n",
       "      <td>6.633711e-01</td>\n",
       "      <td>8.100159e-01</td>\n",
       "      <td>3.246410e-01</td>\n",
       "      <td>5.194646e-01</td>\n",
       "      <td>3.800736e-01</td>\n",
       "      <td>5.639531e-01</td>\n",
       "      <td>2.372609e-01</td>\n",
       "      <td>...</td>\n",
       "      <td>7.088963e-01</td>\n",
       "      <td>7.203591e-01</td>\n",
       "      <td>6.650057e-01</td>\n",
       "      <td>6.421607e-01</td>\n",
       "      <td>0.0</td>\n",
       "      <td>6.328789e-01</td>\n",
       "      <td>6.406858e-01</td>\n",
       "      <td>6.154904e-01</td>\n",
       "      <td>6.428745e-01</td>\n",
       "      <td>5.956109e-01</td>\n",
       "    </tr>\n",
       "    <tr>\n",
       "      <th>max</th>\n",
       "      <td>1.729933e+00</td>\n",
       "      <td>3.076872e+00</td>\n",
       "      <td>1.390402e+00</td>\n",
       "      <td>6.633711e-01</td>\n",
       "      <td>2.579234e+01</td>\n",
       "      <td>1.271160e+02</td>\n",
       "      <td>1.591784e+01</td>\n",
       "      <td>9.495618e+00</td>\n",
       "      <td>3.735640e+00</td>\n",
       "      <td>7.329508e+00</td>\n",
       "      <td>...</td>\n",
       "      <td>3.075696e+00</td>\n",
       "      <td>3.017602e+00</td>\n",
       "      <td>3.394789e+00</td>\n",
       "      <td>4.501361e+00</td>\n",
       "      <td>0.0</td>\n",
       "      <td>3.747757e+00</td>\n",
       "      <td>4.325797e+00</td>\n",
       "      <td>5.531789e+00</td>\n",
       "      <td>5.174656e+00</td>\n",
       "      <td>5.905314e+00</td>\n",
       "    </tr>\n",
       "  </tbody>\n",
       "</table>\n",
       "<p>8 rows × 220 columns</p>\n",
       "</div>"
      ],
      "text/plain": [
       "         SK_ID_CURR  NAME_CONTRACT_TYPE  FLAG_OWN_CAR  FLAG_OWN_REALTY  \\\n",
       "count  2.306330e+05        2.306330e+05  2.306330e+05     2.306330e+05   \n",
       "mean   2.960685e-17       -5.714183e-17  4.898531e-17    -3.869532e-17   \n",
       "std    1.000002e+00        1.000002e+00  1.000002e+00     1.000002e+00   \n",
       "min   -1.732803e+00       -3.250054e-01 -7.192166e-01    -1.507452e+00   \n",
       "25%   -8.676053e-01       -3.250054e-01 -7.192166e-01    -1.507452e+00   \n",
       "50%    5.767508e-04       -3.250054e-01 -7.192166e-01     6.633711e-01   \n",
       "75%    8.663580e-01       -3.250054e-01  1.390402e+00     6.633711e-01   \n",
       "max    1.729933e+00        3.076872e+00  1.390402e+00     6.633711e-01   \n",
       "\n",
       "       CNT_CHILDREN  AMT_INCOME_TOTAL   AMT_ANNUITY  AMT_GOODS_PRICE  \\\n",
       "count  2.306330e+05      2.306330e+05  2.306330e+05     2.306330e+05   \n",
       "mean   4.713681e-18      3.737980e-16  2.736708e-16    -2.862406e-16   \n",
       "std    1.000002e+00      1.000002e+00  1.000002e+00     1.000002e+00   \n",
       "min   -5.778908e-01     -1.361620e+00 -1.758123e+00    -1.348107e+00   \n",
       "25%   -5.778908e-01     -5.335071e-01 -7.316263e-01    -8.126144e-01   \n",
       "50%   -5.778908e-01     -2.331553e-01 -1.527680e-01    -2.406110e-01   \n",
       "75%    8.100159e-01      3.246410e-01  5.194646e-01     3.800736e-01   \n",
       "max    2.579234e+01      1.271160e+02  1.591784e+01     9.495618e+00   \n",
       "\n",
       "       REGION_POPULATION_RELATIVE  DAYS_EMPLOYED  ...  \\\n",
       "count                2.306330e+05   2.306330e+05  ...   \n",
       "mean                 4.757429e-16   8.370635e-17  ...   \n",
       "std                  1.000002e+00   1.000002e+00  ...   \n",
       "min                 -1.488511e+00  -1.052962e+00  ...   \n",
       "25%                 -7.856688e-01  -6.172717e-01  ...   \n",
       "50%                 -1.459059e-01  -2.817296e-01  ...   \n",
       "75%                  5.639531e-01   2.372609e-01  ...   \n",
       "max                  3.735640e+00   7.329508e+00  ...   \n",
       "\n",
       "       EXT_SOURCE_2 EXT_SOURCE_3_x  EXT_SOURCE_2 DAYS_BIRTH_x  \\\n",
       "count                 2.306330e+05               2.306330e+05   \n",
       "mean                  3.749225e-16              -2.135482e-16   \n",
       "std                   1.000002e+00               1.000002e+00   \n",
       "min                  -1.893905e+00              -2.089694e+00   \n",
       "25%                  -7.939575e-01              -7.297072e-01   \n",
       "50%                   1.593950e-02              -2.955474e-02   \n",
       "75%                   7.088963e-01               7.203591e-01   \n",
       "max                   3.075696e+00               3.017602e+00   \n",
       "\n",
       "       EXT_SOURCE_3 DAYS_BIRTH_x  EXT_SOURCE_2 EXT_SOURCE_3 DAYS_BIRTH_x  \\\n",
       "count               2.306330e+05                            2.306330e+05   \n",
       "mean                4.980790e-16                           -1.368662e-16   \n",
       "std                 1.000002e+00                            1.000002e+00   \n",
       "min                -2.122305e+00                           -1.578105e+00   \n",
       "25%                -7.429893e-01                           -7.829374e-01   \n",
       "50%                -7.977339e-02                           -1.374443e-01   \n",
       "75%                 6.650057e-01                            6.421607e-01   \n",
       "max                 3.394789e+00                            4.501361e+00   \n",
       "\n",
       "            1_y  EXT_SOURCE_1 EXT_SOURCE_2_y  EXT_SOURCE_1 DAYS_BIRTH_y  \\\n",
       "count  230633.0                 2.306330e+05               2.306330e+05   \n",
       "mean        0.0                -6.971935e-17              -1.481883e-16   \n",
       "std         0.0                 1.000002e+00               1.000002e+00   \n",
       "min         0.0                -2.027713e+00              -2.282487e+00   \n",
       "25%         0.0                -7.507357e-01              -7.081031e-01   \n",
       "50%         0.0                 8.694452e-02              -2.270703e-02   \n",
       "75%         0.0                 6.328789e-01               6.406858e-01   \n",
       "max         0.0                 3.747757e+00               4.325797e+00   \n",
       "\n",
       "       EXT_SOURCE_1 EXT_SOURCE_2 EXT_SOURCE_3_y  \\\n",
       "count                              2.306330e+05   \n",
       "mean                               9.951104e-18   \n",
       "std                                1.000002e+00   \n",
       "min                               -1.571361e+00   \n",
       "25%                               -7.921015e-01   \n",
       "50%                               -8.601271e-02   \n",
       "75%                                6.154904e-01   \n",
       "max                                5.531789e+00   \n",
       "\n",
       "       EXT_SOURCE_1 EXT_SOURCE_2 DAYS_BIRTH_y  \\\n",
       "count                            2.306330e+05   \n",
       "mean                             1.688299e-16   \n",
       "std                              1.000002e+00   \n",
       "min                             -1.646486e+00   \n",
       "25%                             -7.758434e-01   \n",
       "50%                             -9.451635e-02   \n",
       "75%                              6.428745e-01   \n",
       "max                              5.174656e+00   \n",
       "\n",
       "       EXT_SOURCE_1 EXT_SOURCE_3 DAYS_BIRTH_y  \n",
       "count                            2.306330e+05  \n",
       "mean                             2.834986e-16  \n",
       "std                              1.000002e+00  \n",
       "min                             -1.689305e+00  \n",
       "25%                             -7.545308e-01  \n",
       "50%                             -1.059308e-01  \n",
       "75%                              5.956109e-01  \n",
       "max                              5.905314e+00  \n",
       "\n",
       "[8 rows x 220 columns]"
      ]
     },
     "execution_count": 9,
     "metadata": {},
     "output_type": "execute_result"
    }
   ],
   "source": [
    "scaler = StandardScaler()\n",
    "\n",
    "# fit scaler on train data only, to avoid data leak\n",
    "X_train = pd.DataFrame(scaler.fit_transform(X_train), columns=X.columns)\n",
    "\n",
    "X_test = pd.DataFrame(scaler.transform(X_test), columns=X.columns)\n",
    "\n",
    "X_train.describe(include=\"all\")"
   ]
  },
  {
   "cell_type": "markdown",
   "id": "873e1557-19c9-4dc3-a0c1-506770649ca7",
   "metadata": {},
   "source": [
    "### Custom score to use with GridSearchCV"
   ]
  },
  {
   "cell_type": "markdown",
   "id": "629e922f-25a5-43fe-98ae-87285505edaa",
   "metadata": {},
   "source": [
    "make_scorer puis GridCV search pour opti"
   ]
  },
  {
   "cell_type": "markdown",
   "id": "f03c91c1-3eb2-4005-b240-1ec5a1b05eaa",
   "metadata": {},
   "source": [
    "doc make_scorer \\\n",
    "    sign = 1 if greater_is_better else -1 \\ \n",
    "    \n",
    "puisque greater_is_better=False, le signe présenté est négatif \\\n",
    "valable aussi pour le threshold ? "
   ]
  },
  {
   "cell_type": "code",
   "execution_count": 10,
   "id": "8e8d6aa8-555e-4668-9e76-ee2418712296",
   "metadata": {},
   "outputs": [],
   "source": [
    "#optimiser le threshold en dehors de la fonction\n",
    "\n",
    "def custom_cost_function(y, y_pred_probs, threshold = 0.7):\n",
    "     # Calculer la matrice de confusion\n",
    "    y_pred = [1 if prob > threshold else 0 for prob in y_pred_probs]\n",
    "    mat_conf = confusion_matrix(y, y_pred)\n",
    "    tn = mat_conf[0, 0]\n",
    "    fn = mat_conf[0, 1]\n",
    "    tp = mat_conf[1, 1]\n",
    "    fp = mat_conf[1, 0]\n",
    "    # Calculer le coût personnalisé\n",
    "    # print(mat_conf)\n",
    "    cost = 10*fn + 1*fp\n",
    "    \n",
    "    return cost\n",
    "\n",
    "# Créer un scorer personnalisé à partir de la fonction de coût\n",
    "custom_scorer = make_scorer(custom_cost_function, greater_is_better=False, needs_proba=True)"
   ]
  },
  {
   "cell_type": "code",
   "execution_count": 12,
   "id": "2539a34f-beee-4505-afdf-11c5851aabfb",
   "metadata": {},
   "outputs": [],
   "source": [
    "def find_opt_threshold (y, y_pred_probs):\n",
    "    scores = np.array([])\n",
    "    thresholds = np.arange(0,1,0.01)\n",
    "\n",
    "    for threshold in thresholds:\n",
    "        y_pred=y_pred_probs>threshold\n",
    "        mat_conf=confusion_matrix(y, y_pred)\n",
    "        tn = mat_conf[0,0]\n",
    "        tp = mat_conf[1,1]\n",
    "        fn = mat_conf[0,1]\n",
    "        fp = mat_conf[1,0]\n",
    "        \n",
    "        score = 10*fn+1*fp\n",
    "        scores = np.append(scores, score)\n",
    "\n",
    "    best_score = scores.min()\n",
    "    best_threshold = np.arange(0, 1, 0.01)[scores.argmin()]\n",
    "\n",
    "    df = pd.DataFrame(scores, columns=['cost_result'], index=thresholds)\n",
    "    df = df.reset_index().rename(columns={\"index\":\"thresholds\"})\n",
    "\n",
    "    return df, best_score, best_threshold"
   ]
  },
  {
   "cell_type": "code",
   "execution_count": 36,
   "id": "e7e456f4-ab70-41de-bdf5-873b61c23b68",
   "metadata": {},
   "outputs": [],
   "source": [
    "def find_best_threshold(y, y_pred_probs):\n",
    "    scores = np.array([])\n",
    "    thresholds = np.arange(0,1,0.01)\n",
    "    \n",
    "    for threshold in thresholds:\n",
    "        y_pred = y_pred_probs > threshold \n",
    "        mat_conf = confusion_matrix(y, y_pred)\n",
    "        \n",
    "        tn = mat_conf[0, 0]\n",
    "        fn = mat_conf[0, 1]\n",
    "        tp = mat_conf[1, 1]\n",
    "        fp = mat_conf[1, 0]\n",
    "\n",
    "\n",
    "        score = 10*fn + 1*fp\n",
    "        scores = np.append(scores, score)\n",
    "\n",
    "    best_score = scores.min()\n",
    "    best_threshold = np.arange(0, 1, 0.01)[scores.argmin()]\n",
    "    \n",
    "    #print(scores)\n",
    "    #df = pd.DataFrame(scores, columns=['cost_result'], index=thresholds)\n",
    "    #df = df.reset_index().rename(columns={\"index\":\"thresholds\"})\n",
    "\n",
    "    return best_score, best_threshold \n",
    "\n",
    "def score_metier(y, y_pred_probs):\n",
    "    best_score, best_threshold = find_best_threshold(y, y_pred_probs)\n",
    "    return best_score\n",
    "\n",
    "def seuil_metier(y, y_pred_probs):\n",
    "    best_score, best_threshold = find_best_threshold(y, y_pred_probs)\n",
    "    return best_threshold"
   ]
  },
  {
   "cell_type": "code",
   "execution_count": 37,
   "id": "03fce10c-1b0a-4146-9350-24aa82da097c",
   "metadata": {},
   "outputs": [],
   "source": [
    "from sklearn.tree import DecisionTreeClassifier"
   ]
  },
  {
   "cell_type": "code",
   "execution_count": 38,
   "id": "32f28bb7-70ac-48f0-b118-b756f39adc15",
   "metadata": {},
   "outputs": [
    {
     "data": {
      "text/plain": [
       "array([[1., 0.],\n",
       "       [1., 0.],\n",
       "       [1., 0.],\n",
       "       ...,\n",
       "       [1., 0.],\n",
       "       [1., 0.],\n",
       "       [1., 0.]])"
      ]
     },
     "execution_count": 38,
     "metadata": {},
     "output_type": "execute_result"
    }
   ],
   "source": [
    "#Maybe use clf.predict_proba[1] to obtain the proba that it be calssified positive\n",
    "clf_test = DecisionTreeClassifier(random_state=42)\n",
    "clf_test.fit(X_train, y_train)\n",
    "clf_test.predict_proba(X_test)"
   ]
  },
  {
   "cell_type": "code",
   "execution_count": 39,
   "id": "f2e48386-05f8-41e8-a2a7-016e822ab647",
   "metadata": {},
   "outputs": [
    {
     "data": {
      "text/plain": [
       "array([0.35151274, 0.86317273, 0.43937403, ..., 0.6894309 , 0.43971239,\n",
       "       0.67136128])"
      ]
     },
     "execution_count": 39,
     "metadata": {},
     "output_type": "execute_result"
    }
   ],
   "source": [
    "model = search_LR.best_estimator_\n",
    "model.predict_proba(X_test)[:,0]"
   ]
  },
  {
   "cell_type": "markdown",
   "id": "d5617d77-df50-4838-8953-ff7aebd832d3",
   "metadata": {},
   "source": [
    "## Models"
   ]
  },
  {
   "cell_type": "markdown",
   "id": "9dc88222-9a12-4604-b266-1ef834ff1497",
   "metadata": {},
   "source": [
    "### Baseline"
   ]
  },
  {
   "cell_type": "markdown",
   "id": "a789c0f7-5fed-4897-a75c-a46fff2d7279",
   "metadata": {},
   "source": [
    "We will first estblish a baseline with a dummy classifier"
   ]
  },
  {
   "cell_type": "code",
   "execution_count": 40,
   "id": "432512b9-b670-400e-a445-4b7611de347d",
   "metadata": {
    "tags": []
   },
   "outputs": [
    {
     "data": {
      "text/plain": [
       "0.9192049706676841"
      ]
     },
     "execution_count": 40,
     "metadata": {},
     "output_type": "execute_result"
    }
   ],
   "source": [
    "#First try with dummy classifier\n",
    "dummy_clf = DummyClassifier()\n",
    "dummy_clf.fit(X_train, y_train)\n",
    "#dummy_clf.predict_proba(X_test)\n",
    "dummy_clf.score(X_train, y_train)"
   ]
  },
  {
   "cell_type": "code",
   "execution_count": 41,
   "id": "5e75f0c8-3e24-4520-92c8-887661f8d80a",
   "metadata": {
    "tags": []
   },
   "outputs": [
    {
     "data": {
      "text/plain": [
       "array([[0.91920497, 0.08079503],\n",
       "       [0.91920497, 0.08079503],\n",
       "       [0.91920497, 0.08079503],\n",
       "       ...,\n",
       "       [0.91920497, 0.08079503],\n",
       "       [0.91920497, 0.08079503],\n",
       "       [0.91920497, 0.08079503]])"
      ]
     },
     "execution_count": 41,
     "metadata": {},
     "output_type": "execute_result"
    }
   ],
   "source": [
    "dummy_clf.predict_proba(X_train)"
   ]
  },
  {
   "cell_type": "code",
   "execution_count": 42,
   "id": "b3a1de76-dd25-489e-8226-771ccd083776",
   "metadata": {
    "tags": []
   },
   "outputs": [
    {
     "data": {
      "image/png": "[encoded data removed]",
      "text/plain": [
       "<Figure size 640x480 with 1 Axes>"
      ]
     },
     "metadata": {},
     "output_type": "display_data"
    }
   ],
   "source": [
    "svc_disp = RocCurveDisplay.from_estimator(dummy_clf, X_train, y_train)\n",
    "plt.show()"
   ]
  },
  {
   "cell_type": "markdown",
   "id": "4d8116bf-52a0-45ff-8287-4e280060f0f2",
   "metadata": {},
   "source": [
    "The result observed here is established with the 'most frequent' strategy from DummyClassifier. \\\n",
    "However, we know that our data are mainly filled with 'TARGET' = 0, and only 8% are 'TARGET' = 1. \\\n",
    "Obtained result means that our model is just predicting 0s everywhere, with a probability of 91.92%\n",
    "\n",
    "We need to adress the imbalance problem before any advances can be made"
   ]
  },
  {
   "cell_type": "markdown",
   "id": "6bec08f3-4f56-45e5-8c76-e2890222f6b2",
   "metadata": {},
   "source": [
    "SMOTE \\ RUS\n",
    "\n",
    "https://imbalanced-learn.org/stable/references/generated/imblearn.under_sampling.RandomUnderSampler.html \\\n",
    "https://imbalanced-learn.org/stable/references/generated/imblearn.over_sampling.SMOTE.html\n",
    "\n",
    "Had to downgrade sklearn to 1.2.2 in order to run SMOTE and RUS"
   ]
  },
  {
   "cell_type": "markdown",
   "id": "f44957f3-a909-4c2a-887e-64c47cd81c09",
   "metadata": {},
   "source": [
    "We will use GridSearch to find the best hyperparameters for each model"
   ]
  },
  {
   "cell_type": "markdown",
   "id": "e0e61a4c-f76c-4981-9a84-ded6a5a2c073",
   "metadata": {},
   "source": [
    "### Model training linear : logisitic regression \\ Ridge \\ SVM"
   ]
  },
  {
   "cell_type": "markdown",
   "id": "71ab9e77-6a9b-4fae-ab76-e3ea1f4f3491",
   "metadata": {},
   "source": [
    "#### Logisitic regression"
   ]
  },
  {
   "cell_type": "code",
   "execution_count": 43,
   "id": "2cfd5956-2efb-48c4-9702-ce25a4303249",
   "metadata": {},
   "outputs": [],
   "source": [
    "def train_model(model,params,scores,X,y):\n",
    "    '''\n",
    "    Train model with CV and grid search.\n",
    "            Parameters:\n",
    "                    model: model's initialization\n",
    "                    params : model's hyperparametres\n",
    "                    X, y : Data to train\n",
    "            Returns:\n",
    "                    grid search results\n",
    "    '''\n",
    "\n",
    "\n",
    "\n",
    "    pipeline = imbpipeline(steps = [\n",
    "        ['smote_over', SMOTE(random_state=11,sampling_strategy=0.1)],\n",
    "                                #The original paper suggested combining SMOTE with random undersampling of the majority class\n",
    "                                ['smote_under',RandomUnderSampler(sampling_strategy=0.5)],\n",
    "                                ['classifier',model]])\n",
    "\n",
    "\n",
    "    grid_search = GridSearchCV(estimator=pipeline,\n",
    "                           param_grid=params,\n",
    "                           scoring=scores,\n",
    "                           refit = 'score_metier',\n",
    "                           cv=StratifiedKFold(n_splits=3,shuffle=True, random_state=11), #stratified is better because its keeps percentage of PT/TF in samples\n",
    "                           n_jobs=-1)\n",
    "\n",
    "    return grid_search.fit(X,y)"
   ]
  },
  {
   "cell_type": "code",
   "execution_count": 44,
   "id": "7f847b64-730d-4dac-9e86-d020828f993f",
   "metadata": {},
   "outputs": [],
   "source": [
    "scores = {'roc_auc': 'roc_auc', \n",
    "          'precision':'precision',\n",
    "          'recall':'recall', \n",
    "          'score_metier': make_scorer(score_metier, needs_proba=True, greater_is_better=False),\n",
    "          'seuil_metier': make_scorer(seuil_metier, needs_proba=True, greater_is_better=False)}\n",
    "#https://scikit-learn.org/stable/auto_examples/model_selection/plot_multi_metric_evaluation.html"
   ]
  },
  {
   "cell_type": "code",
   "execution_count": null,
   "id": "9e3f4db4-f6a3-4d70-803a-f2e362c2f9eb",
   "metadata": {},
   "outputs": [],
   "source": [
    "model_LR = LogisticRegression(random_state=11,max_iter=1000,solver='liblinear')\n",
    "params_LR = {'classifier__penalty' : ['l1', 'l2'], 'classifier__C' : [0.001, 0.01, 0.1, 1, 10, 100, 1000]}\n",
    "search_LR = train_model(model_LR,params_LR, scores,X_train,y_train)\n",
    "#execution time 220 secs =>> 87 secs (new version took over 5minutes)\n",
    "#execution time with custom score over 657secs\n",
    "print('best params:',search_LR.best_params_)\n",
    "\n",
    "seuils_metier_tous_modeles = search_LR.cv_results_['mean_test_seuil_metier']\n",
    "seuil_metier_best_modele = seuils_metier_tous_modeles[search_LR.best_index_]\n",
    "\n",
    "print('Seuil moyen best model:', -seuil_metier_best_modele)\n",
    "print('Score métier correspondant:', -search_LR.best_score_)\n",
    "#print('Résultats:', search_LR.cv_results_)\n",
    "LR_results = pd.DataFrame(search_LR.cv_results_)\n",
    "LR_results"
   ]
  },
  {
   "cell_type": "code",
   "execution_count": null,
   "id": "917428c7-a402-4bef-8143-285b8607931d",
   "metadata": {},
   "outputs": [],
   "source": [
    "import scikitplot as skplt"
   ]
  },
  {
   "cell_type": "code",
   "execution_count": null,
   "id": "25df3204-959a-4bd1-8304-867acc8479d7",
   "metadata": {},
   "outputs": [],
   "source": [
    "best_model_LR = search_LR.best_estimator_\n",
    "y_LR_pred = best_model_LR.predict(X_test)\n",
    "\n",
    "skplt.metrics.plot_confusion_matrix(y_test, y_LR_pred, normalize=False, title = 'Confusion Matrix for LR')"
   ]
  },
  {
   "cell_type": "code",
   "execution_count": null,
   "id": "06b74e3c-5431-4e7b-b8b8-1a5117d8acc0",
   "metadata": {},
   "outputs": [],
   "source": [
    "# Plot ROC curve for the best estimator LogisitcRegression\n",
    "RocCurveDisplay.from_estimator(best_model_LR, X_test, y_test)\n",
    "plt.title('ROC Curve for the best model LR')\n",
    "plt.show()"
   ]
  },
  {
   "cell_type": "code",
   "execution_count": null,
   "id": "413bb1e7-d923-468a-8bb1-8fd1fbe4b9a7",
   "metadata": {},
   "outputs": [],
   "source": [
    "'''# Obtenir les meilleurs paramètres et scores\n",
    "best_params = gridsearch_result.best_params_\n",
    "best_score = gridsearch_result.best_score_\n",
    "print(\"Meilleurs paramètres:\", best_params)\n",
    "print(\"Meilleur score selon le coût métier:\", best_score)\n",
    "\n",
    "# Afficher des métriques pour le meilleur modèle\n",
    "cv_results = gridsearch_result.cv_results_\n",
    "for metric in ['mean_test_accuracy', 'mean_test_precision', 'mean_test_recall', 'mean_test_f1', 'mean_test_business_cost']:\n",
    "    print(f\"{metric}: {cv_results[metric][gridsearch_result.best_index_]}\")'''"
   ]
  },
  {
   "cell_type": "markdown",
   "id": "cbeeb4b6-a2a1-4929-a059-62f205644a8f",
   "metadata": {},
   "source": [
    "#### Ridge"
   ]
  },
  {
   "cell_type": "code",
   "execution_count": null,
   "id": "6c36b023-c51d-4e23-8279-ebfc06db68c2",
   "metadata": {},
   "outputs": [],
   "source": [
    "from sklearn.linear_model import RidgeClassifier"
   ]
  },
  {
   "cell_type": "code",
   "execution_count": null,
   "id": "5c8e4682-73cb-42b5-abc7-c77475d2a9ec",
   "metadata": {},
   "outputs": [],
   "source": [
    "#not pertinent\n",
    "'''model_RC = RidgeClassifier(random_state=42)\n",
    "params_RC = {'classifier__alpha' : [0.1, 1], \n",
    "          'classifier__max_iter' : [1000, 2000]}\n",
    "\n",
    "scores_RC = {'score_metier': make_scorer(score_metier, needs_proba=True, greater_is_better=False),\n",
    "          'seuil_metier': make_scorer(seuil_metier, needs_proba=True, greater_is_better=False)}\n",
    "\n",
    "search_RC = train_model(model_RC,params_RC, scores,X_train,y_train)\n",
    "\n",
    "#execution time 220 secs =>> 87 secs (new version took over 5minutes)\n",
    "#execution time with custom score over 657secs\n",
    "print('best params:',search_RC.best_params_)\n",
    "\n",
    "seuils_metier_tous_modeles = search_RC.cv_results_['mean_test_seuil_metier']\n",
    "seuil_metier_best_modele = seuils_metier_tous_modeles[search_RC.best_index_]\n",
    "\n",
    "print('Seuil moyen best model:', seuil_metier_best_modele)\n",
    "print('Score métier correspondant:', search_RC.best_score_)\n",
    "print('Résultats:', search_RC.cv_results_)'''"
   ]
  },
  {
   "cell_type": "markdown",
   "id": "e897ac0f-c045-4ab0-ab26-5ab30c27b669",
   "metadata": {},
   "source": [
    "### Model training non-linear : SVM classifier \\ simple NN (perceptron)"
   ]
  },
  {
   "cell_type": "code",
   "execution_count": null,
   "id": "4218495e-a735-4903-87c5-f2dae69b284c",
   "metadata": {},
   "outputs": [],
   "source": [
    "from sklearn.svm import SVC"
   ]
  },
  {
   "cell_type": "code",
   "execution_count": null,
   "id": "012616bb-9a7e-44ec-9d9c-442595452ab9",
   "metadata": {},
   "outputs": [],
   "source": [
    "model_SVC = SVC(random_state=42)\n",
    "params_SVC = {'classifier__C' : [0.1, 1, 10], \n",
    "              'classifier__max_iter' : [1000, 2000],\n",
    "              'classifier__probability': [True]}\n",
    "\n",
    "scores_SVC = {'score_metier': make_scorer(score_metier, needs_proba=True, greater_is_better=False),\n",
    "          'seuil_metier': make_scorer(seuil_metier, needs_proba=True, greater_is_better=False)}\n",
    "\n",
    "search_SVC = train_model(model_SVC,params_SVC, scores,X_train,y_train)\n",
    "\n",
    "print('best params:',search_SVC.best_params_)\n",
    "\n",
    "seuils_metier_tous_modeles = search_SVC.cv_results_['mean_test_seuil_metier']\n",
    "seuil_metier_best_modele = seuils_metier_tous_modeles[search_SVC.best_index_]\n",
    "\n",
    "print('Seuil moyen best model:', seuil_metier_best_modele)\n",
    "print('Score métier correspondant:', search_SVC.best_score_)\n",
    "print('Résultats:', search_SVC.cv_results_)\n",
    "#execution time 1950secs\n",
    "#acceptable => 2 hours run time ?"
   ]
  },
  {
   "cell_type": "markdown",
   "id": "1f19cc60-d7ae-4ff7-84f5-e4d66e2e7102",
   "metadata": {},
   "source": [
    "1- Sample des données pour réduire le running time => 5% des données \n",
    "Attention à la répartition de la TARGET dans le sample\n",
    "\n",
    "2- Supprimer des features pour faire tourner le SVC => faire tourner \n",
    "\n",
    "3- Tester sur google collab => prendre la puissance de calcul chez google / tester en priorité"
   ]
  },
  {
   "cell_type": "code",
   "execution_count": null,
   "id": "5de833d6-9874-4cbf-9b1a-de3db8dac0b7",
   "metadata": {},
   "outputs": [],
   "source": [
    "best_model_SVC = search_SVC.best_estimator_\n",
    "y_SVC_pred = best_model_SVC.predict(X_test)\n",
    "\n",
    "skplt.metrics.plot_confusion_matrix(y_test, y_SVC_pred, normalize=False, title = 'Confusion Matrix for SVC')\n",
    "# Plot ROC curve for the best estimator LogisitcRegression\n",
    "RocCurveDisplay.from_estimator(best_model_SVC, X_test, y_test)\n",
    "plt.title('ROC Curve for the best model SVC')\n",
    "plt.show()"
   ]
  },
  {
   "cell_type": "markdown",
   "id": "d4659e5c-9d9d-47d9-8acf-2c650370c7ce",
   "metadata": {},
   "source": [
    "### Model training ensemble : Random forest classifier \\ LGBM classifier \\ XGboost classifier"
   ]
  },
  {
   "cell_type": "markdown",
   "id": "1daee306-2be3-4b8a-8b36-d1a2a9fafabe",
   "metadata": {},
   "source": [
    "#### Random forest "
   ]
  },
  {
   "cell_type": "code",
   "execution_count": null,
   "id": "854f10d8-0569-4d39-84a6-602f46e0fdaf",
   "metadata": {},
   "outputs": [],
   "source": [
    "from sklearn.ensemble import RandomForestClassifier"
   ]
  },
  {
   "cell_type": "code",
   "execution_count": null,
   "id": "b00fd037-1d95-4be0-bcd9-efd4755cdee7",
   "metadata": {},
   "outputs": [],
   "source": [
    "model_RFC = RandomForestClassifier(random_state=42)\n",
    "params_RFC = {'classifier__n_estimators' : [10, 100], #n_estimator à déveloper stp\n",
    "              'classifier__min_samples_split' : [1, 2, 3],\n",
    "              'classifier__bootstrap' : [True],\n",
    "              'classifier__oob_score': [True]}\n",
    "\n",
    "scores_RFC = {'score_metier': make_scorer(score_metier, needs_proba=True, greater_is_better=False),\n",
    "          'seuil_metier': make_scorer(seuil_metier, needs_proba=True, greater_is_better=False)}\n",
    "\n",
    "search_RFC = train_model(model_RFC,params_RFC, scores,X_train,y_train)\n",
    "\n",
    "print('best params:',search_RFC.best_params_)\n",
    "\n",
    "seuils_metier_tous_modeles = search_RFC.cv_results_['mean_test_seuil_metier']\n",
    "seuil_metier_best_modele = seuils_metier_tous_modeles[search_RFC.best_index_]\n",
    "\n",
    "print('Seuil moyen best model:', -seuil_metier_best_modele)\n",
    "print('Score métier correspondant:', -search_RFC.best_score_)\n",
    "#print('Résultats:', search_RFC.cv_results_)"
   ]
  },
  {
   "cell_type": "markdown",
   "id": "e50f6f68-f60d-43fb-8ecd-9d54f795590b",
   "metadata": {},
   "source": [
    "VERIFIE LE DATASET, IL DOIT Y AVOIR DES DIVISION PAR ZERO !!\n",
    "\n",
    "Vérifie le make_scorer\n",
    "\n",
    "Affiche la croube ROC de chaque modele\n",
    "\n",
    "data/*\n",
    ".ipynb_checkpoints/*"
   ]
  },
  {
   "cell_type": "code",
   "execution_count": null,
   "id": "be6c1e93-916e-4294-9f1a-232d5f81e52f",
   "metadata": {},
   "outputs": [],
   "source": [
    "best_model_RFC = search_RFC.best_estimator_\n",
    "y_RFC_pred = best_model_RFC.predict(X_test)\n",
    "\n",
    "skplt.metrics.plot_confusion_matrix(y_test, y_RFC_pred, normalize=False, title = 'Confusion Matrix for SVC')\n",
    "# Plot ROC curve for the best estimator LogisitcRegression\n",
    "RocCurveDisplay.from_estimator(best_model_RFC, X_test, y_test)\n",
    "plt.title('ROC Curve for the best model SVC')\n",
    "plt.show()"
   ]
  },
  {
   "cell_type": "markdown",
   "id": "c8a996c2-88e1-40c1-94d4-daa661d29cbc",
   "metadata": {},
   "source": [
    "#### XGBoost"
   ]
  },
  {
   "cell_type": "code",
   "execution_count": null,
   "id": "35a4e4ee-adb9-49fe-b5ef-623b36ac9076",
   "metadata": {},
   "outputs": [],
   "source": [
    "from xgboost import XGBClassifier"
   ]
  },
  {
   "cell_type": "code",
   "execution_count": null,
   "id": "fda80366-45f7-4627-b9e3-e1b7adec4363",
   "metadata": {},
   "outputs": [],
   "source": [
    "params = {\n",
    "        'classifier__gamma': [0.5, 1, 1.5, 2],\n",
    "        'classifier__min_child_weight': [1, 5, 10],\n",
    "        'classifier__subsample': [0.6, 0.8, 1.0],\n",
    "        'classifier__max_depth': [3, 4]\n",
    "        }\n",
    "\n",
    "model_XGB = XGBClassifier()\n",
    "\n",
    "search_XGB = train_model(model_XGB ,params, scores,X_train,y_train)\n",
    "\n",
    "print('best params:',search_XGB.best_params_)\n",
    "\n",
    "seuils_metier_tous_modeles = search_XGB.cv_results_['mean_test_seuil_metier']\n",
    "seuil_metier_best_modele = seuils_metier_tous_modeles[search_RFC.best_index_]\n",
    "\n",
    "print('Seuil moyen best model:', seuil_metier_best_modele)\n",
    "print('Score métier correspondant:', -search_XGB.best_score_)\n",
    "XGB_results = pd.DataFrame(-search_XGB.cv_results_)\n",
    "XGB_results"
   ]
  },
  {
   "cell_type": "code",
   "execution_count": null,
   "id": "a728c3f0-f09e-47ec-a597-ad1b85773c82",
   "metadata": {},
   "outputs": [],
   "source": [
    "best_model_XGB = search_XGB.best_estimator_\n",
    "y_XGB_pred = best_model_XGB.predict(X_test)\n",
    "\n",
    "skplt.metrics.plot_confusion_matrix(y_test, y_XGB_pred, normalize=False, title = 'Confusion Matrix for SVC')\n",
    "# Plot ROC curve for the best estimator LogisitcRegression\n",
    "RocCurveDisplay.from_estimator(best_model_XGB, X_test, y_test)\n",
    "plt.title('ROC Curve for the best model XGB')\n",
    "plt.show()"
   ]
  },
  {
   "cell_type": "markdown",
   "id": "e964338d-2319-4497-ba80-8a65fb529565",
   "metadata": {},
   "source": [
    "## Explainability : Feature importance"
   ]
  },
  {
   "cell_type": "markdown",
   "id": "faa06bd1-b72f-46fa-befb-31fdf843985d",
   "metadata": {},
   "source": [
    "import SHAP"
   ]
  },
  {
   "cell_type": "code",
   "execution_count": null,
   "id": "acbfc4a5-1789-4ab1-827f-b7085f141add",
   "metadata": {},
   "outputs": [],
   "source": [
    "import shap"
   ]
  },
  {
   "cell_type": "code",
   "execution_count": null,
   "id": "b53c2147-03e7-4453-a6d0-9f537dfceb4a",
   "metadata": {},
   "outputs": [],
   "source": [
    "#testing shap using the best estimator of RandomForest\n",
    "XGB_best_pipeline = search_XGB.best_estimator_\n",
    "XGB_final = XGB_best_pipeline.named_steps['classifier']\n",
    "\n",
    "explainer = shap.Explainer(XGB_final)\n",
    "shap_values = explainer(X_train)\n",
    "shap.plots.waterfall(shap_values[0])"
   ]
  }
 ],
 "metadata": {
  "kernelspec": {
   "display_name": "Python 3 (ipykernel)",
   "language": "python",
   "name": "python3"
  },
  "language_info": {
   "codemirror_mode": {
    "name": "ipython",
    "version": 3
   },
   "file_extension": ".py",
   "mimetype": "text/x-python",
   "name": "python",
   "nbconvert_exporter": "python",
   "pygments_lexer": "ipython3",
   "version": "3.11.5"
  }
 },
 "nbformat": 4,
 "nbformat_minor": 5
}
